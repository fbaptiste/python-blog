{
 "cells": [
  {
   "cell_type": "markdown",
   "id": "36a1ccd9",
   "metadata": {},
   "source": [
    "### Generators"
   ]
  },
  {
   "cell_type": "markdown",
   "id": "0d163f37",
   "metadata": {},
   "source": [
    "We'll look at generator expressions first."
   ]
  },
  {
   "cell_type": "markdown",
   "id": "622e8af2",
   "metadata": {},
   "source": [
    "Generator expressions, like list comprehensions, essentially use the same syntax - a comprehension syntax.\n",
    "\n",
    "Let's see an example of a list comprehension:"
   ]
  },
  {
   "cell_type": "markdown",
   "id": "4ac1ff80",
   "metadata": {},
   "source": [
    "We want to get a list of numbers whose square root and cube roots are both integers."
   ]
  },
  {
   "cell_type": "code",
   "execution_count": 1,
   "id": "6d44450c",
   "metadata": {},
   "outputs": [],
   "source": [
    "from math import sqrt, cbrt\n",
    "# cbrt is only available in Python 3.11 and higher\n",
    "\n",
    "lst = [\n",
    "    (i, int(sq), int(cb))\n",
    "    for i in range(2, 100)\n",
    "    if (sq := sqrt(i)) == int(sq) and (cb := cbrt(i)) == int(cb)\n",
    "]"
   ]
  },
  {
   "cell_type": "code",
   "execution_count": 2,
   "id": "b9423a49",
   "metadata": {},
   "outputs": [
    {
     "data": {
      "text/plain": [
       "[(64, 8, 4)]"
      ]
     },
     "execution_count": 2,
     "metadata": {},
     "output_type": "execute_result"
    }
   ],
   "source": [
    "lst"
   ]
  },
  {
   "cell_type": "markdown",
   "id": "1d90deb4",
   "metadata": {},
   "source": [
    "Now, I want the first 5 numbers, but I have no idea what range I should use, so I'm going to try some large number:"
   ]
  },
  {
   "cell_type": "code",
   "execution_count": 3,
   "id": "16cda4ba",
   "metadata": {},
   "outputs": [],
   "source": [
    "lst = [\n",
    "    (i, int(sq), int(cb))\n",
    "    for i in range(2, 10_000)\n",
    "    if (sq := sqrt(i)) == int(sq) and (cb := cbrt(i)) == int(cb)\n",
    "]\n",
    "lst"
   ]
  },
  {
   "cell_type": "markdown",
   "id": "d16626a7",
   "metadata": {},
   "source": [
    "Still not enough, let's go higher:"
   ]
  },
  {
   "cell_type": "code",
   "execution_count": 4,
   "id": "dfb5296f",
   "metadata": {},
   "outputs": [
    {
     "data": {
      "text/plain": [
       "[(64, 8, 4), (729, 27, 9), (4096, 64, 16), (15625, 125, 25), (46656, 216, 36)]"
      ]
     },
     "execution_count": 4,
     "metadata": {},
     "output_type": "execute_result"
    }
   ],
   "source": [
    "lst = [\n",
    "    (i, int(sq), int(cb))\n",
    "    for i in range(2, 100_000)\n",
    "    if (sq := sqrt(i)) == int(sq) and (cb := cbrt(i)) == int(cb)\n",
    "]\n",
    "lst"
   ]
  },
  {
   "cell_type": "markdown",
   "id": "44572edc",
   "metadata": {},
   "source": [
    "Ok, so I have 5 numbers. But notice how I ended up doing more calculations that I actually needed (I ran the loop `100_000` times, but I only really needed to run `46_656`).\n",
    "\n",
    "Now, what if I now wanted 10? We'll have to go higher yet:"
   ]
  },
  {
   "cell_type": "code",
   "execution_count": 5,
   "id": "a0d278e2",
   "metadata": {},
   "outputs": [
    {
     "data": {
      "text/plain": [
       "[(64, 8, 4),\n",
       " (729, 27, 9),\n",
       " (4096, 64, 16),\n",
       " (15625, 125, 25),\n",
       " (46656, 216, 36),\n",
       " (117649, 343, 49),\n",
       " (262144, 512, 64),\n",
       " (531441, 729, 81),\n",
       " (1000000, 1000, 100),\n",
       " (1771561, 1331, 121),\n",
       " (2985984, 1728, 144),\n",
       " (4826809, 2197, 169)]"
      ]
     },
     "execution_count": 5,
     "metadata": {},
     "output_type": "execute_result"
    }
   ],
   "source": [
    "lst = [\n",
    "    (i, int(sq), int(cb))\n",
    "    for i in range(2, 5_000_000)\n",
    "    if (sq := sqrt(i)) == int(sq) and (cb := cbrt(i)) == int(cb)\n",
    "]\n",
    "lst"
   ]
  },
  {
   "cell_type": "markdown",
   "id": "c3c7ce35",
   "metadata": {},
   "source": [
    "Ok, so I have 12, more than I actually needed, but that will work to get the first 10:"
   ]
  },
  {
   "cell_type": "code",
   "execution_count": 6,
   "id": "1457f087",
   "metadata": {},
   "outputs": [
    {
     "data": {
      "text/plain": [
       "[(64, 8, 4),\n",
       " (729, 27, 9),\n",
       " (4096, 64, 16),\n",
       " (15625, 125, 25),\n",
       " (46656, 216, 36),\n",
       " (117649, 343, 49),\n",
       " (262144, 512, 64),\n",
       " (531441, 729, 81),\n",
       " (1000000, 1000, 100),\n",
       " (1771561, 1331, 121)]"
      ]
     },
     "execution_count": 6,
     "metadata": {},
     "output_type": "execute_result"
    }
   ],
   "source": [
    "lst = [\n",
    "    (i, int(sq), int(cb))\n",
    "    for i in range(2, 5_000_000)\n",
    "    if (sq := sqrt(i)) == int(sq) and (cb := cbrt(i)) == int(cb)\n",
    "]\n",
    "results = lst[:10]\n",
    "results"
   ]
  },
  {
   "cell_type": "markdown",
   "id": "c8ccf2a0",
   "metadata": {},
   "source": [
    "There are a number of problems with this approach:\n",
    "- If I want the first 10, or 20, or 30, or N in general, I have no idea what that range should be\n",
    "- I may have a program where I don't know ahead of time how many numbers I will need from that result - how to get around that?\n",
    "- I could just pick a huger number for the range, and hope that it will cover all the cases I need - but that's wasteful."
   ]
  },
  {
   "cell_type": "markdown",
   "id": "ce39961e",
   "metadata": {},
   "source": [
    "So, instead of using a list comprehension, we could try a generator expression. The main advantage here is that generator expressions only calculate one \"iteration\" at a time, so we don't waste producing more results than we need."
   ]
  },
  {
   "cell_type": "markdown",
   "id": "14949717",
   "metadata": {},
   "source": [
    "But, we still need to specify some range - however that has no upfront cost:"
   ]
  },
  {
   "cell_type": "code",
   "execution_count": 7,
   "id": "b5484481",
   "metadata": {},
   "outputs": [],
   "source": [
    "results = (\n",
    "    (i, int(sq), int(cb))\n",
    "    for i in range(2, 50_000_000)\n",
    "    if (sq := sqrt(i)) == int(sq) and (cb := cbrt(i)) == int(cb)\n",
    ")"
   ]
  },
  {
   "cell_type": "markdown",
   "id": "45f5af98",
   "metadata": {},
   "source": [
    "Now, we want the first 10 elements - we can iterate over `results` but we cannot slice it:"
   ]
  },
  {
   "cell_type": "code",
   "execution_count": 8,
   "id": "4843180a",
   "metadata": {},
   "outputs": [
    {
     "data": {
      "text/plain": [
       "[(64, 8, 4),\n",
       " (729, 27, 9),\n",
       " (4096, 64, 16),\n",
       " (15625, 125, 25),\n",
       " (46656, 216, 36),\n",
       " (117649, 343, 49),\n",
       " (262144, 512, 64),\n",
       " (531441, 729, 81),\n",
       " (1000000, 1000, 100),\n",
       " (1771561, 1331, 121)]"
      ]
     },
     "execution_count": 8,
     "metadata": {},
     "output_type": "execute_result"
    }
   ],
   "source": [
    "extract = [next(results) for _ in range(10)]\n",
    "extract"
   ]
  },
  {
   "cell_type": "markdown",
   "id": "ca5d195b",
   "metadata": {},
   "source": [
    "Of course, the generator has been iterated over, so if we want to \"restart\" we just need to redefine it.\n",
    "\n",
    "We'll do that, and use the `itertools` module's `islice` to get the first 10 items:"
   ]
  },
  {
   "cell_type": "code",
   "execution_count": 9,
   "id": "cec11e58",
   "metadata": {},
   "outputs": [],
   "source": [
    "from itertools import islice"
   ]
  },
  {
   "cell_type": "code",
   "execution_count": 10,
   "id": "3829e0d7",
   "metadata": {},
   "outputs": [
    {
     "data": {
      "text/plain": [
       "[(64, 8, 4),\n",
       " (729, 27, 9),\n",
       " (4096, 64, 16),\n",
       " (15625, 125, 25),\n",
       " (46656, 216, 36),\n",
       " (117649, 343, 49),\n",
       " (262144, 512, 64),\n",
       " (531441, 729, 81),\n",
       " (1000000, 1000, 100),\n",
       " (1771561, 1331, 121)]"
      ]
     },
     "execution_count": 10,
     "metadata": {},
     "output_type": "execute_result"
    }
   ],
   "source": [
    "results = (\n",
    "    (i, int(sq), int(cb))\n",
    "    for i in range(2, 50_000_000)\n",
    "    if (sq := sqrt(i)) == int(sq) and (cb := cbrt(i)) == int(cb)\n",
    ")\n",
    "list(islice(results, 10))"
   ]
  },
  {
   "cell_type": "markdown",
   "id": "33b82967",
   "metadata": {},
   "source": [
    "We still have the issue of specifying that huge range - it works, but maybe I need to get the first 50 numbers - in which case that range may not be large enough - so we do not have general solution."
   ]
  },
  {
   "cell_type": "markdown",
   "id": "8e9ee99f",
   "metadata": {},
   "source": [
    "So, in this case, a generator expression gives us a partially better solution than a list comprehension, but an even better solution can be achieved using a generator function."
   ]
  },
  {
   "cell_type": "code",
   "execution_count": 11,
   "id": "b46df65f",
   "metadata": {},
   "outputs": [],
   "source": [
    "def numbers():\n",
    "    number = 2\n",
    "    while True:\n",
    "        sq = sqrt(number)\n",
    "        cb = cbrt(number)\n",
    "        if sq == int(sq) and cb == int(cb):\n",
    "            yield number, int(sq), int(cb)\n",
    "        number += 1"
   ]
  },
  {
   "cell_type": "markdown",
   "id": "077b866f",
   "metadata": {},
   "source": [
    "You'll notice that `numbers` will basically produce an **infinite** number of results."
   ]
  },
  {
   "cell_type": "markdown",
   "id": "9c932c1a",
   "metadata": {},
   "source": [
    "We can now use the `islice` like before:"
   ]
  },
  {
   "cell_type": "code",
   "execution_count": 12,
   "id": "8fe83982",
   "metadata": {},
   "outputs": [
    {
     "data": {
      "text/plain": [
       "[(64, 8, 4),\n",
       " (729, 27, 9),\n",
       " (4096, 64, 16),\n",
       " (15625, 125, 25),\n",
       " (46656, 216, 36),\n",
       " (117649, 343, 49),\n",
       " (262144, 512, 64),\n",
       " (531441, 729, 81),\n",
       " (1000000, 1000, 100),\n",
       " (1771561, 1331, 121)]"
      ]
     },
     "execution_count": 12,
     "metadata": {},
     "output_type": "execute_result"
    }
   ],
   "source": [
    "list(islice(numbers(), 10))"
   ]
  },
  {
   "cell_type": "markdown",
   "id": "cc9e0f7d",
   "metadata": {},
   "source": [
    "And of course, this is a completely general solution:"
   ]
  },
  {
   "cell_type": "code",
   "execution_count": 13,
   "id": "690489c1",
   "metadata": {},
   "outputs": [
    {
     "data": {
      "text/plain": [
       "[(64, 8, 4), (729, 27, 9), (4096, 64, 16)]"
      ]
     },
     "execution_count": 13,
     "metadata": {},
     "output_type": "execute_result"
    }
   ],
   "source": [
    "list(islice(numbers(), 3))"
   ]
  },
  {
   "cell_type": "code",
   "execution_count": 14,
   "id": "6a484f9f",
   "metadata": {},
   "outputs": [
    {
     "data": {
      "text/plain": [
       "[(64, 8, 4),\n",
       " (729, 27, 9),\n",
       " (4096, 64, 16),\n",
       " (15625, 125, 25),\n",
       " (46656, 216, 36),\n",
       " (117649, 343, 49),\n",
       " (262144, 512, 64),\n",
       " (531441, 729, 81),\n",
       " (1000000, 1000, 100),\n",
       " (1771561, 1331, 121),\n",
       " (2985984, 1728, 144),\n",
       " (4826809, 2197, 169),\n",
       " (7529536, 2744, 196),\n",
       " (11390625, 3375, 225),\n",
       " (16777216, 4096, 256)]"
      ]
     },
     "execution_count": 14,
     "metadata": {},
     "output_type": "execute_result"
    }
   ],
   "source": [
    "list(islice(numbers(), 15))"
   ]
  },
  {
   "cell_type": "markdown",
   "id": "585e810f",
   "metadata": {},
   "source": [
    "So, although generators and generator expressions are \"single-use\" objects - they are cheap to create, so if you need to iterate through the same generator multiple times, you simply re-create it."
   ]
  },
  {
   "cell_type": "markdown",
   "id": "1671ee6a",
   "metadata": {},
   "source": [
    "The advantage is that generators do not hog memory to store all the results, and do not incur upfront costs calculating more values that we actually need."
   ]
  },
  {
   "cell_type": "markdown",
   "id": "7aee1ee7",
   "metadata": {},
   "source": [
    "You will notice than in Python 3, most built-in functions that are used for iteration are generators - functions like `zip`, `islice`, `enumerate`, and many many more.\n",
    "\n",
    "There's a good reason for that, and you should make use of generators and generator expressions a lot more!"
   ]
  },
  {
   "cell_type": "markdown",
   "id": "1a8ca8e3",
   "metadata": {},
   "source": [
    "But, there's even more you can do with generator functions."
   ]
  },
  {
   "cell_type": "markdown",
   "id": "2ea62cd1",
   "metadata": {},
   "source": [
    "You're probably aware of context managers - the most common one is the context manager we use to open (and automatically close) files."
   ]
  },
  {
   "cell_type": "code",
   "execution_count": 15,
   "id": "89a68ca2",
   "metadata": {},
   "outputs": [],
   "source": [
    "with open(\"planets.txt\", \"w\") as f:\n",
    "    f.writelines([\"Mercury\\n\", \"Venus\\n\", \"Earth\\n\", \"Mars\\n\"])"
   ]
  },
  {
   "cell_type": "code",
   "execution_count": 16,
   "id": "b9421a4d",
   "metadata": {},
   "outputs": [
    {
     "name": "stdout",
     "output_type": "stream",
     "text": [
      "Mercury\n",
      "Venus\n",
      "Earth\n",
      "Mars\n"
     ]
    }
   ],
   "source": [
    "with open(\"planets.txt\") as f:\n",
    "    for line in f:\n",
    "        print(line, end=\"\")"
   ]
  },
  {
   "cell_type": "markdown",
   "id": "c3fbd4d9",
   "metadata": {},
   "source": [
    "You'll notice how we did not need to close the file - that happened automatically once the context manager was exited."
   ]
  },
  {
   "cell_type": "markdown",
   "id": "377dc340",
   "metadata": {},
   "source": [
    "We can write our own context manager using a generator function. To do that, we'll use a generator function and the `contextmanager` decorator in the `contextlib` module:"
   ]
  },
  {
   "cell_type": "code",
   "execution_count": 17,
   "id": "0cf58ec1",
   "metadata": {},
   "outputs": [],
   "source": [
    "from contextlib import contextmanager"
   ]
  },
  {
   "cell_type": "markdown",
   "id": "6cde0cdd",
   "metadata": {},
   "source": [
    "Let's start by writing a context manager skeleton:"
   ]
  },
  {
   "cell_type": "code",
   "execution_count": 18,
   "id": "de6e023e",
   "metadata": {},
   "outputs": [],
   "source": [
    "@contextmanager\n",
    "def echo():\n",
    "    try:\n",
    "        print(\"Entering context manager\")\n",
    "        yield lambda x: f\"echo says: {x}\"\n",
    "    except Exception as ex:\n",
    "        print(f\"An exception occurred - we may want to handle it, or not: {ex}\")\n",
    "    finally:\n",
    "        print(\"Exiting context manager - runs whether an exception occurred or not\")"
   ]
  },
  {
   "cell_type": "code",
   "execution_count": 19,
   "id": "c3b7af1b",
   "metadata": {},
   "outputs": [
    {
     "name": "stdout",
     "output_type": "stream",
     "text": [
      "Entering context manager\n",
      "echo says: hello\n",
      "echo says: bye\n",
      "Exiting context manager - runs whether an exception occurred or not\n"
     ]
    }
   ],
   "source": [
    "with echo() as func:\n",
    "    print(func(\"hello\"))\n",
    "    print(func(\"bye\"))"
   ]
  },
  {
   "cell_type": "markdown",
   "id": "f9a3fe2a",
   "metadata": {},
   "source": [
    "And the exit happens whether an exception occurs inside the context manager or not:"
   ]
  },
  {
   "cell_type": "code",
   "execution_count": 20,
   "id": "81d4221a",
   "metadata": {},
   "outputs": [
    {
     "name": "stdout",
     "output_type": "stream",
     "text": [
      "Entering context manager\n",
      "echo says: hello\n",
      "An exception occurred - we may want to handle it, or not: Wrong value\n",
      "Exiting context manager - runs whether an exception occurred or not\n"
     ]
    }
   ],
   "source": [
    "with echo() as func:\n",
    "    print(func(\"hello\"))\n",
    "    raise ValueError(\"Wrong value\")"
   ]
  },
  {
   "cell_type": "markdown",
   "id": "0d31e735",
   "metadata": {},
   "source": [
    "The exception could even be caused by that returned function itself:"
   ]
  },
  {
   "cell_type": "code",
   "execution_count": 21,
   "id": "ef023d61",
   "metadata": {},
   "outputs": [],
   "source": [
    "@contextmanager\n",
    "def square():\n",
    "    try:\n",
    "        print(\"Entering context manager\")\n",
    "        yield lambda x: x * x\n",
    "    except Exception as ex:\n",
    "        print(f\"An exception occurred - we may want to handle it, or not: {ex}\")\n",
    "    finally:\n",
    "        print(\"Exiting context manager - runs whether an exception occurred or not\")"
   ]
  },
  {
   "cell_type": "code",
   "execution_count": 22,
   "id": "810d66dc",
   "metadata": {},
   "outputs": [
    {
     "name": "stdout",
     "output_type": "stream",
     "text": [
      "Entering context manager\n",
      "100\n",
      "Exiting context manager - runs whether an exception occurred or not\n"
     ]
    }
   ],
   "source": [
    "with square() as func:\n",
    "    print(func(10))"
   ]
  },
  {
   "cell_type": "code",
   "execution_count": null,
   "id": "cb7ee95f",
   "metadata": {},
   "outputs": [],
   "source": [
    "with square() as func:\n",
    "    print(func('a'))"
   ]
  },
  {
   "cell_type": "markdown",
   "id": "651c3193",
   "metadata": {},
   "source": [
    "Now let's apply this to something more practical."
   ]
  },
  {
   "cell_type": "markdown",
   "id": "5f835d0c",
   "metadata": {},
   "source": [
    "When we read/write CSV files we can use the `csv` module."
   ]
  },
  {
   "cell_type": "markdown",
   "id": "1470918f",
   "metadata": {},
   "source": [
    "Let's start by creating a CSV file:"
   ]
  },
  {
   "cell_type": "code",
   "execution_count": null,
   "id": "b459d4cb",
   "metadata": {},
   "outputs": [],
   "source": [
    "import csv"
   ]
  },
  {
   "cell_type": "code",
   "execution_count": null,
   "id": "7c347d59",
   "metadata": {},
   "outputs": [],
   "source": [
    "headers = [\"first_name\", \"last_name\"]\n",
    "data = [\n",
    "    (\"Isaac\", \"Newton\"),\n",
    "    (\"Gottfried\", \"Leibniz\"),\n",
    "    (\"Joseph\", \"Fourier\"),\n",
    "    (\"John\", \"von Neumann\"),\n",
    "]"
   ]
  },
  {
   "cell_type": "code",
   "execution_count": null,
   "id": "de5990ff",
   "metadata": {},
   "outputs": [],
   "source": [
    "with open(\"test.csv\", \"w\") as f:\n",
    "    csv_writer = csv.writer(f)\n",
    "    csv_writer.writerow(headers)\n",
    "    for row in data:\n",
    "        csv_writer.writerow(row)"
   ]
  },
  {
   "cell_type": "markdown",
   "id": "f1fd642b",
   "metadata": {},
   "source": [
    "We can check the contens of that file:"
   ]
  },
  {
   "cell_type": "code",
   "execution_count": null,
   "id": "bd5f39b7",
   "metadata": {},
   "outputs": [],
   "source": [
    "with open(\"test.csv\") as f:\n",
    "    print(f.readlines())"
   ]
  },
  {
   "cell_type": "markdown",
   "id": "16051048",
   "metadata": {},
   "source": [
    "And of course we can open that file using a CSV reader:"
   ]
  },
  {
   "cell_type": "code",
   "execution_count": null,
   "id": "a04aebd0",
   "metadata": {},
   "outputs": [],
   "source": [
    "with open(\"test.csv\") as f:\n",
    "    csv_reader = csv.reader(f)\n",
    "    for row in csv_reader:\n",
    "        print(row)"
   ]
  },
  {
   "cell_type": "markdown",
   "id": "f76fb16f",
   "metadata": {},
   "source": [
    "So, you'll notice that every time we want to write a CSV file, we need to open the file, set up the csv writer, do whatever we want, then close the file. Same goes for the reader."
   ]
  },
  {
   "cell_type": "markdown",
   "id": "1ffa8aae",
   "metadata": {},
   "source": [
    "We could combine these differnet steps using a custom context manager."
   ]
  },
  {
   "cell_type": "code",
   "execution_count": null,
   "id": "0cd33025",
   "metadata": {},
   "outputs": [],
   "source": [
    "@contextmanager\n",
    "def csv_reader(file_path):\n",
    "    with open(file_path) as f:\n",
    "        yield csv.reader(f)    "
   ]
  },
  {
   "cell_type": "markdown",
   "id": "5a1f8080",
   "metadata": {},
   "source": [
    "Now we can use it this way:"
   ]
  },
  {
   "cell_type": "code",
   "execution_count": null,
   "id": "42e421a2",
   "metadata": {},
   "outputs": [],
   "source": [
    "with csv_reader(\"test.csv\") as reader:\n",
    "    for row in reader:\n",
    "        print(row)"
   ]
  },
  {
   "cell_type": "markdown",
   "id": "a3d50bcd",
   "metadata": {},
   "source": [
    "We could do the same with the writer:"
   ]
  },
  {
   "cell_type": "code",
   "execution_count": null,
   "id": "16817a13",
   "metadata": {},
   "outputs": [],
   "source": [
    "@contextmanager\n",
    "def csv_writer(file_path):\n",
    "    with open(file_path, \"w\") as f:\n",
    "        yield csv.writer(f)  "
   ]
  },
  {
   "cell_type": "code",
   "execution_count": null,
   "id": "e8e2b9ed",
   "metadata": {},
   "outputs": [],
   "source": [
    "with csv_writer(\"test2.csv\") as writer:\n",
    "    writer.writerow(['a', 'b'])"
   ]
  },
  {
   "cell_type": "code",
   "execution_count": null,
   "id": "c76a1f86",
   "metadata": {},
   "outputs": [],
   "source": [
    "with csv_reader(\"test2.csv\") as reader:\n",
    "    for row in reader:\n",
    "        print(row)"
   ]
  },
  {
   "cell_type": "markdown",
   "id": "e56b133e",
   "metadata": {},
   "source": [
    "We could even combine both of those into a single context manager:"
   ]
  },
  {
   "cell_type": "code",
   "execution_count": null,
   "id": "84463515",
   "metadata": {},
   "outputs": [],
   "source": [
    "@contextmanager\n",
    "def csv_file(file_path, *, mode=\"r\"):\n",
    "    if mode == \"r\":\n",
    "        with open(file_path) as f:\n",
    "            yield csv.reader(f)\n",
    "    elif mode in {'w', 'a'}:\n",
    "        with open(file_path, mode) as f:\n",
    "            yield csv.writer(f)\n",
    "    else:\n",
    "        raise ValueError(\"Unsuported mode - must be one of 'r', 'w', 'a'\")"
   ]
  },
  {
   "cell_type": "code",
   "execution_count": null,
   "id": "64e39cb4",
   "metadata": {},
   "outputs": [],
   "source": [
    "with csv_file(\"test3.csv\", mode=\"w\") as writer:\n",
    "    writer.writerow(list('abc'))\n",
    "    writer.writerow(list('def'))"
   ]
  },
  {
   "cell_type": "code",
   "execution_count": null,
   "id": "affc6e3d",
   "metadata": {},
   "outputs": [],
   "source": [
    "with csv_file(\"test3.csv\") as reader:\n",
    "    for row in reader:\n",
    "        print(row)"
   ]
  },
  {
   "cell_type": "markdown",
   "id": "e58be2ed",
   "metadata": {},
   "source": [
    "Of course, this is just one example of using a context manager. Oftentimes, context managers are used with databases to start and commit (or rollback) transactions for example."
   ]
  },
  {
   "cell_type": "markdown",
   "id": "57c0a968",
   "metadata": {},
   "source": [
    "In general, when you find yourself writing code that:\n",
    "\n",
    "1. sets up some resource(s)\n",
    "2. does something with those resources\n",
    "3. cleans up the resource(s) after you're done\n",
    "\n",
    "you should immediately think of context managers - and generator functions can be used to very quickly and simply create context managers.\n",
    "\n",
    "I will cover context managers in more detail in upcoming videos in this channel, stay tuned!"
   ]
  },
  {
   "cell_type": "markdown",
   "id": "45812ebf",
   "metadata": {},
   "source": [
    "In conclusion, generator functions and expressions are fundamental to Python, and you should learn how to use them appropriately and effectively for more Pythonic code."
   ]
  }
 ],
 "metadata": {
  "kernelspec": {
   "display_name": "Python 3 (ipykernel)",
   "language": "python",
   "name": "python3"
  },
  "language_info": {
   "codemirror_mode": {
    "name": "ipython",
    "version": 3
   },
   "file_extension": ".py",
   "mimetype": "text/x-python",
   "name": "python",
   "nbconvert_exporter": "python",
   "pygments_lexer": "ipython3",
   "version": "3.11.1"
  }
 },
 "nbformat": 4,
 "nbformat_minor": 5
}
