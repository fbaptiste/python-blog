{
 "cells": [
  {
   "cell_type": "markdown",
   "id": "39b03cfa",
   "metadata": {},
   "source": [
    "### Idiomatic Python: Custom Sorts and Leveraging Stable Sorts"
   ]
  },
  {
   "cell_type": "markdown",
   "id": "41da5359",
   "metadata": {},
   "source": [
    "We often need to sort a collection of objects based on some custom sort order. \n",
    "\n",
    "Python provides us with the highly efficient `sorted()` function (Timsort algorithm, based on both the merge sort and insertion sort algorithms - see [here](https://en.wikipedia.org/wiki/Timsort)) which can sort a collection, not only based on the natural ordering of the elements in the collection (assuming there is one), but also based on a value derived from each element. "
   ]
  },
  {
   "cell_type": "markdown",
   "id": "87e48824",
   "metadata": {},
   "source": [
    "One of the really important aspects of the Timsort algorithm, is that it is a **stable** algorithm. \n",
    "\n",
    "What this means is that the relative order of two elements that are considered equal, will remain in the same relative order.\n",
    "\n",
    "That's maybe a little difficult to digest at first, but a simple example will demonstrate this simple concept."
   ]
  },
  {
   "cell_type": "markdown",
   "id": "0612fc0a",
   "metadata": {},
   "source": [
    "Suppose we have these tuples:"
   ]
  },
  {
   "cell_type": "code",
   "execution_count": 1,
   "id": "e8683719",
   "metadata": {},
   "outputs": [],
   "source": [
    "t1 = (1, 2, 3)\n",
    "t2 = (2, 3, 4)\n",
    "t3 = (1, 2, 3)\n",
    "t4 = (2, 3, 4)"
   ]
  },
  {
   "cell_type": "markdown",
   "id": "7c60a1a7",
   "metadata": {},
   "source": [
    "Now, let's make a list out of them:"
   ]
  },
  {
   "cell_type": "code",
   "execution_count": 2,
   "id": "db3e5313",
   "metadata": {},
   "outputs": [],
   "source": [
    "l = [t1, t2, t3, t4]"
   ]
  },
  {
   "cell_type": "markdown",
   "id": "cdff9018",
   "metadata": {},
   "source": [
    "Next, we will sort that list based on the natural ordering of these tuples:"
   ]
  },
  {
   "cell_type": "code",
   "execution_count": 3,
   "id": "6df726d8",
   "metadata": {},
   "outputs": [],
   "source": [
    "s = sorted(l)"
   ]
  },
  {
   "cell_type": "markdown",
   "id": "0f0c6dc0",
   "metadata": {},
   "source": [
    "Let's see what that sorted list looks like:"
   ]
  },
  {
   "cell_type": "code",
   "execution_count": 4,
   "id": "b3911db6",
   "metadata": {},
   "outputs": [
    {
     "data": {
      "text/plain": [
       "[(1, 2, 3), (1, 2, 3), (2, 3, 4), (2, 3, 4)]"
      ]
     },
     "execution_count": 4,
     "metadata": {},
     "output_type": "execute_result"
    }
   ],
   "source": [
    "s"
   ]
  },
  {
   "cell_type": "markdown",
   "id": "59bb3081",
   "metadata": {},
   "source": [
    "As you can see, the tuples are sorted correctly - but, more importantly here, let's look at the relative \"position\" of the equal tuples:"
   ]
  },
  {
   "cell_type": "code",
   "execution_count": 5,
   "id": "07929510",
   "metadata": {},
   "outputs": [
    {
     "data": {
      "text/plain": [
       "[4389434752, 4394403328, 4394404416, 4394601408]"
      ]
     },
     "execution_count": 5,
     "metadata": {},
     "output_type": "execute_result"
    }
   ],
   "source": [
    "[id(t) for t in s]"
   ]
  },
  {
   "cell_type": "markdown",
   "id": "bb1cbcda",
   "metadata": {},
   "source": [
    "And compare that to the order of the tuples in the original unsorted list:"
   ]
  },
  {
   "cell_type": "code",
   "execution_count": 6,
   "id": "22ed8c30",
   "metadata": {},
   "outputs": [
    {
     "data": {
      "text/plain": [
       "[4389434752, 4394404416, 4394403328, 4394601408]"
      ]
     },
     "execution_count": 6,
     "metadata": {},
     "output_type": "execute_result"
    }
   ],
   "source": [
    "[id(t) for t in l]"
   ]
  },
  {
   "cell_type": "markdown",
   "id": "51b9805f",
   "metadata": {},
   "source": [
    "Notice how the relative order of `t1` and `t3` was maintained, as well as the relative order of `t2` and `t4`. This is what is meant by a stable sort."
   ]
  },
  {
   "cell_type": "markdown",
   "id": "7e6902ae",
   "metadata": {},
   "source": [
    "The reason this is an important property of the Timsort is that it allows us to sort an iterable using multiple passes - we'll come back to that point later."
   ]
  },
  {
   "cell_type": "markdown",
   "id": "58481b46",
   "metadata": {},
   "source": [
    "The `sorted` function allows us to specify a `key` function in the call to `sorted()`.\n",
    "\n",
    "This key function allows us to assign a different value to each element in the iterable, and have the iterable sorted by that value (the **key value**) instead of the original element value (which may not even have a natural sort order).\n",
    "\n",
    "The key function is simply a function that transforms each element in the iterable to another value we want to sort by - so it is **always** a function of **one** variable (each element will be passed to that function during the sort), and returns the value we want to sort by."
   ]
  },
  {
   "cell_type": "markdown",
   "id": "f7ebfca0",
   "metadata": {},
   "source": [
    "Let's look at a very simple example first.\n",
    "\n",
    "Suppose we have this list:"
   ]
  },
  {
   "cell_type": "code",
   "execution_count": 7,
   "id": "bdee17ad",
   "metadata": {},
   "outputs": [],
   "source": [
    "l = [1, 2, -1, 3, -4, 5]"
   ]
  },
  {
   "cell_type": "markdown",
   "id": "f6f712e8",
   "metadata": {},
   "source": [
    "If we sort this list, we get this:"
   ]
  },
  {
   "cell_type": "code",
   "execution_count": 8,
   "id": "116146ae",
   "metadata": {},
   "outputs": [
    {
     "data": {
      "text/plain": [
       "[-4, -1, 1, 2, 3, 5]"
      ]
     },
     "execution_count": 8,
     "metadata": {},
     "output_type": "execute_result"
    }
   ],
   "source": [
    "sorted(l)"
   ]
  },
  {
   "cell_type": "markdown",
   "id": "644c149e",
   "metadata": {},
   "source": [
    "But suppose we really want to sort by the magnitude of each element (it's absolute value), basically ignoring the negative signs."
   ]
  },
  {
   "cell_type": "markdown",
   "id": "f5fff33b",
   "metadata": {},
   "source": [
    "This means we want to sort that list not by the original value, but by the absolute value of each element. So our key function will be a function that takes on argument (the value in the list), and returns the absilute value of that element.\n",
    "\n",
    "We could create our own function to do that:"
   ]
  },
  {
   "cell_type": "code",
   "execution_count": 9,
   "id": "4f4cac5d",
   "metadata": {},
   "outputs": [],
   "source": [
    "def absolute(x):\n",
    "    if x < 0:\n",
    "        return -x\n",
    "    return x"
   ]
  },
  {
   "cell_type": "markdown",
   "id": "5c27d038",
   "metadata": {},
   "source": [
    "Then we can sort using `abs` as our key function:"
   ]
  },
  {
   "cell_type": "code",
   "execution_count": 10,
   "id": "c04876ce",
   "metadata": {},
   "outputs": [
    {
     "data": {
      "text/plain": [
       "[1, -1, 2, 3, -4, 5]"
      ]
     },
     "execution_count": 10,
     "metadata": {},
     "output_type": "execute_result"
    }
   ],
   "source": [
    "sorted(l, key=absolute)"
   ]
  },
  {
   "cell_type": "markdown",
   "id": "fd1e004a",
   "metadata": {},
   "source": [
    "Of course, for the absolute value we really do not need to define our own function, since Python already provides us (a few!), such as the built-in `abs()` function:"
   ]
  },
  {
   "cell_type": "code",
   "execution_count": 11,
   "id": "129d2cdb",
   "metadata": {},
   "outputs": [
    {
     "data": {
      "text/plain": [
       "[1, -1, 2, 3, -4, 5]"
      ]
     },
     "execution_count": 11,
     "metadata": {},
     "output_type": "execute_result"
    }
   ],
   "source": [
    "sorted(l, key=abs)"
   ]
  },
  {
   "cell_type": "markdown",
   "id": "0e3d7f41",
   "metadata": {},
   "source": [
    "You can see that by default the sort order is **ascending** - we can easily reverse that, using the `reverse` argument of the `sorted` function:"
   ]
  },
  {
   "cell_type": "code",
   "execution_count": 12,
   "id": "62162e23",
   "metadata": {},
   "outputs": [
    {
     "data": {
      "text/plain": [
       "[5, -4, 3, 2, 1, -1]"
      ]
     },
     "execution_count": 12,
     "metadata": {},
     "output_type": "execute_result"
    }
   ],
   "source": [
    "sorted(l, key=abs, reverse=True)"
   ]
  },
  {
   "cell_type": "markdown",
   "id": "a6f54e1f",
   "metadata": {},
   "source": [
    "Now this `key` argument can be very powerful."
   ]
  },
  {
   "cell_type": "markdown",
   "id": "d68c208b",
   "metadata": {},
   "source": [
    "One module that is very helpful in this context is the `operator` module, docs [here](https://docs.python.org/3/library/operator.html#module-operator)"
   ]
  },
  {
   "cell_type": "markdown",
   "id": "922febf8",
   "metadata": {},
   "source": [
    "It provides us a functional approach to many operators. In particular we're going to make use of the `attrgetter` and `itemgetter` functions."
   ]
  },
  {
   "cell_type": "markdown",
   "id": "825b5156",
   "metadata": {},
   "source": [
    "Let's look at `attrgetter` first."
   ]
  },
  {
   "cell_type": "code",
   "execution_count": 13,
   "id": "b38ab40f",
   "metadata": {},
   "outputs": [],
   "source": [
    "from operator import attrgetter"
   ]
  },
  {
   "cell_type": "markdown",
   "id": "625d874b",
   "metadata": {},
   "source": [
    "Suppose we have a class such as this:"
   ]
  },
  {
   "cell_type": "code",
   "execution_count": 14,
   "id": "93a2bfd1",
   "metadata": {},
   "outputs": [],
   "source": [
    "from math import dist\n",
    "\n",
    "class Point:\n",
    "    def __init__(self, x, y):\n",
    "        self.x = x\n",
    "        self.y = y\n",
    "    \n",
    "    @property\n",
    "    def quadrant(self):\n",
    "        if self.x > 0:\n",
    "            if self.y > 0:\n",
    "                return 1\n",
    "            return 4\n",
    "        else:\n",
    "            if self.y > 0:\n",
    "                return 2\n",
    "            return 3\n",
    "        return 0\n",
    "    \n",
    "    def __abs__(self):\n",
    "        return dist((0,0), (self.x, self.y))\n",
    "    \n",
    "    def __repr__(self):\n",
    "        return f\"Point({self.x}, {self.y}, magnitude={abs(self):.3f}, quadrant={self.quadrant})\""
   ]
  },
  {
   "cell_type": "code",
   "execution_count": 15,
   "id": "fdf12c80",
   "metadata": {},
   "outputs": [
    {
     "data": {
      "text/plain": [
       "Point(-1, -1, magnitude=1.414, quadrant=3)"
      ]
     },
     "execution_count": 15,
     "metadata": {},
     "output_type": "execute_result"
    }
   ],
   "source": [
    "pt = Point(-1, -1)\n",
    "pt"
   ]
  },
  {
   "cell_type": "markdown",
   "id": "c5d8dc00",
   "metadata": {},
   "source": [
    "Now suppose we have the following tuple of points:"
   ]
  },
  {
   "cell_type": "code",
   "execution_count": 16,
   "id": "55e6ce7b",
   "metadata": {},
   "outputs": [],
   "source": [
    "points = (\n",
    "    Point(-5, 2), \n",
    "    Point(2, 2), \n",
    "    Point(-3, -1), \n",
    "    Point(2, -1),\n",
    "    Point(-2, 2),\n",
    "    Point(2, 5),\n",
    "    Point(-2, -3)\n",
    ")"
   ]
  },
  {
   "cell_type": "markdown",
   "id": "893b9cbf",
   "metadata": {},
   "source": [
    "Each of those points have a distance from the origin:"
   ]
  },
  {
   "cell_type": "code",
   "execution_count": 17,
   "id": "9922718c",
   "metadata": {},
   "outputs": [
    {
     "data": {
      "text/plain": [
       "[5.385164807134504,\n",
       " 2.8284271247461903,\n",
       " 3.1622776601683795,\n",
       " 2.23606797749979,\n",
       " 2.8284271247461903,\n",
       " 5.385164807134504,\n",
       " 3.605551275463989]"
      ]
     },
     "execution_count": 17,
     "metadata": {},
     "output_type": "execute_result"
    }
   ],
   "source": [
    "[abs(p) for p in points]"
   ]
  },
  {
   "cell_type": "markdown",
   "id": "0e7968cc",
   "metadata": {},
   "source": [
    "And they also belong to some quadrant:"
   ]
  },
  {
   "cell_type": "code",
   "execution_count": 18,
   "id": "adf90266",
   "metadata": {},
   "outputs": [
    {
     "data": {
      "text/plain": [
       "[2, 1, 3, 4, 2, 1, 3]"
      ]
     },
     "execution_count": 18,
     "metadata": {},
     "output_type": "execute_result"
    }
   ],
   "source": [
    "[p.quadrant for p in points]"
   ]
  },
  {
   "cell_type": "markdown",
   "id": "6a551c00",
   "metadata": {},
   "source": [
    "Now, we already know how to sort by distance from the origin:"
   ]
  },
  {
   "cell_type": "code",
   "execution_count": 19,
   "id": "a5f443d1",
   "metadata": {},
   "outputs": [
    {
     "data": {
      "text/plain": [
       "[Point(2, -1, magnitude=2.236, quadrant=4),\n",
       " Point(2, 2, magnitude=2.828, quadrant=1),\n",
       " Point(-2, 2, magnitude=2.828, quadrant=2),\n",
       " Point(-3, -1, magnitude=3.162, quadrant=3),\n",
       " Point(-2, -3, magnitude=3.606, quadrant=3),\n",
       " Point(-5, 2, magnitude=5.385, quadrant=2),\n",
       " Point(2, 5, magnitude=5.385, quadrant=1)]"
      ]
     },
     "execution_count": 19,
     "metadata": {},
     "output_type": "execute_result"
    }
   ],
   "source": [
    "sorted(points, key=abs)"
   ]
  },
  {
   "cell_type": "markdown",
   "id": "c73f029c",
   "metadata": {},
   "source": [
    "But what if we wanted to sort by quadrant instead?"
   ]
  },
  {
   "cell_type": "markdown",
   "id": "d5b4d1d4",
   "metadata": {},
   "source": [
    "We need to provide a `key` function that will return the quadrant for each point.\n",
    "\n",
    "We can do this by defining our own function that will receive a point as the argument, and return the quadrant of the point:"
   ]
  },
  {
   "cell_type": "code",
   "execution_count": 20,
   "id": "c25decd1",
   "metadata": {},
   "outputs": [
    {
     "data": {
      "text/plain": [
       "[Point(2, 2, magnitude=2.828, quadrant=1),\n",
       " Point(2, 5, magnitude=5.385, quadrant=1),\n",
       " Point(-5, 2, magnitude=5.385, quadrant=2),\n",
       " Point(-2, 2, magnitude=2.828, quadrant=2),\n",
       " Point(-3, -1, magnitude=3.162, quadrant=3),\n",
       " Point(-2, -3, magnitude=3.606, quadrant=3),\n",
       " Point(2, -1, magnitude=2.236, quadrant=4)]"
      ]
     },
     "execution_count": 20,
     "metadata": {},
     "output_type": "execute_result"
    }
   ],
   "source": [
    "sorted(points, key=lambda pt: pt.quadrant)"
   ]
  },
  {
   "cell_type": "markdown",
   "id": "96d7121a",
   "metadata": {},
   "source": [
    "But, even simpler than creating a lambda function is to use the `attrgetter` function. Basically this functions returns a new function that will get the named attribute of whatever object gets passed to it."
   ]
  },
  {
   "cell_type": "markdown",
   "id": "2d43c75c",
   "metadata": {},
   "source": [
    "This is very similar to the `getattr` function:"
   ]
  },
  {
   "cell_type": "code",
   "execution_count": 21,
   "id": "91616788",
   "metadata": {},
   "outputs": [
    {
     "data": {
      "text/plain": [
       "1"
      ]
     },
     "execution_count": 21,
     "metadata": {},
     "output_type": "execute_result"
    }
   ],
   "source": [
    "p = Point(2, 2)\n",
    "getattr(p, 'quadrant')"
   ]
  },
  {
   "cell_type": "markdown",
   "id": "b4871c66",
   "metadata": {},
   "source": [
    "We can use the `attrgetter` function this way:"
   ]
  },
  {
   "cell_type": "code",
   "execution_count": 22,
   "id": "46f91ee7",
   "metadata": {},
   "outputs": [],
   "source": [
    "get_quadrant = attrgetter(\"quadrant\")"
   ]
  },
  {
   "cell_type": "markdown",
   "id": "11ed3a46",
   "metadata": {},
   "source": [
    "Note that `quadrant` is a function, and can be called by passing a `Point` instance to it, and it will return the `quadrant` attribute of the point:"
   ]
  },
  {
   "cell_type": "code",
   "execution_count": 23,
   "id": "a6654cbc",
   "metadata": {},
   "outputs": [
    {
     "data": {
      "text/plain": [
       "1"
      ]
     },
     "execution_count": 23,
     "metadata": {},
     "output_type": "execute_result"
    }
   ],
   "source": [
    "get_quadrant(p)"
   ]
  },
  {
   "cell_type": "markdown",
   "id": "b6280637",
   "metadata": {},
   "source": [
    "In essence, this is the same as writing:"
   ]
  },
  {
   "cell_type": "code",
   "execution_count": 24,
   "id": "75ae17a2",
   "metadata": {},
   "outputs": [
    {
     "data": {
      "text/plain": [
       "<function __main__.<lambda>(pt)>"
      ]
     },
     "execution_count": 24,
     "metadata": {},
     "output_type": "execute_result"
    }
   ],
   "source": [
    "lambda pt: pt.quadrant"
   ]
  },
  {
   "cell_type": "markdown",
   "id": "8a4b3ad8",
   "metadata": {},
   "source": [
    "Let's do some quick timings to determine which retrieval is faster, using `attrgetter` vs that user defined function:"
   ]
  },
  {
   "cell_type": "code",
   "execution_count": 25,
   "id": "4411a39b",
   "metadata": {},
   "outputs": [],
   "source": [
    "from timeit import timeit"
   ]
  },
  {
   "cell_type": "code",
   "execution_count": 26,
   "id": "e362fedc",
   "metadata": {},
   "outputs": [
    {
     "name": "stdout",
     "output_type": "stream",
     "text": [
      "0.936\n",
      "1.111\n"
     ]
    }
   ],
   "source": [
    "p = Point(-2, 1)\n",
    "\n",
    "func = attrgetter(\"quadrant\")\n",
    "result_1 = timeit(\"func(p)\", globals=globals(), number=10_000_000)\n",
    "\n",
    "func = lambda pt: pt.quadrant\n",
    "result_2 = timeit(\"func(p)\", globals=globals(), number=10_000_000)\n",
    "print(f\"{result_1:.3f}\")\n",
    "print(f\"{result_2:.3f}\")"
   ]
  },
  {
   "cell_type": "markdown",
   "id": "23d8ae0f",
   "metadata": {},
   "source": [
    "As you can see, using `attrgetter` is not only more readable code, but also faster."
   ]
  },
  {
   "cell_type": "markdown",
   "id": "ca3fe55f",
   "metadata": {},
   "source": [
    "So now, we can use this more expressive approach to sorting our `points` tuple:"
   ]
  },
  {
   "cell_type": "code",
   "execution_count": 27,
   "id": "40505ea8",
   "metadata": {},
   "outputs": [
    {
     "data": {
      "text/plain": [
       "[Point(2, 2, magnitude=2.828, quadrant=1),\n",
       " Point(2, 5, magnitude=5.385, quadrant=1),\n",
       " Point(-5, 2, magnitude=5.385, quadrant=2),\n",
       " Point(-2, 2, magnitude=2.828, quadrant=2),\n",
       " Point(-3, -1, magnitude=3.162, quadrant=3),\n",
       " Point(-2, -3, magnitude=3.606, quadrant=3),\n",
       " Point(2, -1, magnitude=2.236, quadrant=4)]"
      ]
     },
     "execution_count": 27,
     "metadata": {},
     "output_type": "execute_result"
    }
   ],
   "source": [
    "sorted(points, key=attrgetter(\"quadrant\"))"
   ]
  },
  {
   "cell_type": "markdown",
   "id": "e13744b5",
   "metadata": {},
   "source": [
    "Now suppose we want to sort our `points` tuple this way: by quadrant ascending, and **then** by distance from origin descending."
   ]
  },
  {
   "cell_type": "markdown",
   "id": "7ed918a8",
   "metadata": {},
   "source": [
    "Since Timsort is a stable sort, we could do it in two steps:\n",
    "\n",
    "- first sort by origin (descending)\n",
    "- then sort by quadrant (ascending)\n",
    "\n",
    "Remember that when we sort by quadrant, points with equal quadrants will maintain their original relative positions, which was the distance to the origin (or magnitude)."
   ]
  },
  {
   "cell_type": "code",
   "execution_count": 28,
   "id": "346443a8",
   "metadata": {},
   "outputs": [
    {
     "data": {
      "text/plain": [
       "[Point(-5, 2, magnitude=5.385, quadrant=2),\n",
       " Point(2, 5, magnitude=5.385, quadrant=1),\n",
       " Point(-2, -3, magnitude=3.606, quadrant=3),\n",
       " Point(-3, -1, magnitude=3.162, quadrant=3),\n",
       " Point(2, 2, magnitude=2.828, quadrant=1),\n",
       " Point(-2, 2, magnitude=2.828, quadrant=2),\n",
       " Point(2, -1, magnitude=2.236, quadrant=4)]"
      ]
     },
     "execution_count": 28,
     "metadata": {},
     "output_type": "execute_result"
    }
   ],
   "source": [
    "sort_1 = sorted(points, key=abs, reverse=True)\n",
    "sort_1"
   ]
  },
  {
   "cell_type": "code",
   "execution_count": 29,
   "id": "a8a4a764",
   "metadata": {},
   "outputs": [
    {
     "data": {
      "text/plain": [
       "[Point(2, 5, magnitude=5.385, quadrant=1),\n",
       " Point(2, 2, magnitude=2.828, quadrant=1),\n",
       " Point(-5, 2, magnitude=5.385, quadrant=2),\n",
       " Point(-2, 2, magnitude=2.828, quadrant=2),\n",
       " Point(-2, -3, magnitude=3.606, quadrant=3),\n",
       " Point(-3, -1, magnitude=3.162, quadrant=3),\n",
       " Point(2, -1, magnitude=2.236, quadrant=4)]"
      ]
     },
     "execution_count": 29,
     "metadata": {},
     "output_type": "execute_result"
    }
   ],
   "source": [
    "final_sort = sorted(sort_1, key=attrgetter(\"quadrant\"))\n",
    "final_sort"
   ]
  },
  {
   "cell_type": "markdown",
   "id": "3e66257e",
   "metadata": {},
   "source": [
    "Of course, you could also do this in a single sort by using a more complex key function:"
   ]
  },
  {
   "cell_type": "code",
   "execution_count": 30,
   "id": "f0e00177",
   "metadata": {},
   "outputs": [],
   "source": [
    "def sort_by_quad_mag(pt: Point):\n",
    "    return pt.quadrant, -abs(pt)"
   ]
  },
  {
   "cell_type": "code",
   "execution_count": 31,
   "id": "8a01adc6",
   "metadata": {},
   "outputs": [
    {
     "data": {
      "text/plain": [
       "[Point(2, 5, magnitude=5.385, quadrant=1),\n",
       " Point(2, 2, magnitude=2.828, quadrant=1),\n",
       " Point(-5, 2, magnitude=5.385, quadrant=2),\n",
       " Point(-2, 2, magnitude=2.828, quadrant=2),\n",
       " Point(-2, -3, magnitude=3.606, quadrant=3),\n",
       " Point(-3, -1, magnitude=3.162, quadrant=3),\n",
       " Point(2, -1, magnitude=2.236, quadrant=4)]"
      ]
     },
     "execution_count": 31,
     "metadata": {},
     "output_type": "execute_result"
    }
   ],
   "source": [
    "sorted(points, key=sort_by_quad_mag)"
   ]
  },
  {
   "cell_type": "markdown",
   "id": "e665c542",
   "metadata": {},
   "source": [
    "Now, you may be wondering the performance impact of sorting in two steps, vs using a more complex (and less readable) key function:"
   ]
  },
  {
   "cell_type": "code",
   "execution_count": 32,
   "id": "966a5b22",
   "metadata": {},
   "outputs": [],
   "source": [
    "temp = sorted(points, key=abs, reverse=True)\n",
    "final = sorted(sort_1, key=attrgetter(\"quadrant\"))"
   ]
  },
  {
   "cell_type": "markdown",
   "id": "24e7f43a",
   "metadata": {},
   "source": [
    "vs"
   ]
  },
  {
   "cell_type": "code",
   "execution_count": 33,
   "id": "7e27a9e6",
   "metadata": {},
   "outputs": [],
   "source": [
    "final = sorted(points, key=lambda pt: (pt.quadrant, -abs(pt)))"
   ]
  },
  {
   "cell_type": "markdown",
   "id": "5eef8584",
   "metadata": {},
   "source": [
    "Well, that's a good question, let's find out using some timings."
   ]
  },
  {
   "cell_type": "code",
   "execution_count": 34,
   "id": "9768555c",
   "metadata": {},
   "outputs": [],
   "source": [
    "from timeit import timeit\n",
    "from random import randint, seed"
   ]
  },
  {
   "cell_type": "markdown",
   "id": "04ab051b",
   "metadata": {},
   "source": [
    "First we create a list of `10_000` points:"
   ]
  },
  {
   "cell_type": "code",
   "execution_count": 35,
   "id": "644a8deb",
   "metadata": {},
   "outputs": [],
   "source": [
    "seed(0)\n",
    "points = [\n",
    "    Point(randint(-1_000, 1_000), randint(-1_000, 1_000))\n",
    "    for _ in range(10_000)\n",
    "]"
   ]
  },
  {
   "cell_type": "markdown",
   "id": "ac2ba57d",
   "metadata": {},
   "source": [
    "We're going to use these two variants of the sort:"
   ]
  },
  {
   "cell_type": "code",
   "execution_count": 36,
   "id": "4dca0db6",
   "metadata": {},
   "outputs": [],
   "source": [
    "sorted_1 = sorted(sorted(points, key=abs, reverse=True), key=attrgetter('quadrant'))\n",
    "sorted_2 = sorted(points, key=sort_by_quad_mag)"
   ]
  },
  {
   "cell_type": "markdown",
   "id": "74462fdd",
   "metadata": {},
   "source": [
    "And just to sanity check our work, let's make sure the results are the same:"
   ]
  },
  {
   "cell_type": "code",
   "execution_count": 37,
   "id": "aec2fbbf",
   "metadata": {},
   "outputs": [
    {
     "data": {
      "text/plain": [
       "True"
      ]
     },
     "execution_count": 37,
     "metadata": {},
     "output_type": "execute_result"
    }
   ],
   "source": [
    "sorted_1 == sorted_2"
   ]
  },
  {
   "cell_type": "markdown",
   "id": "0e45e5b9",
   "metadata": {},
   "source": [
    "Ok, so now let's time them:"
   ]
  },
  {
   "cell_type": "code",
   "execution_count": 38,
   "id": "4440dd8b",
   "metadata": {},
   "outputs": [
    {
     "name": "stdout",
     "output_type": "stream",
     "text": [
      "test_1=4.070\n",
      "test_2=5.129\n"
     ]
    }
   ],
   "source": [
    "key_func = attrgetter(\"quadrant\")\n",
    "test_1 = timeit(\n",
    "    \"sorted(sorted(points, key=abs, reverse=True), key=key_func)\",\n",
    "    globals=globals(),\n",
    "    number=1_000\n",
    ")\n",
    "\n",
    "key_func = lambda pt: (pt.quadrant, -abs(pt))\n",
    "test_2 = timeit(\n",
    "    \"sorted(points, key=key_func)\",\n",
    "    globals=globals(),\n",
    "    number=1_000\n",
    ")\n",
    "\n",
    "print(f\"{test_1=:.3f}\")\n",
    "print(f\"{test_2=:.3f}\")"
   ]
  },
  {
   "cell_type": "markdown",
   "id": "94805966",
   "metadata": {},
   "source": [
    "Surprised?? I was too! The only thing I could think of is that Timsort is very efficient if the data is already partially ordered - which it is, since we stacked one sort after another. If you know different, **please** let us know in the comments - I am quite curious.\n",
    "\n",
    "However, in general do not rely on one approach always executing faster than the other - if the sorts are a potential bottleneck in your app, try both ways, and see which one performs better with **your** data.\n",
    "\n",
    "Of course, there is also a memory tradeoff between the two approaches - in the \"stacked\" approach, we essentially create an extra list for each intermediate sort (one extra in this particular example), whereas the slower version only ends up with one single list - the final one."
   ]
  },
  {
   "cell_type": "markdown",
   "id": "d11e30b7",
   "metadata": {},
   "source": [
    "The next function I wanted to look at in the `operator` module was the `itemgetter` function. Basically it is a function that returns another function that retrieves an item from a sequence type by index.\n",
    "\n",
    "Let's take a quick look:"
   ]
  },
  {
   "cell_type": "code",
   "execution_count": 39,
   "id": "2579aade",
   "metadata": {},
   "outputs": [],
   "source": [
    "from operator import itemgetter\n",
    "get_item_2 = itemgetter(2)"
   ]
  },
  {
   "cell_type": "code",
   "execution_count": 40,
   "id": "83d8320c",
   "metadata": {},
   "outputs": [
    {
     "data": {
      "text/plain": [
       "'c'"
      ]
     },
     "execution_count": 40,
     "metadata": {},
     "output_type": "execute_result"
    }
   ],
   "source": [
    "get_item_2(\"abcd\")"
   ]
  },
  {
   "cell_type": "markdown",
   "id": "2fba6aa2",
   "metadata": {},
   "source": [
    "As you can see it retrieved the character at index `2`."
   ]
  },
  {
   "cell_type": "markdown",
   "id": "8274e851",
   "metadata": {},
   "source": [
    "So, we could sort an iterable of sequence types based on a specific element (by index) of each sequence:"
   ]
  },
  {
   "cell_type": "code",
   "execution_count": 41,
   "id": "089788c0",
   "metadata": {},
   "outputs": [],
   "source": [
    "l = [\n",
    "    \"ONI\",\n",
    "    \"CGI\",\n",
    "    \"INR\",\n",
    "    \"CIA\",\n",
    "    \"NSA\",\n",
    "    \"DIA\",\n",
    "    \"OIA\",\n",
    "    \"PDQ\"\n",
    "]"
   ]
  },
  {
   "cell_type": "markdown",
   "id": "4bc4b501",
   "metadata": {},
   "source": [
    "Now suppose we want to sort based on the second character in each string.\n",
    "\n",
    "We can use a custom key function using a lambda:"
   ]
  },
  {
   "cell_type": "code",
   "execution_count": 42,
   "id": "d91c58c0",
   "metadata": {},
   "outputs": [
    {
     "data": {
      "text/plain": [
       "['PDQ', 'CGI', 'CIA', 'DIA', 'OIA', 'ONI', 'INR', 'NSA']"
      ]
     },
     "execution_count": 42,
     "metadata": {},
     "output_type": "execute_result"
    }
   ],
   "source": [
    "sorted(l, key=lambda s: s[1])"
   ]
  },
  {
   "cell_type": "markdown",
   "id": "64d784ee",
   "metadata": {},
   "source": [
    "or we can use the `itemgetter` function:"
   ]
  },
  {
   "cell_type": "code",
   "execution_count": 43,
   "id": "1143c851",
   "metadata": {},
   "outputs": [
    {
     "data": {
      "text/plain": [
       "['PDQ', 'CGI', 'CIA', 'DIA', 'OIA', 'ONI', 'INR', 'NSA']"
      ]
     },
     "execution_count": 43,
     "metadata": {},
     "output_type": "execute_result"
    }
   ],
   "source": [
    "sorted(l, key=itemgetter(1))"
   ]
  },
  {
   "cell_type": "markdown",
   "id": "a2cf6d29",
   "metadata": {},
   "source": [
    "Something worth looking at is whether there is a performance difference between the two approaches:"
   ]
  },
  {
   "cell_type": "code",
   "execution_count": 44,
   "id": "62d0c6fa",
   "metadata": {},
   "outputs": [
    {
     "data": {
      "text/plain": [
       "4.635904707945883"
      ]
     },
     "execution_count": 44,
     "metadata": {},
     "output_type": "execute_result"
    }
   ],
   "source": [
    "key_func = lambda s: s[1]\n",
    "timeit(\"sorted(l, key=key_func)\", globals=globals(), number=10_000_000)"
   ]
  },
  {
   "cell_type": "code",
   "execution_count": 45,
   "id": "54be7df7",
   "metadata": {},
   "outputs": [
    {
     "data": {
      "text/plain": [
       "3.5795188338961452"
      ]
     },
     "execution_count": 45,
     "metadata": {},
     "output_type": "execute_result"
    }
   ],
   "source": [
    "key_func = itemgetter(1)\n",
    "timeit(\"sorted(l, key=key_func)\", globals=globals(), number=10_000_000)"
   ]
  },
  {
   "cell_type": "markdown",
   "id": "5a0b0b8b",
   "metadata": {},
   "source": [
    "So, like before, it looks like using `itemgetter` is faster than using a user defined function, and, in my opinion, is more readable code."
   ]
  },
  {
   "cell_type": "markdown",
   "id": "d07d3cb8",
   "metadata": {},
   "source": [
    "As usual, you have a number of options available to you when sorting - but before you decide on always using a specific pattern because you think it is more performant, take a minute to determine if the sort is going to be a bottleneck in your application (and make certain, don't guess!), then prefer readability over a negligible performance increase that will not affect your overall program's run time."
   ]
  },
  {
   "cell_type": "code",
   "execution_count": null,
   "id": "fc1477a1",
   "metadata": {},
   "outputs": [],
   "source": []
  }
 ],
 "metadata": {
  "kernelspec": {
   "display_name": "Python 3 (ipykernel)",
   "language": "python",
   "name": "python3"
  },
  "language_info": {
   "codemirror_mode": {
    "name": "ipython",
    "version": 3
   },
   "file_extension": ".py",
   "mimetype": "text/x-python",
   "name": "python",
   "nbconvert_exporter": "python",
   "pygments_lexer": "ipython3",
   "version": "3.10.2"
  }
 },
 "nbformat": 4,
 "nbformat_minor": 5
}
