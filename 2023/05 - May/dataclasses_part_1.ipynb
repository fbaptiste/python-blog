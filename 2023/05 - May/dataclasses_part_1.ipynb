{
 "cells": [
  {
   "cell_type": "markdown",
   "id": "d8f2fea2",
   "metadata": {},
   "source": [
    "### Dataclasses Explained (Part 1)"
   ]
  },
  {
   "cell_type": "markdown",
   "id": "5d2d31bd",
   "metadata": {},
   "source": [
    "The goal of this article/video is to **explain** how data classes work, not just show you how to create data classes.\n",
    "\n",
    "In this notebook we'll explore dataclasses and their correspondance to code we might write when implementing classes using plain old vanilla Python instead of the dataclass syntax."
   ]
  },
  {
   "cell_type": "markdown",
   "id": "7e1b541f",
   "metadata": {},
   "source": [
    "So what are dataclasses?\n",
    "\n",
    "Dataclasses were introduced to Python 3.7, but what are they?\n",
    "\n",
    "Some new type of data structure?  Some new type of object?"
   ]
  },
  {
   "cell_type": "markdown",
   "id": "f8f1cd6f",
   "metadata": {},
   "source": [
    "The answer to that is no."
   ]
  },
  {
   "cell_type": "markdown",
   "id": "546efdae",
   "metadata": {},
   "source": [
    "A dataclass is simply a **code generator** that allows us to define custom classes using a different syntax, and allows us to generate what is often referred to as \"boilerplate\" code - code that is repetitive and basically always works the same way. Essentially a dataclass is a class **decorator** that can either monkey patch an existing class, or, when slots are involved, generates a new class based on the old one, with extra functionality injected."
   ]
  },
  {
   "cell_type": "markdown",
   "id": "e3efa08d",
   "metadata": {},
   "source": [
    "You've seen code generators before if you've worked with named tuples, either `namedtuple` in the `collections` module, or the more modern `NamedTuple` class in the `typing` module."
   ]
  },
  {
   "cell_type": "markdown",
   "id": "92c4bb5c",
   "metadata": {},
   "source": [
    "Before you start using dataclasses, it is really important that you understand how to create your own classes in Python, and how to implement things like equality, hashing, ordering, etc. Although dataclasses hide all this from you, you should know how these things work in order to truly understand what dataclasses are creating for you, and avoid subtle bugs you may create by using dataclasses without understanding what's happening under the hood."
   ]
  },
  {
   "cell_type": "markdown",
   "id": "a0b6d8c5",
   "metadata": {},
   "source": [
    "The PEP for dataclasses ([PEP](https://peps.python.org/pep-0557)) writes this:\n",
    "> Although they use a very different mechanism, Data Classes can be thought of as “mutable namedtuples with defaults”. Because Data Classes use normal class definition syntax, you are free to use inheritance, metaclasses, docstrings, user-defined methods, class factories, and other Python class features.\n",
    "\n",
    "and \n",
    "\n",
    "> A class decorator is provided which inspects a class definition for variables with type annotations as defined in PEP 526, “Syntax for Variable Annotations”. In this document, such variables are called fields. Using these fields, the decorator adds generated method definitions to the class to support instance initialization, a repr, comparison methods, and optionally other methods as described in the Specification section. Such a class is called a Data Class, but there’s really nothing special about the class: the decorator adds generated methods to the class and returns the same class it was given.\n"
   ]
  },
  {
   "cell_type": "markdown",
   "id": "c1df329d",
   "metadata": {},
   "source": [
    "#### Dataclasses and the `attrs` Library"
   ]
  },
  {
   "cell_type": "markdown",
   "id": "48b2eabd",
   "metadata": {},
   "source": [
    "A bit of history.\n",
    "\n",
    "One of the inspirations for dataclasses is the `attrs` library started by Hynek Schlawack in 2015. \n",
    "\n",
    "[https://www.attrs.org/en/stable/index.html](https://www.attrs.org/en/stable/index.html)\n",
    "\n",
    "The `attrs` library became very popular around 2017, and people started asking for this to be included in the canonical Python standard library.\n",
    "\n",
    "Discussions started on this, prompted by Python's then BDFL, Guido, between Hynek and Eric Smith who volunteered for the project.\n",
    "\n",
    "In the end, instead of rolling `attrs` into the standard library, a simplifying subset of `attrs` was added to the standard library, and became known as **dataclasses**. \n",
    "\n",
    "You can see the PEP for it [here](https://peps.python.org/pep-0557)"
   ]
  },
  {
   "cell_type": "markdown",
   "id": "c31055a7",
   "metadata": {},
   "source": [
    "Does this mean that `attrs` is no longer relevant today?\n",
    "\n",
    "Not at all!\n",
    "\n",
    "In fact `attrs` is very much under continued and very active development, and additional libraries, leveraging `attrs` are also under continuous development (for example the [cattrs](https://catt.rs/en/stable/) library).\n",
    "\n",
    "Here is an interesting post by Hynek on `attrs` and dataclasses: \n",
    "[https://hynek.me/articles/import-attrs/](https://hynek.me/articles/import-attrs/)"
   ]
  },
  {
   "cell_type": "markdown",
   "id": "245cd59c",
   "metadata": {},
   "source": [
    "\n",
    "**A big thanks to Hynek Schlawack and the `attrs` repo collaborators for their continued dedication to `attrs`!!**\n",
    "\n"
   ]
  },
  {
   "cell_type": "markdown",
   "id": "47e9d823",
   "metadata": {},
   "source": [
    "Now, let's start digging into dataclasses."
   ]
  },
  {
   "cell_type": "markdown",
   "id": "58013255",
   "metadata": {},
   "source": [
    "I am not going to discuss the differences/similarities of dataclasses vs named tuples vs pydantic vs attrs - I might do another post on that in the future. Simplistically, there is *some* overlap, but also a lot of *differences* between them, and they have different use cases.\n",
    "\n",
    "I see a lot of click-bait articles/videos out there that spell out how one killed the other - and that's all it is, click bait.Those people either don't truly understand what each of those things are, or are being disingeneous, and, unfortunately, ultimately causing confusion."
   ]
  },
  {
   "cell_type": "markdown",
   "id": "e9920eae",
   "metadata": {},
   "source": [
    "#### The Basics"
   ]
  },
  {
   "cell_type": "markdown",
   "id": "feeda15c",
   "metadata": {},
   "source": [
    "> **Note**: I am using Python 3.11 for these examples. Earlier versions of Python may not have all the functionality presented here, as dataclasses are (slowly) evolving and gaining additional functionality from one Python version to the next. That's one advantage of using `attrs` over `dataclasses` - `attrs` has not only a lot more functionality than `dataclasses`, but evolves faster since it is not bound to the Python release cycle.\n",
    "\n",
    "\n",
    "As the name **dataclasses** would seem to indicate, dataclasses are **classes** used for **data** structures (similar in some ways to named tuples, except that dataclasses offer a lot more since they are regular Python classes, not specializations of the `tuple` class)"
   ]
  },
  {
   "cell_type": "markdown",
   "id": "bc7c960b",
   "metadata": {},
   "source": [
    "Let's take a look at how dataclasses can be used to generate standard Python classes, and see how much boilerplate code they eliminate."
   ]
  },
  {
   "cell_type": "markdown",
   "id": "6d49e96a",
   "metadata": {},
   "source": [
    "As an example, let's create a two-dimensional `Circle` class that needs attributes for it's origin (`x` and `y`) and it's `radius`. To avoid complications with `float` comparisons, I'm going to limit these attributes to integers (which is not totally insance given that integers would be just fine to draw such a circle on a screen anyway.)"
   ]
  },
  {
   "cell_type": "code",
   "execution_count": 1,
   "id": "2df7a679",
   "metadata": {},
   "outputs": [],
   "source": [
    "class Circle:\n",
    "    def __init__(self, x: int = 0, y: int = 0, radius: int = 1):\n",
    "        self.x = x\n",
    "        self.y = y\n",
    "        self.radius = radius"
   ]
  },
  {
   "cell_type": "code",
   "execution_count": 2,
   "id": "16d6a13a",
   "metadata": {},
   "outputs": [
    {
     "data": {
      "text/plain": [
       "<__main__.Circle at 0x10865c3d0>"
      ]
     },
     "execution_count": 2,
     "metadata": {},
     "output_type": "execute_result"
    }
   ],
   "source": [
    "c = Circle()\n",
    "c"
   ]
  },
  {
   "cell_type": "markdown",
   "id": "58e1fef6",
   "metadata": {},
   "source": [
    "Let's add some functionality that we usually add (or should add) to our class.\n",
    "\n",
    "First, let's have a custom `__repr__`"
   ]
  },
  {
   "cell_type": "code",
   "execution_count": 3,
   "id": "53005154",
   "metadata": {},
   "outputs": [],
   "source": [
    "class Circle:\n",
    "    def __init__(self, x: int = 0, y: int = 0, radius: int = 1):\n",
    "        self.x = x\n",
    "        self.y = y\n",
    "        self.radius = radius\n",
    "\n",
    "    def __repr__(self):\n",
    "        return f\"{self.__class__.__qualname__}(x={self.x}, y={self.y}, radius={self.radius})\""
   ]
  },
  {
   "cell_type": "code",
   "execution_count": 4,
   "id": "e795e655",
   "metadata": {},
   "outputs": [
    {
     "data": {
      "text/plain": [
       "Circle(x=0, y=0, radius=1)"
      ]
     },
     "execution_count": 4,
     "metadata": {},
     "output_type": "execute_result"
    }
   ],
   "source": [
    "c1 = Circle(0, 0, 1)\n",
    "c1"
   ]
  },
  {
   "cell_type": "markdown",
   "id": "185b9fcf",
   "metadata": {},
   "source": [
    "Now let's see how we can do the same thing using a dataclass:"
   ]
  },
  {
   "cell_type": "code",
   "execution_count": 5,
   "id": "e997d32a",
   "metadata": {},
   "outputs": [],
   "source": [
    "from dataclasses import dataclass"
   ]
  },
  {
   "cell_type": "code",
   "execution_count": 6,
   "id": "d3fef99f",
   "metadata": {},
   "outputs": [],
   "source": [
    "@dataclass\n",
    "class CircleD:\n",
    "    x: int = 0\n",
    "    y: int = 0\n",
    "    radius: int = 1    "
   ]
  },
  {
   "cell_type": "code",
   "execution_count": 7,
   "id": "1852d58c",
   "metadata": {},
   "outputs": [],
   "source": [
    "c2 = CircleD()"
   ]
  },
  {
   "cell_type": "code",
   "execution_count": 8,
   "id": "25e89a1f",
   "metadata": {},
   "outputs": [
    {
     "data": {
      "text/plain": [
       "Circle(x=0, y=0, radius=1)"
      ]
     },
     "execution_count": 8,
     "metadata": {},
     "output_type": "execute_result"
    }
   ],
   "source": [
    "c1"
   ]
  },
  {
   "cell_type": "code",
   "execution_count": 9,
   "id": "38ad2e6a",
   "metadata": {},
   "outputs": [
    {
     "data": {
      "text/plain": [
       "CircleD(x=0, y=0, radius=1)"
      ]
     },
     "execution_count": 9,
     "metadata": {},
     "output_type": "execute_result"
    }
   ],
   "source": [
    "c2"
   ]
  },
  {
   "cell_type": "markdown",
   "id": "d0082915",
   "metadata": {},
   "source": [
    "Basically the dataclass gave us the `__repr__` for \"free\". We don't have to type that code ourselves, and the less code we type the less bugs we are likely to introduce. \n",
    "\n",
    "Not only that, but dataclasses will generate that code using best practices - how many of use really use  `self.__class__.__qualname__`? Many people (myself included I'll confess) just use the hardcoded class name, maybe stretching it to `self.__class__.__name__`, when using `__qualname__` is actually better. (I'll let you do some web searches on your own to figure out why if you don't know already)."
   ]
  },
  {
   "cell_type": "markdown",
   "id": "15e42744",
   "metadata": {},
   "source": [
    "Both classes work the same way as far as attribute access goes:"
   ]
  },
  {
   "cell_type": "code",
   "execution_count": 10,
   "id": "c8d04e16",
   "metadata": {},
   "outputs": [
    {
     "data": {
      "text/plain": [
       "(0, 1)"
      ]
     },
     "execution_count": 10,
     "metadata": {},
     "output_type": "execute_result"
    }
   ],
   "source": [
    "c1.x, c2.radius"
   ]
  },
  {
   "cell_type": "code",
   "execution_count": 11,
   "id": "ba83341b",
   "metadata": {},
   "outputs": [
    {
     "data": {
      "text/plain": [
       "(Circle(x=100, y=0, radius=1), CircleD(x=0, y=0, radius=100))"
      ]
     },
     "execution_count": 11,
     "metadata": {},
     "output_type": "execute_result"
    }
   ],
   "source": [
    "c1.x = 100\n",
    "c2.radius = 100\n",
    "c1, c2"
   ]
  },
  {
   "cell_type": "markdown",
   "id": "ece7ea44",
   "metadata": {},
   "source": [
    "If you think back to the intro of this video, I pulled an excerpt from the PEP:\n",
    "\n",
    "> the decorator adds generated methods to the class and returns the same class it was given"
   ]
  },
  {
   "cell_type": "markdown",
   "id": "7e4a2b05",
   "metadata": {},
   "source": [
    "Let's test that out!"
   ]
  },
  {
   "cell_type": "code",
   "execution_count": 12,
   "id": "a5c2e2d4",
   "metadata": {},
   "outputs": [],
   "source": [
    "class CircleD:\n",
    "    x: int = 0\n",
    "    y: int = 0\n",
    "    radius: int = 1   "
   ]
  },
  {
   "cell_type": "code",
   "execution_count": 13,
   "id": "7306552d",
   "metadata": {},
   "outputs": [
    {
     "data": {
      "text/plain": [
       "'0x109805770'"
      ]
     },
     "execution_count": 13,
     "metadata": {},
     "output_type": "execute_result"
    }
   ],
   "source": [
    "hex(id(CircleD))"
   ]
  },
  {
   "cell_type": "code",
   "execution_count": 14,
   "id": "796c96c5",
   "metadata": {},
   "outputs": [
    {
     "data": {
      "text/plain": [
       "'<__main__.CircleD object at 0x108666190>'"
      ]
     },
     "execution_count": 14,
     "metadata": {},
     "output_type": "execute_result"
    }
   ],
   "source": [
    "c = CircleD()\n",
    "repr(c)"
   ]
  },
  {
   "cell_type": "code",
   "execution_count": 15,
   "id": "ff086f15",
   "metadata": {},
   "outputs": [],
   "source": [
    "CircleD = dataclass(CircleD)"
   ]
  },
  {
   "cell_type": "code",
   "execution_count": 16,
   "id": "ece73105",
   "metadata": {},
   "outputs": [
    {
     "data": {
      "text/plain": [
       "'0x109805770'"
      ]
     },
     "execution_count": 16,
     "metadata": {},
     "output_type": "execute_result"
    }
   ],
   "source": [
    "hex(id(CircleD))"
   ]
  },
  {
   "cell_type": "code",
   "execution_count": 17,
   "id": "37990ffb",
   "metadata": {},
   "outputs": [
    {
     "data": {
      "text/plain": [
       "'CircleD(x=0, y=0, radius=1)'"
      ]
     },
     "execution_count": 17,
     "metadata": {},
     "output_type": "execute_result"
    }
   ],
   "source": [
    "repr(c)"
   ]
  },
  {
   "cell_type": "markdown",
   "id": "974cbaa9",
   "metadata": {},
   "source": [
    "As you can see, `@dataclass` did not create a new object, it basically modified, at run time, a regular Python class by adding attributes and methods to the class."
   ]
  },
  {
   "cell_type": "markdown",
   "id": "bd20455a",
   "metadata": {},
   "source": [
    "There has been an update to dataclasses that allows us to use slots instead of a class instance dictionary for maintaining state - in these cases, a new class object **is** generated - it has to, since you cannot, once a class has been created, change whether your are using slots or not."
   ]
  },
  {
   "cell_type": "markdown",
   "id": "79ecbc12",
   "metadata": {},
   "source": [
    "##### Equality Comparisons"
   ]
  },
  {
   "cell_type": "markdown",
   "id": "6f3518e6",
   "metadata": {},
   "source": [
    "Something else we get for free is equality comparisons:"
   ]
  },
  {
   "cell_type": "code",
   "execution_count": 18,
   "id": "41594763",
   "metadata": {},
   "outputs": [
    {
     "data": {
      "text/plain": [
       "True"
      ]
     },
     "execution_count": 18,
     "metadata": {},
     "output_type": "execute_result"
    }
   ],
   "source": [
    "c3 = CircleD(1, 1, 5)\n",
    "c4 = CircleD(1, 1, 5)\n",
    "c3 == c4"
   ]
  },
  {
   "cell_type": "markdown",
   "id": "d897aa4d",
   "metadata": {},
   "source": [
    "Our custom class does not have that functionality. By default, custom classes will use identity (object's id) to equality compare two instances:"
   ]
  },
  {
   "cell_type": "code",
   "execution_count": 19,
   "id": "5aafa678",
   "metadata": {},
   "outputs": [
    {
     "data": {
      "text/plain": [
       "False"
      ]
     },
     "execution_count": 19,
     "metadata": {},
     "output_type": "execute_result"
    }
   ],
   "source": [
    "c1 = Circle(1, 1, 5)\n",
    "c2 = Circle(1, 1, 5)\n",
    "c1 == c2"
   ]
  },
  {
   "cell_type": "markdown",
   "id": "943f6184",
   "metadata": {},
   "source": [
    "That's usually not what we want (it could be, but often not), this means that we need to override the `__eq__` method:"
   ]
  },
  {
   "cell_type": "code",
   "execution_count": 20,
   "id": "c45bf070",
   "metadata": {},
   "outputs": [],
   "source": [
    "class Circle:\n",
    "    def __init__(self, x: int = 0, y: int = 0, radius: int = 1):\n",
    "        self.x = x\n",
    "        self.y = y\n",
    "        self.radius = radius\n",
    "\n",
    "    def __repr__(self):\n",
    "        return f\"{self.__class__.__qualname__}(x={self.x}, y={self.y}, radius={self.radius})\"\n",
    "    \n",
    "    def __eq__(self, other):\n",
    "        if self.__class__ == other.__class__:\n",
    "            return (self.x, self.y, self.radius) == (other.x, other.y, other.radius)\n",
    "        return NotImplemented\n",
    "        "
   ]
  },
  {
   "cell_type": "markdown",
   "id": "3dc9264b",
   "metadata": {},
   "source": [
    "And let's try it out now:"
   ]
  },
  {
   "cell_type": "code",
   "execution_count": 21,
   "id": "4b5a03f5",
   "metadata": {},
   "outputs": [
    {
     "data": {
      "text/plain": [
       "(False, True)"
      ]
     },
     "execution_count": 21,
     "metadata": {},
     "output_type": "execute_result"
    }
   ],
   "source": [
    "c1 = Circle(0, 0, 1)\n",
    "c2 = Circle(0, 0, 1)\n",
    "\n",
    "c1 is c2, c1 == c2"
   ]
  },
  {
   "cell_type": "markdown",
   "id": "9f95a457",
   "metadata": {},
   "source": [
    "##### Hashability"
   ]
  },
  {
   "cell_type": "markdown",
   "id": "4731f6b8",
   "metadata": {},
   "source": [
    "Great! But you should know that when you implement a custom `__eq__` method, we often also implement hashability as well (I discuss this in my deep dive series, all notebooks are freely available on github [here](https://github.com/fbaptiste/python-deepdive), so I am not going to discuss the reason behind this here)."
   ]
  },
  {
   "cell_type": "markdown",
   "id": "de7452c5",
   "metadata": {},
   "source": [
    "With our current implementation, the `Circle` class is not even hashable. (And neither is the dataclass)"
   ]
  },
  {
   "cell_type": "markdown",
   "id": "027b5a6f",
   "metadata": {},
   "source": [
    "Ok, so let's implement the `__hash__` function, such that the hash of two `Circle` objects that are equal will also have an equal hash:"
   ]
  },
  {
   "cell_type": "code",
   "execution_count": 22,
   "id": "a28a69de",
   "metadata": {},
   "outputs": [],
   "source": [
    "class Circle:\n",
    "    def __init__(self, x: int = 0, y: int = 0, radius: int = 1):\n",
    "        self.x = x\n",
    "        self.y = y\n",
    "        self.radius = radius\n",
    "\n",
    "    def __repr__(self):\n",
    "        return f\"{self.__class__.__qualname__}(x={self.x}, y={self.y}, radius={self.radius})\"\n",
    "    \n",
    "    def __eq__(self, other):\n",
    "        if self.__class__ == other.__class__:\n",
    "            return (self.x, self.y, self.radius) == (other.x, other.y, other.radius)\n",
    "        return NotImplemented\n",
    "    \n",
    "    def __hash__(self):\n",
    "        return hash((self.x, self.y, self.radius))"
   ]
  },
  {
   "cell_type": "code",
   "execution_count": 23,
   "id": "709d17a8",
   "metadata": {},
   "outputs": [],
   "source": [
    "c1 = Circle(0, 0, 1)\n",
    "c2 = Circle(0, 0, 1)"
   ]
  },
  {
   "cell_type": "code",
   "execution_count": 24,
   "id": "9d8f0722",
   "metadata": {},
   "outputs": [
    {
     "data": {
      "text/plain": [
       "(True, True)"
      ]
     },
     "execution_count": 24,
     "metadata": {},
     "output_type": "execute_result"
    }
   ],
   "source": [
    "c1 == c2, hash(c1) == hash(c2)"
   ]
  },
  {
   "cell_type": "markdown",
   "id": "61a2305e",
   "metadata": {},
   "source": [
    "Much better - now we can even use instances of our `Circle` class as set elements or dictionary keys."
   ]
  },
  {
   "cell_type": "code",
   "execution_count": 25,
   "id": "e5c4bdd4",
   "metadata": {},
   "outputs": [
    {
     "data": {
      "text/plain": [
       "{Circle(x=0, y=0, radius=1)}"
      ]
     },
     "execution_count": 25,
     "metadata": {},
     "output_type": "execute_result"
    }
   ],
   "source": [
    "s = {Circle(), Circle()}\n",
    "s"
   ]
  },
  {
   "cell_type": "markdown",
   "id": "ddbbc125",
   "metadata": {},
   "source": [
    "As you can see, because the `Circle` instances are hashable, and we have equality implemented, the set retained, as we would expect, only one unique element. Same thing with dictionaries:"
   ]
  },
  {
   "cell_type": "code",
   "execution_count": 26,
   "id": "72ab1a7c",
   "metadata": {},
   "outputs": [
    {
     "data": {
      "text/plain": [
       "{Circle(x=0, y=0, radius=1): 'circle'}"
      ]
     },
     "execution_count": 26,
     "metadata": {},
     "output_type": "execute_result"
    }
   ],
   "source": [
    "d = {Circle(): \"circle\"}\n",
    "d"
   ]
  },
  {
   "cell_type": "code",
   "execution_count": 27,
   "id": "a1013953",
   "metadata": {},
   "outputs": [
    {
     "data": {
      "text/plain": [
       "{Circle(x=0, y=0, radius=1): 'custom circle'}"
      ]
     },
     "execution_count": 27,
     "metadata": {},
     "output_type": "execute_result"
    }
   ],
   "source": [
    "d[Circle()] = 'custom circle'\n",
    "d"
   ]
  },
  {
   "cell_type": "markdown",
   "id": "5ce2e03d",
   "metadata": {},
   "source": [
    "But there is an issue!"
   ]
  },
  {
   "cell_type": "markdown",
   "id": "64821365",
   "metadata": {},
   "source": [
    "Normally, hashable objects should be immutable, otherwise we can run into issues - let's see that."
   ]
  },
  {
   "cell_type": "code",
   "execution_count": 28,
   "id": "2a852fb0",
   "metadata": {},
   "outputs": [],
   "source": [
    "c1 = Circle(0, 0, 1)\n",
    "c2 = Circle(1, 1, 1)"
   ]
  },
  {
   "cell_type": "code",
   "execution_count": 29,
   "id": "f4ce86a7",
   "metadata": {},
   "outputs": [
    {
     "data": {
      "text/plain": [
       "{Circle(x=0, y=0, radius=1): 'circle 1',\n",
       " Circle(x=1, y=1, radius=1): 'circle 2'}"
      ]
     },
     "execution_count": 29,
     "metadata": {},
     "output_type": "execute_result"
    }
   ],
   "source": [
    "d = {\n",
    "    c1: \"circle 1\",\n",
    "    c2: \"circle 2\"\n",
    "}\n",
    "\n",
    "d"
   ]
  },
  {
   "cell_type": "markdown",
   "id": "016cf54f",
   "metadata": {},
   "source": [
    "Now let's mutate that second circle:"
   ]
  },
  {
   "cell_type": "code",
   "execution_count": 30,
   "id": "f921b526",
   "metadata": {},
   "outputs": [
    {
     "data": {
      "text/plain": [
       "Circle(x=0, y=0, radius=1)"
      ]
     },
     "execution_count": 30,
     "metadata": {},
     "output_type": "execute_result"
    }
   ],
   "source": [
    "c2.x = 0\n",
    "c2.y = 0\n",
    "c2"
   ]
  },
  {
   "cell_type": "markdown",
   "id": "3fba3284",
   "metadata": {},
   "source": [
    "Now `c1` and `c2` are *equal*, and in fact also have equal hashes now:"
   ]
  },
  {
   "cell_type": "code",
   "execution_count": 31,
   "id": "05ccc4ce",
   "metadata": {},
   "outputs": [
    {
     "data": {
      "text/plain": [
       "(True, True)"
      ]
     },
     "execution_count": 31,
     "metadata": {},
     "output_type": "execute_result"
    }
   ],
   "source": [
    "c1 == c2, hash(c1) == hash(c2)"
   ]
  },
  {
   "cell_type": "markdown",
   "id": "eebb1857",
   "metadata": {},
   "source": [
    "And let's look at our dictionary:"
   ]
  },
  {
   "cell_type": "code",
   "execution_count": 32,
   "id": "f16a9ba6",
   "metadata": {},
   "outputs": [
    {
     "data": {
      "text/plain": [
       "{Circle(x=0, y=0, radius=1): 'circle 1',\n",
       " Circle(x=0, y=0, radius=1): 'circle 1'}"
      ]
     },
     "execution_count": 32,
     "metadata": {},
     "output_type": "execute_result"
    }
   ],
   "source": [
    "d"
   ]
  },
  {
   "cell_type": "markdown",
   "id": "6ff36c92",
   "metadata": {},
   "source": [
    "Notice something weird? Looks like two duplicate entries in the dictionary - and sometimes we get other odd behavior depending on how we mutate the key objects. So, in general we really need immutability for dictionary keys."
   ]
  },
  {
   "cell_type": "markdown",
   "id": "a4330183",
   "metadata": {},
   "source": [
    "##### Immutability"
   ]
  },
  {
   "cell_type": "markdown",
   "id": "6725091f",
   "metadata": {},
   "source": [
    "To make our custom class implementation better we need to make the attributes used in the hash, `x`, `y`, and `radius` immutable."
   ]
  },
  {
   "cell_type": "markdown",
   "id": "99afb0a1",
   "metadata": {},
   "source": [
    "Let's add even more boilerplate code to our class:"
   ]
  },
  {
   "cell_type": "code",
   "execution_count": 33,
   "id": "bd4dd018",
   "metadata": {},
   "outputs": [],
   "source": [
    "class Circle:\n",
    "    def __init__(self, x: int = 0, y: int = 0, radius: int = 1):\n",
    "        self._x = x\n",
    "        self._y = y\n",
    "        self._radius = radius\n",
    "\n",
    "    @property\n",
    "    def x(self):\n",
    "        return self._x\n",
    "    \n",
    "    @property\n",
    "    def y(self):\n",
    "        return self._y\n",
    "    \n",
    "    @property\n",
    "    def radius(self):\n",
    "        return self._radius\n",
    "    \n",
    "    def __repr__(self):\n",
    "        return f\"{self.__class__.__qualname__}(x={self.x}, y={self.y}, radius={self.radius})\"\n",
    "    \n",
    "    def __eq__(self, other):\n",
    "        if self.__class__ == other.__class__:\n",
    "            return (self.x, self.y, self.radius) == (other.x, other.y, other.radius)\n",
    "        return NotImplemented\n",
    "    \n",
    "    def __hash__(self):\n",
    "        return hash((self.x, self.y, self.radius))"
   ]
  },
  {
   "cell_type": "code",
   "execution_count": 34,
   "id": "72ea6a98",
   "metadata": {},
   "outputs": [],
   "source": [
    "c1 = Circle()\n",
    "c2 = Circle(1, 1, 1)"
   ]
  },
  {
   "cell_type": "code",
   "execution_count": 35,
   "id": "0eddd898",
   "metadata": {},
   "outputs": [
    {
     "data": {
      "text/plain": [
       "{Circle(x=0, y=0, radius=1): 'cirle 1', Circle(x=1, y=1, radius=1): 'circle 2'}"
      ]
     },
     "execution_count": 35,
     "metadata": {},
     "output_type": "execute_result"
    }
   ],
   "source": [
    "d = {\n",
    "    c1: \"cirle 1\",\n",
    "    c2: \"circle 2\",\n",
    "}\n",
    "\n",
    "d"
   ]
  },
  {
   "cell_type": "markdown",
   "id": "8fc6bb57",
   "metadata": {},
   "source": [
    "And now, if we try to mutate `c2`, we'll get an exception:"
   ]
  },
  {
   "cell_type": "code",
   "execution_count": 36,
   "id": "3fcc1ca0",
   "metadata": {},
   "outputs": [
    {
     "name": "stdout",
     "output_type": "stream",
     "text": [
      "Attribute Error: property 'x' of 'Circle' object has no setter\n"
     ]
    }
   ],
   "source": [
    "try:\n",
    "    c2.x = 0\n",
    "except AttributeError as ex:\n",
    "    print(f\"Attribute Error: {ex}\")"
   ]
  },
  {
   "cell_type": "markdown",
   "id": "fb05f2dc",
   "metadata": {},
   "source": [
    "Again let me ask you this. How many times have you written a class that implements equality and hashability and forgotten to make read-only properties out of the attributes that are used in your hash function?\n",
    "\n",
    "Even if we are aware of this, and take the trouble to try and make it difficult for users of our class to inadvertently create problems by mutating the object (like using read-only propeties as we did here), it's a lot of code - and more potential for typos and bugs. More unit testing too!"
   ]
  },
  {
   "cell_type": "markdown",
   "id": "349bf6fd",
   "metadata": {},
   "source": [
    "Again, dataclasses can help us here by generating all this code for us (note that dataclasses do not use properties to make read-only attributes, but rather they override the `__setattr__` and `__delattr__` to achieve a similar result. Although we could replicate that approach in our code quite easily, and would avoid writing properties, it involves hardcoding the attributes we want to be \"frozen\" into the `__setattr__` and `__delattr__` methods. This means every time we add or remove a frozen attribute, we need to remember to modify that code as well. While that works just fine for a code generator that re-builds the code every time the app is re-started (and the dataclass decorator is re-evaluated), it's not great for human developers."
   ]
  },
  {
   "cell_type": "code",
   "execution_count": 37,
   "id": "806d39ce",
   "metadata": {},
   "outputs": [],
   "source": [
    "@dataclass(frozen=True)\n",
    "class CircleD:\n",
    "    x: int = 0\n",
    "    y: int = 0\n",
    "    radius: int = 1"
   ]
  },
  {
   "cell_type": "code",
   "execution_count": 38,
   "id": "066870f9",
   "metadata": {},
   "outputs": [
    {
     "data": {
      "text/plain": [
       "(CircleD(x=0, y=0, radius=1),\n",
       " CircleD(x=1, y=1, radius=1),\n",
       " CircleD(x=0, y=0, radius=1))"
      ]
     },
     "execution_count": 38,
     "metadata": {},
     "output_type": "execute_result"
    }
   ],
   "source": [
    "c3 = CircleD()\n",
    "c4 = CircleD(1, 1, 1)\n",
    "c5 = CircleD()\n",
    "\n",
    "c3, c4, c5"
   ]
  },
  {
   "cell_type": "code",
   "execution_count": 39,
   "id": "7b4c3796",
   "metadata": {},
   "outputs": [
    {
     "data": {
      "text/plain": [
       "(True, False)"
      ]
     },
     "execution_count": 39,
     "metadata": {},
     "output_type": "execute_result"
    }
   ],
   "source": [
    "c3 == c5, c4 == c5"
   ]
  },
  {
   "cell_type": "markdown",
   "id": "0d08c37d",
   "metadata": {},
   "source": [
    "Again, equality still works just fine. But now our dataclass `CircleD` is both immutable and hashable (at least as far as the attributes `x`, `y`, and `radius` go)."
   ]
  },
  {
   "cell_type": "code",
   "execution_count": 40,
   "id": "9eb6fb74",
   "metadata": {},
   "outputs": [
    {
     "data": {
      "text/plain": [
       "(-1882636517035687140, 5750192569890809213, -1882636517035687140)"
      ]
     },
     "execution_count": 40,
     "metadata": {},
     "output_type": "execute_result"
    }
   ],
   "source": [
    "hash(c3), hash(c4), hash(c5)"
   ]
  },
  {
   "cell_type": "code",
   "execution_count": 41,
   "id": "9c4b7f3c",
   "metadata": {},
   "outputs": [
    {
     "name": "stdout",
     "output_type": "stream",
     "text": [
      "FrozenInstanceError: cannot assign to field 'x'\n"
     ]
    }
   ],
   "source": [
    "from dataclasses import FrozenInstanceError\n",
    "\n",
    "try:\n",
    "    c4.x = 0\n",
    "except FrozenInstanceError as ex:\n",
    "    print(f\"FrozenInstanceError: {ex}\")"
   ]
  },
  {
   "cell_type": "markdown",
   "id": "52d1083b",
   "metadata": {},
   "source": [
    "This means that we can also safely use it in sets and dictionary keys as well."
   ]
  },
  {
   "cell_type": "code",
   "execution_count": 42,
   "id": "0bac6dea",
   "metadata": {},
   "outputs": [
    {
     "data": {
      "text/plain": [
       "{CircleD(x=0, y=0, radius=1), CircleD(x=1, y=1, radius=1)}"
      ]
     },
     "execution_count": 42,
     "metadata": {},
     "output_type": "execute_result"
    }
   ],
   "source": [
    "s = {c3, c4, c5}\n",
    "s"
   ]
  },
  {
   "cell_type": "markdown",
   "id": "ddb841ad",
   "metadata": {},
   "source": [
    "##### Ordering"
   ]
  },
  {
   "cell_type": "markdown",
   "id": "28e15cab",
   "metadata": {},
   "source": [
    "One other thing we do not have in our custom `Circle` class is ordering:"
   ]
  },
  {
   "cell_type": "code",
   "execution_count": 43,
   "id": "54879883",
   "metadata": {},
   "outputs": [
    {
     "name": "stdout",
     "output_type": "stream",
     "text": [
      "TypeError: '<' not supported between instances of 'Circle' and 'Circle'\n"
     ]
    }
   ],
   "source": [
    "c1 = Circle()\n",
    "c2 = Circle(1, 1, 2)\n",
    "\n",
    "try:\n",
    "    c1 < c2\n",
    "except TypeError as ex:\n",
    "    print(f\"TypeError: {ex}\")"
   ]
  },
  {
   "cell_type": "markdown",
   "id": "6995ff0d",
   "metadata": {},
   "source": [
    "In order to implement ordering we need to override special functions such as `__lt__`, `__le__`, `__gt__`, `__ge__`"
   ]
  },
  {
   "cell_type": "markdown",
   "id": "f42cf7e4",
   "metadata": {},
   "source": [
    "Let's do this for our custom class. Here, we will consider ordering based on whether the tuple (x, y, radius) of one circle is smaller or larger than the ame tuple for the other circle. Does not make much sense, we would probably want something more custom - maybe based on the radius only, so we'll come back to that later."
   ]
  },
  {
   "cell_type": "code",
   "execution_count": 44,
   "id": "2233fa03",
   "metadata": {},
   "outputs": [],
   "source": [
    "class Circle:\n",
    "    def __init__(self, x: int = 0, y: int = 0, radius: int = 1):\n",
    "        self._x = x\n",
    "        self._y = y\n",
    "        self._radius = radius\n",
    "\n",
    "    @property\n",
    "    def x(self):\n",
    "        return self._x\n",
    "    \n",
    "    @property\n",
    "    def y(self):\n",
    "        return self._y\n",
    "    \n",
    "    @property\n",
    "    def radius(self):\n",
    "        return self._radius\n",
    "    \n",
    "    def __repr__(self):\n",
    "        return f\"{self.__class__.__qualname__}(x={self.x}, y={self.y}, radius={self.radius})\"\n",
    "    \n",
    "    def __eq__(self, other):\n",
    "        if self.__class__ == other.__class__:\n",
    "            return (self.x, self.y, self.radius) == (other.x, other.y, other.radius)\n",
    "        return NotImplemented\n",
    "    \n",
    "    def __hash__(self):\n",
    "        return hash((self.x, self.y, self.radius))\n",
    "    \n",
    "    def __lt__(self, other):\n",
    "        return (self.x, self.y, self.radius) < (other.x, other.y, other.radius)"
   ]
  },
  {
   "cell_type": "markdown",
   "id": "1c21521f",
   "metadata": {},
   "source": [
    "Ok, so that's a start:"
   ]
  },
  {
   "cell_type": "code",
   "execution_count": 45,
   "id": "53a617f5",
   "metadata": {},
   "outputs": [
    {
     "data": {
      "text/plain": [
       "True"
      ]
     },
     "execution_count": 45,
     "metadata": {},
     "output_type": "execute_result"
    }
   ],
   "source": [
    "c1 = Circle(0, 0, 1)\n",
    "c2 = Circle(1, 1, 1)\n",
    "\n",
    "c1 < c2"
   ]
  },
  {
   "cell_type": "markdown",
   "id": "754d1c0c",
   "metadata": {},
   "source": [
    "Of course, through reflection we also get `>` for \"free\":"
   ]
  },
  {
   "cell_type": "code",
   "execution_count": 46,
   "id": "84bcc13a",
   "metadata": {},
   "outputs": [
    {
     "data": {
      "text/plain": [
       "True"
      ]
     },
     "execution_count": 46,
     "metadata": {},
     "output_type": "execute_result"
    }
   ],
   "source": [
    "c2 > c1"
   ]
  },
  {
   "cell_type": "markdown",
   "id": "1115b20f",
   "metadata": {},
   "source": [
    "But we have a few issues:\n",
    "- we could compare a Circle instance to another data structure inadvertently, and actually get a result\n",
    "- we still need to implement `>=`, `<=`, etc"
   ]
  },
  {
   "cell_type": "code",
   "execution_count": 47,
   "id": "a226c872",
   "metadata": {},
   "outputs": [
    {
     "name": "stdout",
     "output_type": "stream",
     "text": [
      "TypeError: '<=' not supported between instances of 'Circle' and 'Circle'\n"
     ]
    }
   ],
   "source": [
    "try:\n",
    "    c1 <= c2\n",
    "except TypeError as ex:\n",
    "    print(f\"TypeError: {ex}\")"
   ]
  },
  {
   "cell_type": "code",
   "execution_count": 48,
   "id": "f6886b13",
   "metadata": {},
   "outputs": [],
   "source": [
    "from typing import NamedTuple\n",
    "\n",
    "class CircleNT(NamedTuple):\n",
    "    x: int = 0\n",
    "    y: int = 0\n",
    "    radius: int = 1"
   ]
  },
  {
   "cell_type": "code",
   "execution_count": 49,
   "id": "335eef23",
   "metadata": {},
   "outputs": [
    {
     "data": {
      "text/plain": [
       "(Circle(x=0, y=0, radius=1), CircleNT(x=1, y=1, radius=1))"
      ]
     },
     "execution_count": 49,
     "metadata": {},
     "output_type": "execute_result"
    }
   ],
   "source": [
    "c1 = Circle()\n",
    "c2 = CircleNT(1, 1, 1)\n",
    "\n",
    "c1, c2"
   ]
  },
  {
   "cell_type": "code",
   "execution_count": 50,
   "id": "194b8bb0",
   "metadata": {},
   "outputs": [
    {
     "data": {
      "text/plain": [
       "True"
      ]
     },
     "execution_count": 50,
     "metadata": {},
     "output_type": "execute_result"
    }
   ],
   "source": [
    "c1 < c2"
   ]
  },
  {
   "cell_type": "markdown",
   "id": "9da73424",
   "metadata": {},
   "source": [
    "This is probably not what we want - we should only allow comparisons between instances of the same class. In fact, that's how our equality function works, both in our custom class and in our dataclass."
   ]
  },
  {
   "cell_type": "code",
   "execution_count": 51,
   "id": "7817333b",
   "metadata": {},
   "outputs": [
    {
     "data": {
      "text/plain": [
       "(Circle(x=0, y=0, radius=1), CircleNT(x=0, y=0, radius=1))"
      ]
     },
     "execution_count": 51,
     "metadata": {},
     "output_type": "execute_result"
    }
   ],
   "source": [
    "c1 = Circle()\n",
    "c2 = CircleNT()\n",
    "\n",
    "c1, c2"
   ]
  },
  {
   "cell_type": "code",
   "execution_count": 52,
   "id": "cb3c7dff",
   "metadata": {},
   "outputs": [
    {
     "data": {
      "text/plain": [
       "False"
      ]
     },
     "execution_count": 52,
     "metadata": {},
     "output_type": "execute_result"
    }
   ],
   "source": [
    "c2 == c1"
   ]
  },
  {
   "cell_type": "code",
   "execution_count": 53,
   "id": "357f728d",
   "metadata": {},
   "outputs": [
    {
     "data": {
      "text/plain": [
       "(CircleD(x=0, y=0, radius=1), CircleNT(x=0, y=0, radius=1))"
      ]
     },
     "execution_count": 53,
     "metadata": {},
     "output_type": "execute_result"
    }
   ],
   "source": [
    "c1 = CircleD()\n",
    "c2 = CircleNT()\n",
    "\n",
    "c1, c2"
   ]
  },
  {
   "cell_type": "code",
   "execution_count": 54,
   "id": "d310b2b8",
   "metadata": {},
   "outputs": [
    {
     "data": {
      "text/plain": [
       "False"
      ]
     },
     "execution_count": 54,
     "metadata": {},
     "output_type": "execute_result"
    }
   ],
   "source": [
    "c1 == c2"
   ]
  },
  {
   "cell_type": "markdown",
   "id": "053e0635",
   "metadata": {},
   "source": [
    "So, again, let me ask you this question. How often do you remember to also check the type in the order methods?"
   ]
  },
  {
   "cell_type": "markdown",
   "id": "1aa8f067",
   "metadata": {},
   "source": [
    "So, let's fix our code to account for that."
   ]
  },
  {
   "cell_type": "code",
   "execution_count": 55,
   "id": "a6dc3d0d",
   "metadata": {},
   "outputs": [],
   "source": [
    "class Circle:\n",
    "    def __init__(self, x: int = 0, y: int = 0, radius: int = 1):\n",
    "        self._x = x\n",
    "        self._y = y\n",
    "        self._radius = radius\n",
    "\n",
    "    @property\n",
    "    def x(self):\n",
    "        return self._x\n",
    "    \n",
    "    @property\n",
    "    def y(self):\n",
    "        return self._y\n",
    "    \n",
    "    @property\n",
    "    def radius(self):\n",
    "        return self._radius\n",
    "    \n",
    "    def __repr__(self):\n",
    "        return f\"{self.__class__.__qualname__}(x={self.x}, y={self.y}, radius={self.radius})\"\n",
    "    \n",
    "    def __eq__(self, other):\n",
    "        if self.__class__ == other.__class__:\n",
    "            return (self.x, self.y, self.radius) == (other.x, other.y, other.radius)\n",
    "        return NotImplemented\n",
    "    \n",
    "    def __hash__(self):\n",
    "        return hash((self.x, self.y, self.radius))\n",
    "    \n",
    "    def __lt__(self, other):\n",
    "        if self.__class__ == other.__class__:\n",
    "            return (self.x, self.y, self.radius) < (other.x, other.y, other.radius)\n",
    "        return NotImplemented"
   ]
  },
  {
   "cell_type": "code",
   "execution_count": 56,
   "id": "fa968d98",
   "metadata": {},
   "outputs": [
    {
     "data": {
      "text/plain": [
       "(Circle(x=0, y=0, radius=1), CircleNT(x=0, y=0, radius=1))"
      ]
     },
     "execution_count": 56,
     "metadata": {},
     "output_type": "execute_result"
    }
   ],
   "source": [
    "c1 = Circle()\n",
    "c2 = CircleNT()\n",
    "\n",
    "c1, c2"
   ]
  },
  {
   "cell_type": "code",
   "execution_count": 57,
   "id": "7c8872a6",
   "metadata": {},
   "outputs": [
    {
     "data": {
      "text/plain": [
       "False"
      ]
     },
     "execution_count": 57,
     "metadata": {},
     "output_type": "execute_result"
    }
   ],
   "source": [
    "c1 == c2"
   ]
  },
  {
   "cell_type": "markdown",
   "id": "2f8745ca",
   "metadata": {},
   "source": [
    "Now, we need to implement the other ordering functions.\n",
    "\n",
    "We could try using the `total_ordering` decorator available in the `functools` module:"
   ]
  },
  {
   "cell_type": "code",
   "execution_count": 58,
   "id": "9344c46a",
   "metadata": {},
   "outputs": [],
   "source": [
    "from functools import total_ordering"
   ]
  },
  {
   "cell_type": "code",
   "execution_count": 59,
   "id": "06421fd3",
   "metadata": {},
   "outputs": [],
   "source": [
    "@total_ordering\n",
    "class Circle:\n",
    "    def __init__(self, x: int = 0, y: int = 0, radius: int = 1):\n",
    "        self._x = x\n",
    "        self._y = y\n",
    "        self._radius = radius\n",
    "\n",
    "    @property\n",
    "    def x(self):\n",
    "        return self._x\n",
    "    \n",
    "    @property\n",
    "    def y(self):\n",
    "        return self._y\n",
    "    \n",
    "    @property\n",
    "    def radius(self):\n",
    "        return self._radius\n",
    "    \n",
    "    def __repr__(self):\n",
    "        return f\"{self.__class__.__qualname__}(x={self.x}, y={self.y}, radius={self.radius})\"\n",
    "    \n",
    "    def __eq__(self, other):\n",
    "        if self.__class__ == other.__class__:\n",
    "            return (self.x, self.y, self.radius) == (other.x, other.y, other.radius)\n",
    "        return NotImplemented\n",
    "    \n",
    "    def __hash__(self):\n",
    "        return hash((self.x, self.y, self.radius))\n",
    "    \n",
    "    def __lt__(self, other):\n",
    "        if self.__class__ == other.__class__:\n",
    "            return (self.x, self.y, self.radius) < (other.x, other.y, other.radius)\n",
    "        return NotImplemented"
   ]
  },
  {
   "cell_type": "markdown",
   "id": "55f8c914",
   "metadata": {},
   "source": [
    "Let's try it out:"
   ]
  },
  {
   "cell_type": "code",
   "execution_count": 60,
   "id": "d575c31b",
   "metadata": {},
   "outputs": [],
   "source": [
    "c1 = Circle()\n",
    "c2 = Circle(1, 1, 1)"
   ]
  },
  {
   "cell_type": "code",
   "execution_count": 61,
   "id": "4fdbb601",
   "metadata": {},
   "outputs": [
    {
     "data": {
      "text/plain": [
       "True"
      ]
     },
     "execution_count": 61,
     "metadata": {},
     "output_type": "execute_result"
    }
   ],
   "source": [
    "c1 < c2"
   ]
  },
  {
   "cell_type": "code",
   "execution_count": 62,
   "id": "d9bcf463",
   "metadata": {},
   "outputs": [
    {
     "data": {
      "text/plain": [
       "True"
      ]
     },
     "execution_count": 62,
     "metadata": {},
     "output_type": "execute_result"
    }
   ],
   "source": [
    "c1 <= c2"
   ]
  },
  {
   "cell_type": "code",
   "execution_count": 63,
   "id": "91336500",
   "metadata": {},
   "outputs": [
    {
     "data": {
      "text/plain": [
       "True"
      ]
     },
     "execution_count": 63,
     "metadata": {},
     "output_type": "execute_result"
    }
   ],
   "source": [
    "c2 >= c1"
   ]
  },
  {
   "cell_type": "code",
   "execution_count": 64,
   "id": "c89cce8a",
   "metadata": {
    "scrolled": true
   },
   "outputs": [
    {
     "data": {
      "text/plain": [
       "True"
      ]
     },
     "execution_count": 64,
     "metadata": {},
     "output_type": "execute_result"
    }
   ],
   "source": [
    "c2 > c1"
   ]
  },
  {
   "cell_type": "markdown",
   "id": "f1c44b11",
   "metadata": {},
   "source": [
    "What about the case where we aren't comparing the same objects (but where they have the same attribute names):"
   ]
  },
  {
   "cell_type": "code",
   "execution_count": 65,
   "id": "32e1fdce",
   "metadata": {},
   "outputs": [],
   "source": [
    "c1 = Circle()\n",
    "c2 = CircleNT(1, 1, 1)"
   ]
  },
  {
   "cell_type": "code",
   "execution_count": 66,
   "id": "1fc15eb1",
   "metadata": {},
   "outputs": [
    {
     "name": "stdout",
     "output_type": "stream",
     "text": [
      "TypeError: '<' not supported between instances of 'Circle' and 'CircleNT'\n"
     ]
    }
   ],
   "source": [
    "try:\n",
    "    c1 < c2\n",
    "except TypeError as ex:\n",
    "    print(f\"TypeError: {ex}\")"
   ]
  },
  {
   "cell_type": "code",
   "execution_count": 67,
   "id": "2e61b192",
   "metadata": {},
   "outputs": [
    {
     "name": "stdout",
     "output_type": "stream",
     "text": [
      "TypeError: '<' not supported between instances of 'Circle' and 'CircleNT'\n"
     ]
    }
   ],
   "source": [
    "try:\n",
    "    c1 < c2\n",
    "except TypeError as ex:\n",
    "    print(f\"TypeError: {ex}\")"
   ]
  },
  {
   "cell_type": "code",
   "execution_count": 68,
   "id": "66f8d145",
   "metadata": {},
   "outputs": [
    {
     "name": "stdout",
     "output_type": "stream",
     "text": [
      "TypeError: '<=' not supported between instances of 'Circle' and 'CircleNT'\n"
     ]
    }
   ],
   "source": [
    "try:\n",
    "    c1 <= c2\n",
    "except TypeError as ex:\n",
    "    print(f\"TypeError: {ex}\")"
   ]
  },
  {
   "cell_type": "code",
   "execution_count": 69,
   "id": "6383e7c0",
   "metadata": {},
   "outputs": [
    {
     "name": "stdout",
     "output_type": "stream",
     "text": [
      "TypeError: '>=' not supported between instances of 'Circle' and 'CircleNT'\n"
     ]
    }
   ],
   "source": [
    "try:\n",
    "    c1 >= c2\n",
    "except TypeError as ex:\n",
    "    print(f\"TypeError: {ex}\")"
   ]
  },
  {
   "cell_type": "markdown",
   "id": "1638bf8c",
   "metadata": {},
   "source": [
    "Ok, so `total_ordering` worked for us, and saved us writing quite a lot of boilerplate code."
   ]
  },
  {
   "cell_type": "markdown",
   "id": "10ccab5c",
   "metadata": {},
   "source": [
    "What about dataclasses? By default, dataclasses do not implement any ordering."
   ]
  },
  {
   "cell_type": "code",
   "execution_count": 70,
   "id": "b783c996",
   "metadata": {},
   "outputs": [],
   "source": [
    "c1 = CircleD()\n",
    "c2 = CircleD(1, 1, 1)"
   ]
  },
  {
   "cell_type": "code",
   "execution_count": 71,
   "id": "0562d874",
   "metadata": {},
   "outputs": [
    {
     "name": "stdout",
     "output_type": "stream",
     "text": [
      "TypeError: '<' not supported between instances of 'CircleD' and 'CircleD'\n"
     ]
    }
   ],
   "source": [
    "try:\n",
    "    c1 < c2\n",
    "except TypeError as ex:\n",
    "    print(f\"TypeError: {ex}\")"
   ]
  },
  {
   "cell_type": "markdown",
   "id": "bc2a84c7",
   "metadata": {},
   "source": [
    "But we can easily enable this in our dataclass this way:"
   ]
  },
  {
   "cell_type": "code",
   "execution_count": 72,
   "id": "479e3a32",
   "metadata": {},
   "outputs": [],
   "source": [
    "@dataclass(frozen=True, order=True)\n",
    "class CircleD:\n",
    "    x: int = 0\n",
    "    y: int = 0\n",
    "    radius: int = 1"
   ]
  },
  {
   "cell_type": "code",
   "execution_count": 73,
   "id": "49a97a6f",
   "metadata": {},
   "outputs": [],
   "source": [
    "c1 = CircleD()\n",
    "c2 = CircleD(1, 1, 1)"
   ]
  },
  {
   "cell_type": "code",
   "execution_count": 74,
   "id": "82494d46",
   "metadata": {},
   "outputs": [
    {
     "data": {
      "text/plain": [
       "(True, True, True, True)"
      ]
     },
     "execution_count": 74,
     "metadata": {},
     "output_type": "execute_result"
    }
   ],
   "source": [
    "c1 < c2, c1 <= c2, c2 > c1, c2 >= c1"
   ]
  },
  {
   "cell_type": "markdown",
   "id": "f2b91e0a",
   "metadata": {},
   "source": [
    "And it will not support comparing to a different type:"
   ]
  },
  {
   "cell_type": "code",
   "execution_count": 75,
   "id": "72c4ebba",
   "metadata": {},
   "outputs": [],
   "source": [
    "c1 = CircleD()\n",
    "c2 = CircleNT(1, 1, 1)"
   ]
  },
  {
   "cell_type": "code",
   "execution_count": 76,
   "id": "ca2e01aa",
   "metadata": {},
   "outputs": [
    {
     "name": "stdout",
     "output_type": "stream",
     "text": [
      "TypeError: '<' not supported between instances of 'CircleD' and 'CircleNT'\n"
     ]
    }
   ],
   "source": [
    "try:\n",
    "    c1 < c2\n",
    "except TypeError as ex:\n",
    "    print(f\"TypeError: {ex}\")"
   ]
  },
  {
   "cell_type": "markdown",
   "id": "d7a7a1c9",
   "metadata": {},
   "source": [
    "The only thing to note is how dataclasses define the ordering - it basically uses a tuple made of up the attributes defined in the dataclass, in the order in which they were declared (equality is iplemented the same way too).\n",
    "\n",
    "This means that you are limited in terms of how to define a custom ordering by default. We'll come back to that in a bit."
   ]
  },
  {
   "cell_type": "markdown",
   "id": "d6d81027",
   "metadata": {},
   "source": [
    "##### Serializing to Dictionaries and Tuples"
   ]
  },
  {
   "cell_type": "markdown",
   "id": "a573278a",
   "metadata": {},
   "source": [
    "Something that can be convenient sometimes, is the ability to extract the attribute values of an instance of our class into a dictionary (where the keys are the attribute names), or even into a tuple (ordered in some specific way).\n",
    "\n",
    "Dataclasses have that built-in as well."
   ]
  },
  {
   "cell_type": "code",
   "execution_count": 77,
   "id": "cd783a65",
   "metadata": {},
   "outputs": [],
   "source": [
    "from dataclasses import asdict, astuple"
   ]
  },
  {
   "cell_type": "code",
   "execution_count": 78,
   "id": "4ce1ff27",
   "metadata": {},
   "outputs": [],
   "source": [
    "c1 = CircleD()"
   ]
  },
  {
   "cell_type": "code",
   "execution_count": 79,
   "id": "0bbfadd4",
   "metadata": {},
   "outputs": [
    {
     "data": {
      "text/plain": [
       "{'x': 0, 'y': 0, 'radius': 1}"
      ]
     },
     "execution_count": 79,
     "metadata": {},
     "output_type": "execute_result"
    }
   ],
   "source": [
    "asdict(c1)"
   ]
  },
  {
   "cell_type": "code",
   "execution_count": 80,
   "id": "8ecaa26b",
   "metadata": {},
   "outputs": [
    {
     "data": {
      "text/plain": [
       "(0, 0, 1)"
      ]
     },
     "execution_count": 80,
     "metadata": {},
     "output_type": "execute_result"
    }
   ],
   "source": [
    "astuple(c1)"
   ]
  },
  {
   "cell_type": "markdown",
   "id": "8fc8b9bf",
   "metadata": {},
   "source": [
    "If we wanted something similar in our custom class, we would have to write that code ourselves.\n",
    "\n",
    "Let's do it."
   ]
  },
  {
   "cell_type": "code",
   "execution_count": 81,
   "id": "470bee23",
   "metadata": {},
   "outputs": [],
   "source": [
    "@total_ordering\n",
    "class Circle:\n",
    "    def __init__(self, x: int = 0, y: int = 0, radius: int = 1):\n",
    "        self._x = x\n",
    "        self._y = y\n",
    "        self._radius = radius\n",
    "\n",
    "    @property\n",
    "    def x(self):\n",
    "        return self._x\n",
    "    \n",
    "    @property\n",
    "    def y(self):\n",
    "        return self._y\n",
    "    \n",
    "    @property\n",
    "    def radius(self):\n",
    "        return self._radius\n",
    "    \n",
    "    def __repr__(self):\n",
    "        return f\"{self.__class__.__qualname__}(x={self.x}, y={self.y}, radius={self.radius})\"\n",
    "    \n",
    "    def __eq__(self, other):\n",
    "        if self.__class__ == other.__class__:\n",
    "            return (self.x, self.y, self.radius) == (other.x, other.y, other.radius)\n",
    "        return NotImplemented\n",
    "    \n",
    "    def __hash__(self):\n",
    "        return hash((self.x, self.y, self.radius))\n",
    "    \n",
    "    def __lt__(self, other):\n",
    "        if self.__class__ == other.__class__:\n",
    "            return (self.x, self.y, self.radius) < (other.x, other.y, other.radius)\n",
    "        return NotImplemented\n",
    "    \n",
    "    def asdict(self):\n",
    "        return {\n",
    "            'x': self.x,\n",
    "            'y': self.y,\n",
    "            'radius': self.radius\n",
    "        }\n",
    "    \n",
    "    def astuple(self):\n",
    "        return self.x, self.y, self.radius"
   ]
  },
  {
   "cell_type": "markdown",
   "id": "f9233dd2",
   "metadata": {},
   "source": [
    "Now this works, but is rather simplistic, and means that if we ever add/remove attributes rom the class we also need to update the `asdict` and `astuple` methods - not the end of the world, but can easily lead to bugs."
   ]
  },
  {
   "cell_type": "code",
   "execution_count": 82,
   "id": "a45fd3bd",
   "metadata": {},
   "outputs": [
    {
     "data": {
      "text/plain": [
       "{'x': 0, 'y': 0, 'radius': 1}"
      ]
     },
     "execution_count": 82,
     "metadata": {},
     "output_type": "execute_result"
    }
   ],
   "source": [
    "c1 = Circle()\n",
    "c1.asdict()"
   ]
  },
  {
   "cell_type": "code",
   "execution_count": 83,
   "id": "8ef33388",
   "metadata": {},
   "outputs": [
    {
     "data": {
      "text/plain": [
       "(0, 0, 1)"
      ]
     },
     "execution_count": 83,
     "metadata": {},
     "output_type": "execute_result"
    }
   ],
   "source": [
    "c1.astuple()"
   ]
  },
  {
   "cell_type": "markdown",
   "id": "94d77f9f",
   "metadata": {},
   "source": [
    "We could certainly start writing more complicated code to be more generic, but we'll have to deal with introspection, decide what attributes to include, etc - not simple!"
   ]
  },
  {
   "cell_type": "markdown",
   "id": "9e10163e",
   "metadata": {},
   "source": [
    "#### Fields Introspection"
   ]
  },
  {
   "cell_type": "markdown",
   "id": "156e082e",
   "metadata": {},
   "source": [
    "Speaking of introspection, dataclasses come through on that front too!"
   ]
  },
  {
   "cell_type": "code",
   "execution_count": 84,
   "id": "8b890bcc",
   "metadata": {},
   "outputs": [],
   "source": [
    "from dataclasses import fields"
   ]
  },
  {
   "cell_type": "code",
   "execution_count": 85,
   "id": "384f2881",
   "metadata": {},
   "outputs": [],
   "source": [
    "c1 = CircleD()"
   ]
  },
  {
   "cell_type": "code",
   "execution_count": 86,
   "id": "6b90a840",
   "metadata": {
    "scrolled": true
   },
   "outputs": [
    {
     "name": "stdout",
     "output_type": "stream",
     "text": [
      "Field(name='x',type=<class 'int'>,default=0,default_factory=<dataclasses._MISSING_TYPE object at 0x105941050>,init=True,repr=True,hash=None,compare=True,metadata=mappingproxy({}),kw_only=False,_field_type=_FIELD)\n",
      "---------------------\n",
      "Field(name='y',type=<class 'int'>,default=0,default_factory=<dataclasses._MISSING_TYPE object at 0x105941050>,init=True,repr=True,hash=None,compare=True,metadata=mappingproxy({}),kw_only=False,_field_type=_FIELD)\n",
      "---------------------\n",
      "Field(name='radius',type=<class 'int'>,default=1,default_factory=<dataclasses._MISSING_TYPE object at 0x105941050>,init=True,repr=True,hash=None,compare=True,metadata=mappingproxy({}),kw_only=False,_field_type=_FIELD)\n",
      "---------------------\n"
     ]
    }
   ],
   "source": [
    "for field in fields(c1):\n",
    "    print(field, end='\\n---------------------\\n')"
   ]
  },
  {
   "cell_type": "markdown",
   "id": "c66ab846",
   "metadata": {},
   "source": [
    "##### Comparing Dataclass to Custom Class Code So Far"
   ]
  },
  {
   "cell_type": "markdown",
   "id": "6edf3ca0",
   "metadata": {},
   "source": [
    "Here's our data class:"
   ]
  },
  {
   "cell_type": "code",
   "execution_count": 87,
   "id": "e62d3b27",
   "metadata": {},
   "outputs": [],
   "source": [
    "@dataclass(frozen=True, order=True)\n",
    "class CircleD:\n",
    "    x: int = 0\n",
    "    y: int = 0\n",
    "    radius: int = 1"
   ]
  },
  {
   "cell_type": "markdown",
   "id": "c8bd44f5",
   "metadata": {},
   "source": [
    "And our custom class:"
   ]
  },
  {
   "cell_type": "code",
   "execution_count": 88,
   "id": "fa2bd862",
   "metadata": {},
   "outputs": [],
   "source": [
    "@total_ordering\n",
    "class Circle:\n",
    "    def __init__(self, x: int = 0, y: int = 0, radius: int = 1):\n",
    "        self._x = x\n",
    "        self._y = y\n",
    "        self._radius = radius\n",
    "\n",
    "    @property\n",
    "    def x(self):\n",
    "        return self._x\n",
    "    \n",
    "    @property\n",
    "    def y(self):\n",
    "        return self._y\n",
    "    \n",
    "    @property\n",
    "    def radius(self):\n",
    "        return self._radius\n",
    "    \n",
    "    def __repr__(self):\n",
    "        return f\"{self.__class__.__qualname__}(x={self.x}, y={self.y}, radius={self.radius})\"\n",
    "    \n",
    "    def __eq__(self, other):\n",
    "        if self.__class__ == other.__class__:\n",
    "            return (self.x, self.y, self.radius) == (other.x, other.y, other.radius)\n",
    "        return NotImplemented\n",
    "    \n",
    "    def __hash__(self):\n",
    "        return hash((self.x, self.y, self.radius))\n",
    "    \n",
    "    def __lt__(self, other):\n",
    "        if self.__class__ == other.__class__:\n",
    "            return (self.x, self.y, self.radius) < (other.x, other.y, other.radius)\n",
    "        return NotImplemented\n",
    "    \n",
    "    def asdict(self):\n",
    "        return {\n",
    "            'x': self.x,\n",
    "            'y': self.y,\n",
    "            'radius': self.radius\n",
    "        }\n",
    "    \n",
    "    def astuple(self):\n",
    "        return self.x, self.y, self.radius"
   ]
  },
  {
   "cell_type": "markdown",
   "id": "45c4d2e7",
   "metadata": {},
   "source": [
    "So, for very little effort we get quite a lot of functionality out of dataclasses. And what we have looked at so far will probably cover 80% of anything you'd ever need out of dataclasses (yes, I made that number up!)."
   ]
  },
  {
   "cell_type": "markdown",
   "id": "f9457cbd",
   "metadata": {},
   "source": [
    "#### Adding Methods and Properties to Dataclasses"
   ]
  },
  {
   "cell_type": "markdown",
   "id": "eb39d1b1",
   "metadata": {},
   "source": [
    "Remember that dataclases is just a code generator that generates a standard Python class. This means that we can choose to add additional properties, methods, and even override special dunder methods however we want."
   ]
  },
  {
   "cell_type": "code",
   "execution_count": 89,
   "id": "bebd8d78",
   "metadata": {},
   "outputs": [],
   "source": [
    "from math import pi\n",
    "\n",
    "@dataclass(frozen=True, order=True)\n",
    "class CircleD:\n",
    "    x: int = 0\n",
    "    y: int = 0\n",
    "    radius: int = 1\n",
    "        \n",
    "    @property\n",
    "    def area(self):\n",
    "        return pi * self.radius ** 2\n",
    "    \n",
    "    def circumference(self):\n",
    "        return 2 * pi * self.radius"
   ]
  },
  {
   "cell_type": "code",
   "execution_count": 90,
   "id": "7b6a0a6a",
   "metadata": {},
   "outputs": [
    {
     "data": {
      "text/plain": [
       "(3.141592653589793, 6.283185307179586)"
      ]
     },
     "execution_count": 90,
     "metadata": {},
     "output_type": "execute_result"
    }
   ],
   "source": [
    "c = CircleD()\n",
    "c.area, c.circumference()"
   ]
  },
  {
   "cell_type": "markdown",
   "id": "9c51b66d",
   "metadata": {},
   "source": [
    "##### Custom Ordering"
   ]
  },
  {
   "cell_type": "markdown",
   "id": "759adc82",
   "metadata": {},
   "source": [
    "We can even override the special dunder methods. Let's go back to our ordering of the Circles."
   ]
  },
  {
   "cell_type": "markdown",
   "id": "750ead99",
   "metadata": {},
   "source": [
    "We saw how the default ordering that dataclasses defined for our Circles was not ideal. Let's say I really want to define ordering between circles in one of two ways:\n",
    "- based on the radius **only**\n",
    "- based on the distance from the origin\n",
    "\n",
    "There is no way (currently, that I know of) to completely customize a sort order key function in dataclasses.\n",
    "\n",
    "You can specify whether a field should be included or not in the comparison tuple though - so doing a comparison based only on the radius would be possible using the native functionality of dataclasses. The second sort option would not, and you therefore need to implement your own `__lt__`, `__le__`, etc. \n",
    "\n",
    "You can, however, completely customize the sort key in the more powerful `attrs` library (using the [cmp_using](https://www.attrs.org/en/stable/api.html#attrs.cmp_using)) attribute."
   ]
  },
  {
   "cell_type": "markdown",
   "id": "4bf7c388",
   "metadata": {},
   "source": [
    "Let's implement a custom sort order based on the distance from the origin (we'll circle back to the other sort order, which is easy to achieve using native dataclasses functionality)."
   ]
  },
  {
   "cell_type": "code",
   "execution_count": 91,
   "id": "4af7cd01",
   "metadata": {},
   "outputs": [],
   "source": [
    "from math import pi, dist\n",
    "\n",
    "@dataclass(frozen=True)\n",
    "class CircleD:\n",
    "    x: int = 0\n",
    "    y: int = 0\n",
    "    radius: int = 1\n",
    "        \n",
    "    @property\n",
    "    def area(self):\n",
    "        return pi * self.radius ** 2\n",
    "    \n",
    "    def circumference(self):\n",
    "        return 2 * pi * self.radius\n",
    "    \n",
    "    def __lt__(self, other):\n",
    "        if self.__class__ == other.__class__:\n",
    "            return dist((0, 0), (self.x, self.y)) < dist((0, 0), (other.x, other.y))\n",
    "        return NotImplemented"
   ]
  },
  {
   "cell_type": "markdown",
   "id": "5a4b970e",
   "metadata": {},
   "source": [
    "We now should have `<` implemented:"
   ]
  },
  {
   "cell_type": "code",
   "execution_count": 92,
   "id": "5a26b3e5",
   "metadata": {},
   "outputs": [],
   "source": [
    "c1 = CircleD(2, 2, 10)\n",
    "c2 = CircleD(3, 3, 100)"
   ]
  },
  {
   "cell_type": "code",
   "execution_count": 93,
   "id": "4fff380c",
   "metadata": {},
   "outputs": [
    {
     "data": {
      "text/plain": [
       "True"
      ]
     },
     "execution_count": 93,
     "metadata": {},
     "output_type": "execute_result"
    }
   ],
   "source": [
    "c1 < c2"
   ]
  },
  {
   "cell_type": "markdown",
   "id": "b9c4e62e",
   "metadata": {},
   "source": [
    "Of course we need to implement the other methods too:"
   ]
  },
  {
   "cell_type": "code",
   "execution_count": 94,
   "id": "c1cfd1cc",
   "metadata": {},
   "outputs": [
    {
     "name": "stdout",
     "output_type": "stream",
     "text": [
      "TypeError: '<=' not supported between instances of 'CircleD' and 'CircleD'\n"
     ]
    }
   ],
   "source": [
    "try:\n",
    "    c1 <= c2\n",
    "except TypeError as ex:\n",
    "    print(f\"TypeError: {ex}\")"
   ]
  },
  {
   "cell_type": "markdown",
   "id": "ad66252e",
   "metadata": {},
   "source": [
    "We can actually do this using the `total_ordering` decorator!"
   ]
  },
  {
   "cell_type": "code",
   "execution_count": 95,
   "id": "5952a5d0",
   "metadata": {},
   "outputs": [],
   "source": [
    "@total_ordering\n",
    "@dataclass(frozen=True)\n",
    "class CircleD:\n",
    "    x: int = 0\n",
    "    y: int = 0\n",
    "    radius: int = 1\n",
    "        \n",
    "    @property\n",
    "    def area(self):\n",
    "        return pi * self.radius ** 2\n",
    "    \n",
    "    def circumference(self):\n",
    "        return 2 * pi * self.radius\n",
    "    \n",
    "    def __lt__(self, other):\n",
    "        if self.__class__ == other.__class__:\n",
    "            return dist((0, 0), (self.x, self.y)) < dist((0, 0), (other.x, other.y))\n",
    "        return NotImplemented"
   ]
  },
  {
   "cell_type": "code",
   "execution_count": 96,
   "id": "fcf31a55",
   "metadata": {},
   "outputs": [
    {
     "data": {
      "text/plain": [
       "True"
      ]
     },
     "execution_count": 96,
     "metadata": {},
     "output_type": "execute_result"
    }
   ],
   "source": [
    "c1 = CircleD(2, 2, 10)\n",
    "c2 = CircleD(3, 3, 100)\n",
    "\n",
    "c1 <= c2"
   ]
  },
  {
   "cell_type": "markdown",
   "id": "b0ee7e7c",
   "metadata": {},
   "source": [
    "So, the question I have here, is in which order should we decorate with `total_ordering`? The way I have it here? Or this way?"
   ]
  },
  {
   "cell_type": "code",
   "execution_count": 97,
   "id": "034d3836",
   "metadata": {},
   "outputs": [],
   "source": [
    "@dataclass(frozen=True)\n",
    "@total_ordering\n",
    "class CircleD:\n",
    "    x: int = 0\n",
    "    y: int = 0\n",
    "    radius: int = 1\n",
    "        \n",
    "    @property\n",
    "    def area(self):\n",
    "        return pi * self.radius ** 2\n",
    "    \n",
    "    def circumference(self):\n",
    "        return 2 * pi * self.radius\n",
    "    \n",
    "    def __lt__(self, other):\n",
    "        if self.__class__ == other.__class__:\n",
    "            return dist((0, 0), (self.x, self.y)) < dist((0, 0), (other.x, other.y))\n",
    "        return NotImplemented"
   ]
  },
  {
   "cell_type": "markdown",
   "id": "94b85e7d",
   "metadata": {},
   "source": [
    "Both approaches seem to work, but because dataclasses is a code generator, and is actually opaque, I have no real idea if one way may or may not be better.\n",
    "\n",
    "My reasoning is that the second approach is preferrable. Suppose I did not use that `total_ordering` decorator - I would want to define all the `__lt__`, `__le__` methods in my class that then gets decorated with `@dataclass`.\n",
    "\n",
    "So, my reasoning is that I should first apply the `@total_ordering` decorator, and **then** apply the `@dataclass` decorator. If you know different, please let us know in the comments!"
   ]
  },
  {
   "cell_type": "markdown",
   "id": "86644798",
   "metadata": {},
   "source": [
    "**NOTE**:\n",
    "\n",
    "With all these examples we looked at for customizing the sort order, there is actually a problem - and that's because our equality definition and ordering comparisons (<, etc) are not really compatible!\n",
    "\n",
    "Take a look at this example:"
   ]
  },
  {
   "cell_type": "code",
   "execution_count": 98,
   "id": "36f141c6",
   "metadata": {},
   "outputs": [],
   "source": [
    "c1 = CircleD(1, 1, 10)\n",
    "c2 = CircleD(1, 1, 20)"
   ]
  },
  {
   "cell_type": "markdown",
   "id": "58e8405f",
   "metadata": {},
   "source": [
    "From a sorting perspective we would consider these two circles to be equal - but from an actual equality standapoint they are obviously not equal since the radius is different:"
   ]
  },
  {
   "cell_type": "code",
   "execution_count": 99,
   "id": "e0b5b266",
   "metadata": {},
   "outputs": [
    {
     "data": {
      "text/plain": [
       "False"
      ]
     },
     "execution_count": 99,
     "metadata": {},
     "output_type": "execute_result"
    }
   ],
   "source": [
    "c1 == c2"
   ]
  },
  {
   "cell_type": "code",
   "execution_count": 100,
   "id": "f57c523f",
   "metadata": {},
   "outputs": [
    {
     "data": {
      "text/plain": [
       "False"
      ]
     },
     "execution_count": 100,
     "metadata": {},
     "output_type": "execute_result"
    }
   ],
   "source": [
    "c1 <= c2"
   ]
  },
  {
   "cell_type": "markdown",
   "id": "d94a7592",
   "metadata": {},
   "source": [
    "Hmm... That's obviously wrong!"
   ]
  },
  {
   "cell_type": "markdown",
   "id": "f83f10b9",
   "metadata": {},
   "source": [
    "To fix this we really should not use @total_ordering, since it uses `__eq__` for the equality part of the comparisons - which means we'll need to define all the ordering special functions ourselves. Even more code!! For simplicty, and to keep this video down to about an hour I did not do this - so here's the actual code we would need to fix this issue (and would be needed for both the dataclass and the regular custom class of course)."
   ]
  },
  {
   "cell_type": "code",
   "execution_count": 101,
   "id": "2cb0c850",
   "metadata": {},
   "outputs": [],
   "source": [
    "@dataclass(frozen=True)\n",
    "class CircleD:\n",
    "    x: int = 0\n",
    "    y: int = 0\n",
    "    radius: int = 1\n",
    "        \n",
    "    @property\n",
    "    def area(self):\n",
    "        return pi * self.radius ** 2\n",
    "    \n",
    "    def circumference(self):\n",
    "        return 2 * pi * self.radius\n",
    "    \n",
    "    @staticmethod\n",
    "    def _dist_from_origin(c):\n",
    "        return dist((0, 0), (c.x, c.y))\n",
    "    \n",
    "    def __lt__(self, other):\n",
    "        if self.__class__ == other.__class__:\n",
    "            return self._dist_from_origin(self) < self._dist_from_origin(other)\n",
    "        return NotImplemented\n",
    "    \n",
    "    def __le__(self, other):\n",
    "        if self.__class__ == other.__class__:\n",
    "            return self._dist_from_origin(self) <= self._dist_from_origin(other)\n",
    "        return NotImplemented\n",
    "    \n",
    "    def __gt__(self, other):\n",
    "        if self.__class__ == other.__class__:\n",
    "            return self._dist_from_origin(self) > self._dist_from_origin(other)\n",
    "        return NotImplemented\n",
    "    \n",
    "    def __ge__(self, other):\n",
    "        if self.__class__ == other.__class__:\n",
    "            return self._dist_from_origin(self) >= self._dist_from_origin(other)\n",
    "        return NotImplemented\n"
   ]
  },
  {
   "cell_type": "markdown",
   "id": "faa9f01e",
   "metadata": {},
   "source": [
    "Now we should get more consistent results:"
   ]
  },
  {
   "cell_type": "code",
   "execution_count": 102,
   "id": "7d323357",
   "metadata": {},
   "outputs": [],
   "source": [
    "c1 = CircleD(1, 1, 10)\n",
    "c2 = CircleD(1, 1, 20)"
   ]
  },
  {
   "cell_type": "markdown",
   "id": "5ad961bf",
   "metadata": {},
   "source": [
    "The circles are still not equal:"
   ]
  },
  {
   "cell_type": "code",
   "execution_count": 103,
   "id": "56f29b8e",
   "metadata": {},
   "outputs": [
    {
     "data": {
      "text/plain": [
       "False"
      ]
     },
     "execution_count": 103,
     "metadata": {},
     "output_type": "execute_result"
    }
   ],
   "source": [
    "c1 == c2"
   ]
  },
  {
   "cell_type": "markdown",
   "id": "354dc7da",
   "metadata": {},
   "source": [
    "But the ordering comparisons work more as expected:"
   ]
  },
  {
   "cell_type": "code",
   "execution_count": 104,
   "id": "0c40d030",
   "metadata": {},
   "outputs": [
    {
     "data": {
      "text/plain": [
       "False"
      ]
     },
     "execution_count": 104,
     "metadata": {},
     "output_type": "execute_result"
    }
   ],
   "source": [
    "c1 < c2"
   ]
  },
  {
   "cell_type": "code",
   "execution_count": 105,
   "id": "2a201a14",
   "metadata": {},
   "outputs": [
    {
     "data": {
      "text/plain": [
       "True"
      ]
     },
     "execution_count": 105,
     "metadata": {},
     "output_type": "execute_result"
    }
   ],
   "source": [
    "c1 <= c2"
   ]
  },
  {
   "cell_type": "code",
   "execution_count": 106,
   "id": "d349a076",
   "metadata": {},
   "outputs": [
    {
     "data": {
      "text/plain": [
       "False"
      ]
     },
     "execution_count": 106,
     "metadata": {},
     "output_type": "execute_result"
    }
   ],
   "source": [
    "c1 > c2"
   ]
  },
  {
   "cell_type": "code",
   "execution_count": 107,
   "id": "c9eae1d5",
   "metadata": {},
   "outputs": [
    {
     "data": {
      "text/plain": [
       "True"
      ]
     },
     "execution_count": 107,
     "metadata": {},
     "output_type": "execute_result"
    }
   ],
   "source": [
    "c1 >= c2"
   ]
  },
  {
   "cell_type": "markdown",
   "id": "c1ad0b6e",
   "metadata": {},
   "source": [
    "#### Keyword-Only Initializer Arguments"
   ]
  },
  {
   "cell_type": "markdown",
   "id": "7f4acfdf",
   "metadata": {},
   "source": [
    "When we write a custom class, we can customize our `__init__` method to require certain arguments to be keyword-only.\n",
    "\n",
    "We might want to do something like this for our circle class (not sure why we would want to do this in this example, but this is just to illustrate things:"
   ]
  },
  {
   "cell_type": "code",
   "execution_count": 108,
   "id": "b0f95f33",
   "metadata": {},
   "outputs": [],
   "source": [
    "@total_ordering\n",
    "class Circle:\n",
    "    def __init__(self, x: int = 0, y: int = 0, *, radius: int = 1,):\n",
    "        self._x = x\n",
    "        self._y = y\n",
    "        self._radius = radius\n",
    "\n",
    "    @property\n",
    "    def x(self):\n",
    "        return self._x\n",
    "    \n",
    "    @property\n",
    "    def y(self):\n",
    "        return self._y\n",
    "    \n",
    "    @property\n",
    "    def radius(self):\n",
    "        return self._radius\n",
    "    \n",
    "    def __repr__(self):\n",
    "        return f\"{self.__class__.__qualname__}(x={self.x}, y={self.y}, radius={self.radius})\"\n",
    "    \n",
    "    def __eq__(self, other):\n",
    "        if self.__class__ == other.__class__:\n",
    "            return (self.x, self.y, self.radius) == (other.x, other.y, other.radius)\n",
    "        return NotImplemented\n",
    "    \n",
    "    def __hash__(self):\n",
    "        return hash((self.x, self.y, self.radius))\n",
    "    \n",
    "    def __lt__(self, other):\n",
    "        if self.__class__ == other.__class__:\n",
    "            return (self.x, self.y, self.radius) < (other.x, other.y, other.radius)\n",
    "        return NotImplemented\n",
    "    \n",
    "    def asdict(self):\n",
    "        return {\n",
    "            'x': self.x,\n",
    "            'y': self.y,\n",
    "            'radius': self.radius\n",
    "        }\n",
    "    \n",
    "    def astuple(self):\n",
    "        return self.x, self.y, self.radius"
   ]
  },
  {
   "cell_type": "markdown",
   "id": "411f3b08",
   "metadata": {},
   "source": [
    "So now, the only way to specify a custom radius is to pass it as a named argument:"
   ]
  },
  {
   "cell_type": "code",
   "execution_count": 109,
   "id": "5564333e",
   "metadata": {},
   "outputs": [
    {
     "data": {
      "text/plain": [
       "Circle(x=0, y=0, radius=2)"
      ]
     },
     "execution_count": 109,
     "metadata": {},
     "output_type": "execute_result"
    }
   ],
   "source": [
    "c = Circle(radius=2)\n",
    "c"
   ]
  },
  {
   "cell_type": "markdown",
   "id": "5fc0a30d",
   "metadata": {},
   "source": [
    "And we can no longer do this:"
   ]
  },
  {
   "cell_type": "code",
   "execution_count": 110,
   "id": "3858f120",
   "metadata": {},
   "outputs": [
    {
     "name": "stdout",
     "output_type": "stream",
     "text": [
      "TypeError:Circle.__init__() takes from 1 to 3 positional arguments but 4 were given\n"
     ]
    }
   ],
   "source": [
    "try:\n",
    "    Circle(0, 0, 2)\n",
    "except TypeError as ex:\n",
    "    print(f\"TypeError:{ex}\")"
   ]
  },
  {
   "cell_type": "markdown",
   "id": "1b0f9a21",
   "metadata": {},
   "source": [
    "We can achieve the same thing in dataclasses by using something to indicate, in our attribute declarations a boundary between positional and keyword-only arguments (just like the `*` did in our `__init__` methods definition)."
   ]
  },
  {
   "cell_type": "code",
   "execution_count": 111,
   "id": "aa062a68",
   "metadata": {},
   "outputs": [],
   "source": [
    "from dataclasses import KW_ONLY"
   ]
  },
  {
   "cell_type": "code",
   "execution_count": 112,
   "id": "afce1a38",
   "metadata": {},
   "outputs": [],
   "source": [
    "@dataclass(frozen=True, order=True)\n",
    "class CircleD:\n",
    "    x: int = 0\n",
    "    y: int = 0\n",
    "    _: KW_ONLY\n",
    "    radius: int = 1"
   ]
  },
  {
   "cell_type": "markdown",
   "id": "3865bdc9",
   "metadata": {},
   "source": [
    "And now we get the same functionality:"
   ]
  },
  {
   "cell_type": "code",
   "execution_count": 113,
   "id": "05d2b6f7",
   "metadata": {},
   "outputs": [],
   "source": [
    "c = CircleD(0, 0, radius=2)"
   ]
  },
  {
   "cell_type": "code",
   "execution_count": 114,
   "id": "0569ebd5",
   "metadata": {},
   "outputs": [
    {
     "name": "stdout",
     "output_type": "stream",
     "text": [
      "TypeError: Circle.__init__() takes from 1 to 3 positional arguments but 4 were given\n"
     ]
    }
   ],
   "source": [
    "try:\n",
    "    Circle(0, 0, 2)\n",
    "except TypeError as ex:\n",
    "    print(f\"TypeError: {ex}\")"
   ]
  },
  {
   "cell_type": "markdown",
   "id": "2f9a3b68",
   "metadata": {},
   "source": [
    "If we wanted to make all the arguments in our `__init__` keyword-only arguments, it's even simpler:"
   ]
  },
  {
   "cell_type": "code",
   "execution_count": 115,
   "id": "92578ba4",
   "metadata": {},
   "outputs": [],
   "source": [
    "@dataclass(frozen=True, order=True, kw_only=True)\n",
    "class CircleD:\n",
    "    x: int = 0\n",
    "    y: int = 0\n",
    "    radius: int = 1"
   ]
  },
  {
   "cell_type": "code",
   "execution_count": 116,
   "id": "929ccdaf",
   "metadata": {},
   "outputs": [],
   "source": [
    "c = CircleD(x=0, y=0, radius=1)"
   ]
  },
  {
   "cell_type": "code",
   "execution_count": 117,
   "id": "01c3c44e",
   "metadata": {},
   "outputs": [
    {
     "name": "stdout",
     "output_type": "stream",
     "text": [
      "TypeError: CircleD.__init__() takes 1 positional argument but 2 positional arguments (and 2 keyword-only arguments) were given\n"
     ]
    }
   ],
   "source": [
    "try:\n",
    "    CircleD(0, y=0, radius=1)\n",
    "except TypeError as ex:\n",
    "    print(f\"TypeError: {ex}\")"
   ]
  },
  {
   "cell_type": "markdown",
   "id": "cc156519",
   "metadata": {},
   "source": [
    "Why does this error message state that `__init__` takes 1 positional argument and 2 were provided? \n",
    "\n",
    "It should take none, and we only gave it one.\n",
    "\n",
    "Don't forget that any method in a class always starts with one positional argument because the function is a bound method - that `self` argument. So it expects one (the bound object, which Python supplies for us), and since we also passed in `0` as a positional argument, it ends up with two positional arguments, when only one is allowed."
   ]
  },
  {
   "cell_type": "markdown",
   "id": "ac990342",
   "metadata": {},
   "source": [
    "#### Resource Utilization / Performance - Dataclasses vs NamedTuples"
   ]
  },
  {
   "cell_type": "markdown",
   "id": "2a01ed29",
   "metadata": {},
   "source": [
    "I stated right in the beginning that I would not compare and contrast dataclasses, named tuples, attrs and Pydantic objects. \n",
    "\n",
    "However, I have come across people that categorically reject named tuples and will only use dataclasses. \n",
    "\n",
    "My inital, knee-jerk reaction was along the lines of this old saying: _when you have a shiny new hammer, everything looks like a nail_. (I often use that saying when talking about metaclasses also!)"
   ]
  },
  {
   "cell_type": "markdown",
   "id": "29eb3791",
   "metadata": {},
   "source": [
    "My initial reaction was that named tuples are more \"lightweight\" and provide better performance. \n",
    "\n",
    "But this was just a (not totally unfounded) guess. \n",
    "\n",
    "So, I wanted to look into that a bit more and see for myself."
   ]
  },
  {
   "cell_type": "markdown",
   "id": "d140befb",
   "metadata": {},
   "source": [
    "Let's create a simple data class:"
   ]
  },
  {
   "cell_type": "code",
   "execution_count": 118,
   "id": "51d4286a",
   "metadata": {},
   "outputs": [],
   "source": [
    "@dataclass\n",
    "class PointD1:\n",
    "    x: int = 0\n",
    "    y: int = 0"
   ]
  },
  {
   "cell_type": "markdown",
   "id": "a72f6450",
   "metadata": {},
   "source": [
    "And let's create a named tuple:"
   ]
  },
  {
   "cell_type": "code",
   "execution_count": 119,
   "id": "5cd594d8",
   "metadata": {},
   "outputs": [],
   "source": [
    "from collections import namedtuple\n",
    "\n",
    "PointNT1 = namedtuple(\"PointNT1\", \"x y\")"
   ]
  },
  {
   "cell_type": "code",
   "execution_count": 120,
   "id": "f9524c6d",
   "metadata": {},
   "outputs": [],
   "source": [
    "from typing import NamedTuple\n",
    "\n",
    "class PointNT2(NamedTuple):\n",
    "    x: int = 0\n",
    "    y: int = 0"
   ]
  },
  {
   "cell_type": "markdown",
   "id": "36c82860",
   "metadata": {},
   "source": [
    "Remember, I am looking at the use case of a callable returning multiple results.\n",
    "\n",
    "Usually this done by simply returning a plain tuple - but the named tuple gives us the advantage of being able to reference values by name, as well as by index.\n",
    "\n",
    "Of course this can be done using a dataclass - we could even make the dataclass immutable if we wanted to, and we could access values by index by using the `astuple` function - but this use case really only cares about accessing the fields by name (otherwise why not just use a plain tuple?)."
   ]
  },
  {
   "cell_type": "markdown",
   "id": "9497f9e8",
   "metadata": {},
   "source": [
    "Before someone accuses me of cheating, there is a way to make storage or dataclasses a bit more efficient, by using slots. I won't get into what slots are here (I do in my deep dive course), but let's use this as well."
   ]
  },
  {
   "cell_type": "code",
   "execution_count": 121,
   "id": "571da866",
   "metadata": {},
   "outputs": [],
   "source": [
    "@dataclass(slots=True)\n",
    "class PointD2:\n",
    "    x: int = 0\n",
    "    y: int = 0"
   ]
  },
  {
   "cell_type": "markdown",
   "id": "91846aa2",
   "metadata": {},
   "source": [
    "And lastly, since immutability may be something you want from a function's return values, let's do that variant too with data classes:"
   ]
  },
  {
   "cell_type": "code",
   "execution_count": 122,
   "id": "df44a1e2",
   "metadata": {},
   "outputs": [],
   "source": [
    "@dataclass(frozen=True)\n",
    "class PointD3:\n",
    "    x: int = 0\n",
    "    y: int = 0"
   ]
  },
  {
   "cell_type": "code",
   "execution_count": 123,
   "id": "dceaa001",
   "metadata": {},
   "outputs": [],
   "source": [
    "@dataclass(frozen=True, slots=True)\n",
    "class PointD4:\n",
    "    x: int = 0\n",
    "    y: int = 0"
   ]
  },
  {
   "cell_type": "markdown",
   "id": "b00cc55d",
   "metadata": {},
   "source": [
    "Ok, so to recap what we have:"
   ]
  },
  {
   "cell_type": "markdown",
   "id": "8b6edcb7",
   "metadata": {},
   "source": [
    " - `PointNT1`: named tuple created using `collections.namedtuple`\n",
    " - `PointNT2`: named tuple created using the more modern (with type hints) `typing.NamedTuple` class\n",
    " - `PointD1`: dataclass, mutable, no slots\n",
    " - `PointD2`: dataclass, mutable, slots\n",
    " - `PointD3`: dataclass, frozen, no slots\n",
    " - `PointD4`: dataclas, frozen, slots"
   ]
  },
  {
   "cell_type": "markdown",
   "id": "713598e6",
   "metadata": {},
   "source": [
    "Let's create an instance of each one:"
   ]
  },
  {
   "cell_type": "code",
   "execution_count": 124,
   "id": "aab29aa9",
   "metadata": {},
   "outputs": [],
   "source": [
    "pnt1 = PointNT1(1, 2)\n",
    "pnt2 = PointNT2(1, 2)\n",
    "pd1 = PointD1(1, 2)\n",
    "pd2 = PointD2(1, 2)\n",
    "pd3 = PointD3(1, 2)\n",
    "pd4 = PointD4(1, 2)"
   ]
  },
  {
   "cell_type": "markdown",
   "id": "bb52ba83",
   "metadata": {},
   "source": [
    "Let's look at the size of each one of those objects:"
   ]
  },
  {
   "cell_type": "markdown",
   "id": "8904662b",
   "metadata": {},
   "source": [
    "Getting the \"size\" of an object can be tricky, since we need to not only look at the object, but the data it contains too.\n",
    "\n",
    "To make life simpler, I am going to use the [objsize](https://github.com/liran-funaro/objsize) library (you'll need to pip install it if you're following along):"
   ]
  },
  {
   "cell_type": "code",
   "execution_count": 125,
   "id": "b4beb4de",
   "metadata": {},
   "outputs": [
    {
     "name": "stdout",
     "output_type": "stream",
     "text": [
      "Requirement already satisfied: objsize in /Users/fbaptiste/.local/share/virtualenvs/python-blog-MKbd64pD/lib/python3.11/site-packages (0.6.1)\r\n"
     ]
    }
   ],
   "source": [
    "!pip install objsize"
   ]
  },
  {
   "cell_type": "markdown",
   "id": "f757a28b",
   "metadata": {},
   "source": [
    "And we can now use it this way:"
   ]
  },
  {
   "cell_type": "code",
   "execution_count": 126,
   "id": "13f42229",
   "metadata": {},
   "outputs": [],
   "source": [
    "from objsize import get_deep_size"
   ]
  },
  {
   "cell_type": "code",
   "execution_count": 127,
   "id": "b3905491",
   "metadata": {},
   "outputs": [
    {
     "data": {
      "text/plain": [
       "(148, 172)"
      ]
     },
     "execution_count": 127,
     "metadata": {},
     "output_type": "execute_result"
    }
   ],
   "source": [
    "get_deep_size((1, 2, 3)), get_deep_size([1, 2, 3])"
   ]
  },
  {
   "cell_type": "markdown",
   "id": "21400411",
   "metadata": {},
   "source": [
    "Let's look at the memory for each variant:"
   ]
  },
  {
   "cell_type": "code",
   "execution_count": 128,
   "id": "8edead37",
   "metadata": {},
   "outputs": [
    {
     "name": "stdout",
     "output_type": "stream",
     "text": [
      "NT1 112\n",
      "NT1 112\n",
      "D1 112\n",
      "D2 104\n",
      "D3 112\n",
      "D4 104\n"
     ]
    }
   ],
   "source": [
    "print(\"NT1\", get_deep_size(pnt1))\n",
    "print(\"NT1\", get_deep_size(pnt2))\n",
    "print(\"D1\", get_deep_size(pd1))\n",
    "print(\"D2\", get_deep_size(pd2))\n",
    "print(\"D3\", get_deep_size(pd3))\n",
    "print(\"D4\", get_deep_size(pd4))"
   ]
  },
  {
   "cell_type": "markdown",
   "id": "4c1cacf4",
   "metadata": {},
   "source": [
    "As we can observe, and as we might have expected, the slotted dataclasses are a bit more efficient when it comes to storage (in our scenario we are saving 8 byes per instance - not exactly earth shattering, one way or the other).\n",
    "\n",
    "But what really surprised me was that the named tuples were not far more efficient with memory overhead than more full-featured classes."
   ]
  },
  {
   "cell_type": "markdown",
   "id": "cf57c10a",
   "metadata": {},
   "source": [
    "Next, what about timings for attribute access (by name)? How do the two compare?"
   ]
  },
  {
   "cell_type": "code",
   "execution_count": 138,
   "id": "a0d4f7e3",
   "metadata": {},
   "outputs": [],
   "source": [
    "from timeit import timeit"
   ]
  },
  {
   "cell_type": "code",
   "execution_count": 139,
   "id": "24292396",
   "metadata": {},
   "outputs": [],
   "source": [
    "read_attrib_pnt1 = timeit(\"pnt1.x\", globals=globals(), number=50_000_000)\n",
    "read_attrib_pnt2 = timeit(\"pnt2.x\", globals=globals(), number=50_000_000)\n",
    "read_attrib_pd1 = timeit(\"pd1.x\", globals=globals(), number=50_000_000)\n",
    "read_attrib_pd2 = timeit(\"pd2.x\", globals=globals(), number=50_000_000)\n",
    "read_attrib_pd3 = timeit(\"pd3.x\", globals=globals(), number=50_000_000)\n",
    "read_attrib_pd4 = timeit(\"pd4.x\", globals=globals(), number=50_000_000)"
   ]
  },
  {
   "cell_type": "code",
   "execution_count": 140,
   "id": "d906e722",
   "metadata": {},
   "outputs": [
    {
     "name": "stdout",
     "output_type": "stream",
     "text": [
      "pnt1: 0.87488\n",
      "pnt2: 0.84304\n",
      "pd1: 0.43091\n",
      "pd2: 0.41454\n",
      "pd3: 0.42733\n",
      "pd4: 0.41714\n"
     ]
    }
   ],
   "source": [
    "print(f\"pnt1: {read_attrib_pnt1:.5f}\")\n",
    "print(f\"pnt2: {read_attrib_pnt2:.5f}\")\n",
    "print(f\"pd1: {read_attrib_pd1:.5f}\")\n",
    "print(f\"pd2: {read_attrib_pd2:.5f}\")\n",
    "print(f\"pd3: {read_attrib_pd3:.5f}\")\n",
    "print(f\"pd4: {read_attrib_pd4:.5f}\")"
   ]
  },
  {
   "cell_type": "markdown",
   "id": "76fa4f31",
   "metadata": {},
   "source": [
    "So, the interesting result here is that dataclasses do not seem to incur much, if any, memory overhead, and attribute access appears faster for dataclasses than for named tuples."
   ]
  },
  {
   "cell_type": "markdown",
   "id": "59ff264d",
   "metadata": {},
   "source": [
    "The other thing that's kind of important is the amount of time it takes to create a named tuple instance vs a dataclass instance."
   ]
  },
  {
   "cell_type": "code",
   "execution_count": 141,
   "id": "0521ff35",
   "metadata": {},
   "outputs": [],
   "source": [
    "create_pnt1 = timeit(\"PointNT1(1, 2)\", globals=globals(), number=1_000_000)\n",
    "create_pnt2 = timeit(\"PointNT2(1, 2)\", globals=globals(), number=1_000_000)\n",
    "create_pd1 = timeit(\"PointD1(1, 2)\", globals=globals(), number=1_000_000)\n",
    "create_pd2 = timeit(\"PointD2(1, 2)\", globals=globals(), number=1_000_000)\n",
    "create_pd3 = timeit(\"PointD3(1, 2)\", globals=globals(), number=1_000_000)\n",
    "create_pd4 = timeit(\"PointD4(1, 2)\", globals=globals(), number=1_000_000)"
   ]
  },
  {
   "cell_type": "code",
   "execution_count": 142,
   "id": "3035104c",
   "metadata": {},
   "outputs": [
    {
     "name": "stdout",
     "output_type": "stream",
     "text": [
      "pnt1: 0.15040\n",
      "pnt2: 0.12031\n",
      "pd1: 0.08607\n",
      "pd2: 0.07842\n",
      "pd3: 0.19190\n",
      "pd4: 0.18190\n"
     ]
    }
   ],
   "source": [
    "print(f\"pnt1: {create_pnt1:.5f}\")\n",
    "print(f\"pnt2: {create_pnt2:.5f}\")\n",
    "print(f\"pd1: {create_pd1:.5f}\")\n",
    "print(f\"pd2: {create_pd2:.5f}\")\n",
    "print(f\"pd3: {create_pd3:.5f}\")\n",
    "print(f\"pd4: {create_pd4:.5f}\")"
   ]
  },
  {
   "cell_type": "markdown",
   "id": "288d3436",
   "metadata": {},
   "source": [
    "So, this is interesting too - creating instances of a mutable data class is also faster then creating a named tuple instance."
   ]
  },
  {
   "cell_type": "markdown",
   "id": "7d03859c",
   "metadata": {},
   "source": [
    "Let's compare all the different timings in one table:"
   ]
  },
  {
   "cell_type": "code",
   "execution_count": 143,
   "id": "b6366fa6",
   "metadata": {},
   "outputs": [
    {
     "name": "stdout",
     "output_type": "stream",
     "text": [
      "Requirement already satisfied: tabulate in /Users/fbaptiste/.local/share/virtualenvs/python-blog-MKbd64pD/lib/python3.11/site-packages (0.8.9)\r\n"
     ]
    }
   ],
   "source": [
    "!pip install tabulate"
   ]
  },
  {
   "cell_type": "code",
   "execution_count": 144,
   "id": "6e7486ae",
   "metadata": {},
   "outputs": [],
   "source": [
    "from tabulate import tabulate, tabulate_formats"
   ]
  },
  {
   "cell_type": "code",
   "execution_count": 145,
   "id": "028b1ffd",
   "metadata": {},
   "outputs": [
    {
     "name": "stdout",
     "output_type": "stream",
     "text": [
      "╒════════════════════════════╤════════╤═══════════╤═══════════════╕\n",
      "│ Object                     │   Size │    Create │   Read Attrib │\n",
      "╞════════════════════════════╪════════╪═══════════╪═══════════════╡\n",
      "│ collections.namedtuple     │    112 │ 0.150396  │      0.874879 │\n",
      "│ typing.NamedTuple          │    112 │ 0.120309  │      0.843042 │\n",
      "│ dataclass (mutable)        │    112 │ 0.0860746 │      0.430909 │\n",
      "│ dataclass (mutable, slots) │    104 │ 0.0784211 │      0.414541 │\n",
      "│ dataclass (frozen)         │    112 │ 0.191903  │      0.427334 │\n",
      "│ dataclass (frozen, slots)  │    104 │ 0.181898  │      0.417137 │\n",
      "╘════════════════════════════╧════════╧═══════════╧═══════════════╛\n"
     ]
    }
   ],
   "source": [
    "data = [\n",
    "    ['Object', 'Size', 'Create', 'Read Attrib'],\n",
    "    ['collections.namedtuple', get_deep_size(pnt1), create_pnt1, read_attrib_pnt1],\n",
    "    ['typing.NamedTuple', get_deep_size(pnt2), create_pnt2, read_attrib_pnt2],\n",
    "    ['dataclass (mutable)', get_deep_size(pd1), create_pd1, read_attrib_pd1],\n",
    "    ['dataclass (mutable, slots)', get_deep_size(pd2), create_pd2, read_attrib_pd2],\n",
    "    ['dataclass (frozen)', get_deep_size(pd3), create_pd3, read_attrib_pd3],\n",
    "    ['dataclass (frozen, slots)', get_deep_size(pd4), create_pd4, read_attrib_pd4],\n",
    "]\n",
    "\n",
    "print(tabulate(data, headers=\"firstrow\", tablefmt=\"fancy_outline\"))"
   ]
  },
  {
   "cell_type": "markdown",
   "id": "18b94ffe",
   "metadata": {},
   "source": [
    "Overall, seems like the better option if I were serializing something like rows from a database into some structure, or returning structured data from a callable, would be to use a mutable dataclass with slots.\n",
    "\n",
    "Not a conclusion I was expecting when I first started looking at this to be honest."
   ]
  },
  {
   "cell_type": "markdown",
   "id": "bfa95764",
   "metadata": {},
   "source": [
    "So, am I going to switch to dataclasses instead fo named tuples for function return values? Probably not, I'm set in my ways, and I do like the ability to create a named tuple using a single line of code:"
   ]
  },
  {
   "cell_type": "code",
   "execution_count": 146,
   "id": "5c1ac500",
   "metadata": {},
   "outputs": [],
   "source": [
    "Point = namedtuple('Point', 'x y z')"
   ]
  },
  {
   "cell_type": "markdown",
   "id": "6884ba8a",
   "metadata": {},
   "source": [
    "But I have to admit this has made me rethink named tuples vs dataclasses!\n",
    "\n",
    "Did I get something wrong with these comparisons? Let me know in the comments."
   ]
  },
  {
   "cell_type": "markdown",
   "id": "a09d2792",
   "metadata": {},
   "source": [
    "#### Conclusion and Future Videos"
   ]
  },
  {
   "cell_type": "markdown",
   "id": "c4232656",
   "metadata": {},
   "source": [
    "We saw how to create dataclasses, and customize them quite a bit.\n",
    "\n",
    "But there are a whole lot more finer grained customizations we can add to dataclasses by adding declarations to the fields defined in the dataclass body, a few more options in the `@dataclass` decorator, as well as an interesting new special method available for dataclasses, called `__post_init__`. We also have the option to add metadata to each field in the dataclass, as well as a few other odds and ends.\n",
    "\n",
    "For all the functionality we saw with dataclasses, keep in mind that this is basically a subset of `attrs`. \n",
    "\n",
    "But this is more than enough for a single video, so I'm going to leave things here and come back with a second installment on more advanced features of dataclasses in the near future. Stay tuned!"
   ]
  }
 ],
 "metadata": {
  "kernelspec": {
   "display_name": "Python 3 (ipykernel)",
   "language": "python",
   "name": "python3"
  },
  "language_info": {
   "codemirror_mode": {
    "name": "ipython",
    "version": 3
   },
   "file_extension": ".py",
   "mimetype": "text/x-python",
   "name": "python",
   "nbconvert_exporter": "python",
   "pygments_lexer": "ipython3",
   "version": "3.11.1"
  }
 },
 "nbformat": 4,
 "nbformat_minor": 5
}
