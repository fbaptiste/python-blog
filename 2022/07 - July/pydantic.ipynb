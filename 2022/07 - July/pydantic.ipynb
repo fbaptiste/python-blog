{
 "cells": [
  {
   "cell_type": "markdown",
   "id": "61f298bb",
   "metadata": {},
   "source": [
    "### The `pydantic` Library"
   ]
  },
  {
   "cell_type": "markdown",
   "id": "72571a2c",
   "metadata": {},
   "source": [
    "In this tutorial we're going to take a look at the [pydantic](https://pydantic-docs.helpmanual.io/) library."
   ]
  },
  {
   "cell_type": "markdown",
   "id": "d18c368a",
   "metadata": {},
   "source": [
    "This is a great library for creating data models in Python, leveraging Python's built-in type hints."
   ]
  },
  {
   "cell_type": "markdown",
   "id": "4e75ac51",
   "metadata": {},
   "source": [
    "I first came across this library when I started using [FastAPI](https://fastapi.tiangolo.com/) for API development."
   ]
  },
  {
   "cell_type": "markdown",
   "id": "8669d587",
   "metadata": {},
   "source": [
    "Since then I have been using `pydantic` for way more than just FastAPI - I find myself using that library practically in almost every project I write.\n",
    "\n",
    "It makes defining data structures (or **models** in Pydantic's terminology) with \"strict typing\" very easy. Furthermore, Pydantic provides data validation (what basically gives us \"strict typing\", in the sense that we are guaranteed that fields in the structure will be of some specific type), as well as the ability to easily serialize and deserialize data (Python `dict` objects, JSON and even supports pickling).\n",
    "\n",
    "It also helps with IDE features such as inspection, type checking and auto-completion.\n",
    "\n",
    "I find myself using Pydantic outside of FastAPI, both for the IDE benefits, as well as easy marshalling of data with NoSQL databases."
   ]
  },
  {
   "cell_type": "markdown",
   "id": "cc4841aa",
   "metadata": {},
   "source": [
    "You will need to install `pydantic` into your virtual environment - see [here](https://pydantic-docs.helpmanual.io/install/) - although if you use `pipenv`, the `Pipfile` included in this github repo already contains Pydantic.\n",
    "\n",
    "There are also plugins available for VSCode and PyCharm that can better leverage Pydantic models - see [PyCharm plugin](https://pydantic-docs.helpmanual.io/pycharm_plugin/) and [VSCode plugin](https://pydantic-docs.helpmanual.io/visual_studio_code/)."
   ]
  },
  {
   "cell_type": "markdown",
   "id": "240b448e",
   "metadata": {},
   "source": [
    "#### Basics"
   ]
  },
  {
   "cell_type": "markdown",
   "id": "50ecd698",
   "metadata": {},
   "source": [
    "Let's start by creating a very simple data model."
   ]
  },
  {
   "cell_type": "code",
   "execution_count": 1,
   "id": "a657f89b",
   "metadata": {},
   "outputs": [],
   "source": [
    "from pydantic import BaseModel"
   ]
  },
  {
   "cell_type": "markdown",
   "id": "b3dc541b",
   "metadata": {},
   "source": [
    "`BaseModel` is the base class we should inherit from in order to define pydantic models."
   ]
  },
  {
   "cell_type": "code",
   "execution_count": 2,
   "id": "83b07206",
   "metadata": {},
   "outputs": [],
   "source": [
    "class Person(BaseModel):\n",
    "    first_name: str\n",
    "    last_name: str\n",
    "    age: int"
   ]
  },
  {
   "cell_type": "markdown",
   "id": "05b94a53",
   "metadata": {},
   "source": [
    "We can now create instances of `Person`, and those instances will have properties (or **fields**, to use Pydantic's terminology)  `first_name`, `last_name` and `age`:"
   ]
  },
  {
   "cell_type": "code",
   "execution_count": 3,
   "id": "4d5aeca0",
   "metadata": {},
   "outputs": [],
   "source": [
    "p = Person(first_name='Isaac', last_name='Newton', age=84)"
   ]
  },
  {
   "cell_type": "code",
   "execution_count": 4,
   "id": "bc3d12d9",
   "metadata": {},
   "outputs": [
    {
     "data": {
      "text/plain": [
       "Person(first_name='Isaac', last_name='Newton', age=84)"
      ]
     },
     "execution_count": 4,
     "metadata": {},
     "output_type": "execute_result"
    }
   ],
   "source": [
    "p"
   ]
  },
  {
   "cell_type": "markdown",
   "id": "11edb5f0",
   "metadata": {},
   "source": [
    "Watch what happens when we pass different types to create instances:"
   ]
  },
  {
   "cell_type": "code",
   "execution_count": 5,
   "id": "46503c3e",
   "metadata": {},
   "outputs": [
    {
     "data": {
      "text/plain": [
       "Person(first_name='100', last_name='200', age=3)"
      ]
     },
     "execution_count": 5,
     "metadata": {},
     "output_type": "execute_result"
    }
   ],
   "source": [
    "Person(first_name=100, last_name=200, age='3')"
   ]
  },
  {
   "cell_type": "markdown",
   "id": "a5fb0db7",
   "metadata": {},
   "source": [
    "As you can see, pydantic automatically cast the integers `100` and `200` to strings since we specified that `first_name` and `last_name` were strings, while it cast the string `'3'` to the integer `3` since we specified that `age` was an `int`."
   ]
  },
  {
   "cell_type": "markdown",
   "id": "5d142aab",
   "metadata": {},
   "source": [
    "By default, the fields we defined are required, and pydantic will raise an exception if we omit one of the values:"
   ]
  },
  {
   "cell_type": "code",
   "execution_count": 6,
   "id": "7bbc9ac2",
   "metadata": {},
   "outputs": [
    {
     "name": "stdout",
     "output_type": "stream",
     "text": [
      "2 validation errors for Person\n",
      "last_name\n",
      "  field required (type=value_error.missing)\n",
      "age\n",
      "  field required (type=value_error.missing)\n"
     ]
    }
   ],
   "source": [
    "from pydantic import ValidationError\n",
    "\n",
    "try:\n",
    "    Person(first_name='Isaac')\n",
    "except ValidationError as ex:\n",
    "    print(ex)"
   ]
  },
  {
   "cell_type": "markdown",
   "id": "6cf25bf9",
   "metadata": {},
   "source": [
    "We can even get the exception as a JSON string:"
   ]
  },
  {
   "cell_type": "code",
   "execution_count": 7,
   "id": "e5c56341",
   "metadata": {},
   "outputs": [
    {
     "name": "stdout",
     "output_type": "stream",
     "text": [
      "[\n",
      "  {\n",
      "    \"loc\": [\n",
      "      \"last_name\"\n",
      "    ],\n",
      "    \"msg\": \"field required\",\n",
      "    \"type\": \"value_error.missing\"\n",
      "  },\n",
      "  {\n",
      "    \"loc\": [\n",
      "      \"age\"\n",
      "    ],\n",
      "    \"msg\": \"field required\",\n",
      "    \"type\": \"value_error.missing\"\n",
      "  }\n",
      "]\n"
     ]
    }
   ],
   "source": [
    "try:\n",
    "    Person(first_name='Isaac')\n",
    "except ValidationError as ex:\n",
    "    print(ex.json())"
   ]
  },
  {
   "cell_type": "markdown",
   "id": "24d1f4ba",
   "metadata": {},
   "source": [
    "Very useful for programmatically dealing with validation exceptions."
   ]
  },
  {
   "cell_type": "markdown",
   "id": "fc222cd2",
   "metadata": {},
   "source": [
    "Let's actually make one of the fields optional - simply by using a type hint:"
   ]
  },
  {
   "cell_type": "code",
   "execution_count": 8,
   "id": "878c7895",
   "metadata": {},
   "outputs": [],
   "source": [
    "class Person(BaseModel):\n",
    "    first_name: str\n",
    "    last_name: str\n",
    "    age: int | None"
   ]
  },
  {
   "cell_type": "code",
   "execution_count": 9,
   "id": "c1b71b53",
   "metadata": {},
   "outputs": [
    {
     "data": {
      "text/plain": [
       "Person(first_name='Isaac', last_name='Newton', age=None)"
      ]
     },
     "execution_count": 9,
     "metadata": {},
     "output_type": "execute_result"
    }
   ],
   "source": [
    "Person(first_name='Isaac', last_name='Newton')"
   ]
  },
  {
   "cell_type": "markdown",
   "id": "6cad5e47",
   "metadata": {},
   "source": [
    "Or, if you are working with Python versions that do not support the `|` operator, we can do it this way as well (and I'll use this from now on, to remain backward compatible with earlier version of Python):"
   ]
  },
  {
   "cell_type": "code",
   "execution_count": 10,
   "id": "7360e5a6",
   "metadata": {},
   "outputs": [],
   "source": [
    "from typing import Optional"
   ]
  },
  {
   "cell_type": "code",
   "execution_count": 11,
   "id": "803ee865",
   "metadata": {},
   "outputs": [],
   "source": [
    "class Person(BaseModel):\n",
    "    first_name: str\n",
    "    last_name: str\n",
    "    age: Optional[int]"
   ]
  },
  {
   "cell_type": "code",
   "execution_count": 12,
   "id": "04bb1ef3",
   "metadata": {},
   "outputs": [
    {
     "data": {
      "text/plain": [
       "Person(first_name='Isaac', last_name='Newton', age=None)"
      ]
     },
     "execution_count": 12,
     "metadata": {},
     "output_type": "execute_result"
    }
   ],
   "source": [
    "Person(first_name='Isaac', last_name='Newton')"
   ]
  },
  {
   "cell_type": "markdown",
   "id": "750c9346",
   "metadata": {},
   "source": [
    "We can even specify a default value (in which case the optional is no longer necessary):"
   ]
  },
  {
   "cell_type": "code",
   "execution_count": 13,
   "id": "fb4cc733",
   "metadata": {},
   "outputs": [],
   "source": [
    "class Person(BaseModel):\n",
    "    first_name: str = None\n",
    "    last_name: str\n",
    "    age: int = None"
   ]
  },
  {
   "cell_type": "code",
   "execution_count": 14,
   "id": "e3e82a11",
   "metadata": {},
   "outputs": [
    {
     "data": {
      "text/plain": [
       "Person(first_name=None, last_name='Newton', age=None)"
      ]
     },
     "execution_count": 14,
     "metadata": {},
     "output_type": "execute_result"
    }
   ],
   "source": [
    "Person(last_name='Newton')"
   ]
  },
  {
   "cell_type": "markdown",
   "id": "1c0f3cc0",
   "metadata": {},
   "source": [
    "We can also serialize the model to a Python dictionary:"
   ]
  },
  {
   "cell_type": "code",
   "execution_count": 15,
   "id": "5c917450",
   "metadata": {},
   "outputs": [],
   "source": [
    "p = Person(first_name='Isaac', last_name='Newton', age=84)"
   ]
  },
  {
   "cell_type": "code",
   "execution_count": 16,
   "id": "b2eb8e44",
   "metadata": {},
   "outputs": [
    {
     "data": {
      "text/plain": [
       "{'first_name': 'Isaac', 'last_name': 'Newton', 'age': 84}"
      ]
     },
     "execution_count": 16,
     "metadata": {},
     "output_type": "execute_result"
    }
   ],
   "source": [
    "p.dict()"
   ]
  },
  {
   "cell_type": "markdown",
   "id": "0517f23a",
   "metadata": {},
   "source": [
    "As well as directly to JSON:"
   ]
  },
  {
   "cell_type": "code",
   "execution_count": 17,
   "id": "ebc84522",
   "metadata": {},
   "outputs": [
    {
     "data": {
      "text/plain": [
       "'{\"first_name\": \"Isaac\", \"last_name\": \"Newton\", \"age\": 84}'"
      ]
     },
     "execution_count": 17,
     "metadata": {},
     "output_type": "execute_result"
    }
   ],
   "source": [
    "p.json()"
   ]
  },
  {
   "cell_type": "markdown",
   "id": "2a99c6a3",
   "metadata": {},
   "source": [
    "In this serialization we could also opt to exclude (or include) only certain fields:"
   ]
  },
  {
   "cell_type": "code",
   "execution_count": 18,
   "id": "bd21639e",
   "metadata": {},
   "outputs": [
    {
     "data": {
      "text/plain": [
       "{'last_name': 'Newton'}"
      ]
     },
     "execution_count": 18,
     "metadata": {},
     "output_type": "execute_result"
    }
   ],
   "source": [
    "p.dict(exclude={'first_name', 'age'})"
   ]
  },
  {
   "cell_type": "markdown",
   "id": "2e2c7176",
   "metadata": {},
   "source": [
    "And it works the same with JSON, and since pydantic uses Python's `dumps`, we can even specify any arguments that `dumps` would understand, including custom JSON encoders."
   ]
  },
  {
   "cell_type": "code",
   "execution_count": 19,
   "id": "efb973a2",
   "metadata": {},
   "outputs": [
    {
     "name": "stdout",
     "output_type": "stream",
     "text": [
      "{\n",
      "    \"last_name\": \"Newton\",\n",
      "    \"age\": 84\n",
      "}\n"
     ]
    }
   ],
   "source": [
    "print(p.json(include={'last_name', 'age'}, indent=4))"
   ]
  },
  {
   "cell_type": "markdown",
   "id": "b7211714",
   "metadata": {},
   "source": [
    "> Side note: this is where I find the `pyperclip` library which I did a video on previously, for copying these json data models to my clipboard, for debugging purposes, pasting somewhere else, etc."
   ]
  },
  {
   "cell_type": "code",
   "execution_count": 20,
   "id": "2fb72618",
   "metadata": {},
   "outputs": [
    {
     "name": "stdout",
     "output_type": "stream",
     "text": [
      "{\n",
      "    \"first_name\": \"Isaac\",\n",
      "    \"last_name\": \"Newton\",\n",
      "    \"age\": 84\n",
      "}\n"
     ]
    }
   ],
   "source": [
    "import pyperclip\n",
    "\n",
    "pyperclip.copy(p.json(indent=4))\n",
    "\n",
    "print(pyperclip.paste())"
   ]
  },
  {
   "cell_type": "markdown",
   "id": "cf93af53",
   "metadata": {},
   "source": [
    "Just like pydantic can serialize a model to a Python `dict` or a JSON string, it can also deserialize either - **and** it will cast the data appropriately, thereby avoiding a lot of the leg work that may be required for JSON serialization/deserialization."
   ]
  },
  {
   "cell_type": "markdown",
   "id": "9888f366",
   "metadata": {},
   "source": [
    "Let's see this when we add a `date` to our model for example:"
   ]
  },
  {
   "cell_type": "code",
   "execution_count": 21,
   "id": "e538d391",
   "metadata": {},
   "outputs": [],
   "source": [
    "from datetime import date\n",
    "\n",
    "class Person(BaseModel):\n",
    "    first_name: str = None\n",
    "    last_name: str\n",
    "    dob: date"
   ]
  },
  {
   "cell_type": "code",
   "execution_count": 22,
   "id": "7d5c1e55",
   "metadata": {},
   "outputs": [],
   "source": [
    "data = {\n",
    "    \"first_name\": \"Isaac\",\n",
    "    \"last_name\": \"Newton\",\n",
    "    \"dob\": date(1643, 1, 4)\n",
    "}"
   ]
  },
  {
   "cell_type": "markdown",
   "id": "af2f3815",
   "metadata": {},
   "source": [
    "Let's load this dictionary into our `Person` model, using the `parse_obj` method:"
   ]
  },
  {
   "cell_type": "code",
   "execution_count": 23,
   "id": "80cc632a",
   "metadata": {},
   "outputs": [
    {
     "data": {
      "text/plain": [
       "Person(first_name='Isaac', last_name='Newton', dob=datetime.date(1643, 1, 4))"
      ]
     },
     "execution_count": 23,
     "metadata": {},
     "output_type": "execute_result"
    }
   ],
   "source": [
    "p = Person.parse_obj(data)\n",
    "p"
   ]
  },
  {
   "cell_type": "markdown",
   "id": "39f46782",
   "metadata": {},
   "source": [
    "Since our dictionary object contained a `date` object, we should not be too surprised to see that the Pydantic model's `dob` field is a `date` object too."
   ]
  },
  {
   "cell_type": "markdown",
   "id": "ef2fb776",
   "metadata": {},
   "source": [
    "But, we actually get the same behavior with JSON too:"
   ]
  },
  {
   "cell_type": "code",
   "execution_count": 24,
   "id": "cf175aa9",
   "metadata": {},
   "outputs": [],
   "source": [
    "json = '''\n",
    "{\n",
    "    \"first_name\": \"Isaac\",\n",
    "    \"last_name\": \"Newton\",\n",
    "    \"dob\": \"1643-01-04\"\n",
    "}\n",
    "'''"
   ]
  },
  {
   "cell_type": "markdown",
   "id": "dc4c4675",
   "metadata": {},
   "source": [
    "And we can deserialize this JSON string, using the `parse_raw()` method:"
   ]
  },
  {
   "cell_type": "code",
   "execution_count": 25,
   "id": "de27be1c",
   "metadata": {},
   "outputs": [
    {
     "data": {
      "text/plain": [
       "Person(first_name='Isaac', last_name='Newton', dob=datetime.date(1643, 1, 4))"
      ]
     },
     "execution_count": 25,
     "metadata": {},
     "output_type": "execute_result"
    }
   ],
   "source": [
    "p = Person.parse_raw(json)\n",
    "p"
   ]
  },
  {
   "cell_type": "markdown",
   "id": "4a456ca6",
   "metadata": {},
   "source": [
    "As you can see Pydantic was able to parse the `dob` attribute value from a string to an actual date object (you could of course override how to deserialize values in your JSON objects by deserializing the JSON string yourself first, using a custom decoder, and then using Pydantic's `parse_obj` method.)\n",
    "\n",
    "But we'll come back to a simpler way of baking that right into the Pydantic model itself."
   ]
  },
  {
   "cell_type": "markdown",
   "id": "d5d7d96f",
   "metadata": {},
   "source": [
    "#### Field Aliases"
   ]
  },
  {
   "cell_type": "markdown",
   "id": "e7698a04",
   "metadata": {},
   "source": [
    "One thing you may have noticed, is that the Pydantic model uses **snake case** for field names, since that's the convention for Python code - but in JSON we typically use **camel case**. Pydantic supports this!!"
   ]
  },
  {
   "cell_type": "code",
   "execution_count": 26,
   "id": "328d46fc",
   "metadata": {},
   "outputs": [],
   "source": [
    "from pydantic import Field"
   ]
  },
  {
   "cell_type": "markdown",
   "id": "0b94f879",
   "metadata": {},
   "source": [
    "We're going to expand how we defined a field in our class, by using Pydantic's `Field` class, which gives us more control than just a type hint by itself - in particular, we'll use it to specify a field **alias**:"
   ]
  },
  {
   "cell_type": "code",
   "execution_count": 27,
   "id": "75e2cf38",
   "metadata": {},
   "outputs": [],
   "source": [
    "class Person(BaseModel):\n",
    "    first_name: str = Field(alias='firstName', default=None)\n",
    "    last_name: str = Field(alias='lastName')\n",
    "    dob: date = None"
   ]
  },
  {
   "cell_type": "markdown",
   "id": "c5819705",
   "metadata": {},
   "source": [
    "Now, we have our `data` dictionary already defined, but it uses the Python variable naming convention:"
   ]
  },
  {
   "cell_type": "code",
   "execution_count": 28,
   "id": "5827b50b",
   "metadata": {},
   "outputs": [
    {
     "data": {
      "text/plain": [
       "{'first_name': 'Isaac',\n",
       " 'last_name': 'Newton',\n",
       " 'dob': datetime.date(1643, 1, 4)}"
      ]
     },
     "execution_count": 28,
     "metadata": {},
     "output_type": "execute_result"
    }
   ],
   "source": [
    "data"
   ]
  },
  {
   "cell_type": "markdown",
   "id": "d3ae61bf",
   "metadata": {},
   "source": [
    "And we cannot load that dictionary as-is anymore, since we specified the field aliases, and those get used when deserializing:"
   ]
  },
  {
   "cell_type": "code",
   "execution_count": 29,
   "id": "6503b2b1",
   "metadata": {},
   "outputs": [
    {
     "name": "stdout",
     "output_type": "stream",
     "text": [
      "[\n",
      "  {\n",
      "    \"loc\": [\n",
      "      \"lastName\"\n",
      "    ],\n",
      "    \"msg\": \"field required\",\n",
      "    \"type\": \"value_error.missing\"\n",
      "  }\n",
      "]\n"
     ]
    }
   ],
   "source": [
    "try:\n",
    "    Person.parse_obj(data)\n",
    "except ValidationError as ex:\n",
    "    print(ex.json())"
   ]
  },
  {
   "cell_type": "markdown",
   "id": "f04a967e",
   "metadata": {},
   "source": [
    "We can change our dictionary:"
   ]
  },
  {
   "cell_type": "code",
   "execution_count": 30,
   "id": "652a7e1a",
   "metadata": {},
   "outputs": [],
   "source": [
    "data2 = {\n",
    "    'firstName': 'Isaac',\n",
    "    'lastName': 'Newton',\n",
    "    'dob': date(1643, 1, 4)\n",
    "}"
   ]
  },
  {
   "cell_type": "code",
   "execution_count": 31,
   "id": "131d0746",
   "metadata": {},
   "outputs": [
    {
     "data": {
      "text/plain": [
       "Person(first_name='Isaac', last_name='Newton', dob=datetime.date(1643, 1, 4))"
      ]
     },
     "execution_count": 31,
     "metadata": {},
     "output_type": "execute_result"
    }
   ],
   "source": [
    "p = Person.parse_obj(data2)\n",
    "p"
   ]
  },
  {
   "cell_type": "markdown",
   "id": "3d178976",
   "metadata": {},
   "source": [
    "And when we deserialize our object we get this:"
   ]
  },
  {
   "cell_type": "code",
   "execution_count": 32,
   "id": "9dfeb332",
   "metadata": {},
   "outputs": [
    {
     "data": {
      "text/plain": [
       "{'first_name': 'Isaac',\n",
       " 'last_name': 'Newton',\n",
       " 'dob': datetime.date(1643, 1, 4)}"
      ]
     },
     "execution_count": 32,
     "metadata": {},
     "output_type": "execute_result"
    }
   ],
   "source": [
    "p.dict()"
   ]
  },
  {
   "cell_type": "code",
   "execution_count": 33,
   "id": "63e78e38",
   "metadata": {},
   "outputs": [
    {
     "name": "stdout",
     "output_type": "stream",
     "text": [
      "{\n",
      "  \"first_name\": \"Isaac\",\n",
      "  \"last_name\": \"Newton\",\n",
      "  \"dob\": \"1643-01-04\"\n",
      "}\n"
     ]
    }
   ],
   "source": [
    "print(p.json(indent=2))"
   ]
  },
  {
   "cell_type": "markdown",
   "id": "baab9c5c",
   "metadata": {},
   "source": [
    "As you can see, the serialization uses the field names, not the aliases. We'll come back to that in a minute."
   ]
  },
  {
   "cell_type": "markdown",
   "id": "6a15dfbb",
   "metadata": {},
   "source": [
    "We can no longer use the field names to create objects using the constructor either:"
   ]
  },
  {
   "cell_type": "code",
   "execution_count": 34,
   "id": "cfd1ea32",
   "metadata": {},
   "outputs": [
    {
     "name": "stdout",
     "output_type": "stream",
     "text": [
      "[\n",
      "  {\n",
      "    \"loc\": [\n",
      "      \"lastName\"\n",
      "    ],\n",
      "    \"msg\": \"field required\",\n",
      "    \"type\": \"value_error.missing\"\n",
      "  }\n",
      "]\n"
     ]
    }
   ],
   "source": [
    "try:\n",
    "    Person(last_name='Newton')\n",
    "except ValidationError as ex:\n",
    "    print(ex.json())"
   ]
  },
  {
   "cell_type": "markdown",
   "id": "eb1ea64d",
   "metadata": {},
   "source": [
    "However, we can instruct Pydantic to allow us to use these field names, as well as the aliases. \n",
    "\n",
    "To do so, we need to _configure_ our Pydantic model (and there are lots of configurations than can be done!)."
   ]
  },
  {
   "cell_type": "code",
   "execution_count": 35,
   "id": "41c0e40e",
   "metadata": {},
   "outputs": [],
   "source": [
    "class Person(BaseModel):\n",
    "    first_name: str = Field(alias='firstName', default=None)\n",
    "    last_name: str = Field(alias='lastName')\n",
    "    dob: date = None\n",
    "        \n",
    "    class Config:\n",
    "        allow_population_by_field_name = True"
   ]
  },
  {
   "cell_type": "markdown",
   "id": "521cad7e",
   "metadata": {},
   "source": [
    "And now, we can use either the field names of the aliases (though in practice I usually do not use this feature and always use the aliases - but up to you)."
   ]
  },
  {
   "cell_type": "code",
   "execution_count": 36,
   "id": "cb7afdf8",
   "metadata": {},
   "outputs": [
    {
     "data": {
      "text/plain": [
       "Person(first_name='Isaac', last_name='Newton', dob=None)"
      ]
     },
     "execution_count": 36,
     "metadata": {},
     "output_type": "execute_result"
    }
   ],
   "source": [
    "p = Person(first_name = 'Isaac', lastName='Newton')\n",
    "p"
   ]
  },
  {
   "cell_type": "code",
   "execution_count": 37,
   "id": "5f2f59ad",
   "metadata": {},
   "outputs": [
    {
     "data": {
      "text/plain": [
       "Person(first_name='Isaac', last_name='Newton', dob=datetime.date(1643, 1, 4))"
      ]
     },
     "execution_count": 37,
     "metadata": {},
     "output_type": "execute_result"
    }
   ],
   "source": [
    "Person.parse_obj(data)"
   ]
  },
  {
   "cell_type": "code",
   "execution_count": 38,
   "id": "0af084d2",
   "metadata": {},
   "outputs": [
    {
     "data": {
      "text/plain": [
       "Person(first_name='Isaac', last_name='Newton', dob=datetime.date(1643, 1, 4))"
      ]
     },
     "execution_count": 38,
     "metadata": {},
     "output_type": "execute_result"
    }
   ],
   "source": [
    "Person.parse_obj(data2)"
   ]
  },
  {
   "cell_type": "markdown",
   "id": "761202a0",
   "metadata": {},
   "source": [
    "Just as before, serializing the model will use the field names, not the aliases:"
   ]
  },
  {
   "cell_type": "code",
   "execution_count": 39,
   "id": "272df12e",
   "metadata": {},
   "outputs": [
    {
     "data": {
      "text/plain": [
       "{'first_name': 'Isaac', 'last_name': 'Newton', 'dob': None}"
      ]
     },
     "execution_count": 39,
     "metadata": {},
     "output_type": "execute_result"
    }
   ],
   "source": [
    "p.dict()"
   ]
  },
  {
   "cell_type": "code",
   "execution_count": 40,
   "id": "ae37de33",
   "metadata": {},
   "outputs": [
    {
     "name": "stdout",
     "output_type": "stream",
     "text": [
      "{\n",
      "  \"first_name\": \"Isaac\",\n",
      "  \"last_name\": \"Newton\",\n",
      "  \"dob\": \"1643-01-04\"\n",
      "}\n"
     ]
    }
   ],
   "source": [
    "p = Person.parse_obj(data2)\n",
    "print(p.json(indent=2))"
   ]
  },
  {
   "cell_type": "markdown",
   "id": "597c73a4",
   "metadata": {},
   "source": [
    "We can choose to use the aliases instead:"
   ]
  },
  {
   "cell_type": "code",
   "execution_count": 41,
   "id": "e65c3904",
   "metadata": {},
   "outputs": [
    {
     "name": "stdout",
     "output_type": "stream",
     "text": [
      "{\n",
      "  \"firstName\": \"Isaac\",\n",
      "  \"lastName\": \"Newton\",\n",
      "  \"dob\": \"1643-01-04\"\n",
      "}\n"
     ]
    }
   ],
   "source": [
    "print(p.json(by_alias=True, indent=2))"
   ]
  },
  {
   "cell_type": "markdown",
   "id": "9b5872f6",
   "metadata": {},
   "source": [
    "And same thing with serializing to a Python dict:"
   ]
  },
  {
   "cell_type": "code",
   "execution_count": 42,
   "id": "4c55d16a",
   "metadata": {},
   "outputs": [
    {
     "data": {
      "text/plain": [
       "{'firstName': 'Isaac', 'lastName': 'Newton', 'dob': datetime.date(1643, 1, 4)}"
      ]
     },
     "execution_count": 42,
     "metadata": {},
     "output_type": "execute_result"
    }
   ],
   "source": [
    "p.dict(by_alias=True)"
   ]
  },
  {
   "cell_type": "markdown",
   "id": "deb43e82",
   "metadata": {},
   "source": [
    "#### Extra Fields Behavior"
   ]
  },
  {
   "cell_type": "markdown",
   "id": "a15e3d5e",
   "metadata": {},
   "source": [
    "So far we've been pretty good about just passing field names (or aliases) that we know are valid for the model - but what happens if we do not?"
   ]
  },
  {
   "cell_type": "code",
   "execution_count": 43,
   "id": "129cfa93",
   "metadata": {},
   "outputs": [
    {
     "data": {
      "text/plain": [
       "{'first_name': 'Isaac',\n",
       " 'last_name': 'Newton',\n",
       " 'dob': datetime.date(1643, 1, 4),\n",
       " 'junk': 'extraneous field'}"
      ]
     },
     "execution_count": 43,
     "metadata": {},
     "output_type": "execute_result"
    }
   ],
   "source": [
    "data_junk = {**data, \"junk\": \"extraneous field\"}\n",
    "data_junk"
   ]
  },
  {
   "cell_type": "code",
   "execution_count": 44,
   "id": "05e5559b",
   "metadata": {},
   "outputs": [
    {
     "data": {
      "text/plain": [
       "Person(first_name='Isaac', last_name='Newton', dob=datetime.date(1643, 1, 4))"
      ]
     },
     "execution_count": 44,
     "metadata": {},
     "output_type": "execute_result"
    }
   ],
   "source": [
    "Person(**data_junk)"
   ]
  },
  {
   "cell_type": "markdown",
   "id": "5200a5cc",
   "metadata": {},
   "source": [
    "So Pydantic did not complain about this, and basically ignored the `junk` field altogether:"
   ]
  },
  {
   "cell_type": "code",
   "execution_count": 45,
   "id": "89a41944",
   "metadata": {},
   "outputs": [],
   "source": [
    "p = Person.parse_obj(data_junk)"
   ]
  },
  {
   "cell_type": "code",
   "execution_count": 46,
   "id": "82240491",
   "metadata": {},
   "outputs": [
    {
     "data": {
      "text/plain": [
       "True"
      ]
     },
     "execution_count": 46,
     "metadata": {},
     "output_type": "execute_result"
    }
   ],
   "source": [
    "hasattr(p, 'first_name')"
   ]
  },
  {
   "cell_type": "code",
   "execution_count": 47,
   "id": "c994ddd6",
   "metadata": {},
   "outputs": [
    {
     "data": {
      "text/plain": [
       "False"
      ]
     },
     "execution_count": 47,
     "metadata": {},
     "output_type": "execute_result"
    }
   ],
   "source": [
    "hasattr(p, 'junk')"
   ]
  },
  {
   "cell_type": "markdown",
   "id": "8eba3ecb",
   "metadata": {},
   "source": [
    "We can actually handle extra fields in multiple ways:\n",
    "- ignore them (the default)\n",
    "- allow them, and add them as attributes to the instance\n",
    "- forbid them, which will raise a validation exception\n",
    "\n",
    "Let's see how to do that:"
   ]
  },
  {
   "cell_type": "code",
   "execution_count": 48,
   "id": "88de218b",
   "metadata": {},
   "outputs": [],
   "source": [
    "from pydantic import Extra"
   ]
  },
  {
   "cell_type": "code",
   "execution_count": 49,
   "id": "52902873",
   "metadata": {},
   "outputs": [],
   "source": [
    "class Person(BaseModel):\n",
    "    first_name: str = Field(alias='firstName', default=None)\n",
    "    last_name: str = Field(alias='lastName')\n",
    "    dob: date = None\n",
    "        \n",
    "    class Config:\n",
    "        allow_population_by_field_name = True\n",
    "        extra = Extra.allow"
   ]
  },
  {
   "cell_type": "code",
   "execution_count": 50,
   "id": "0cf9a5a8",
   "metadata": {},
   "outputs": [
    {
     "data": {
      "text/plain": [
       "Person(first_name='Isaac', last_name='Newton', dob=datetime.date(1643, 1, 4), junk='extraneous field')"
      ]
     },
     "execution_count": 50,
     "metadata": {},
     "output_type": "execute_result"
    }
   ],
   "source": [
    "p = Person(**data_junk)\n",
    "p"
   ]
  },
  {
   "cell_type": "code",
   "execution_count": 51,
   "id": "4edd4f99",
   "metadata": {},
   "outputs": [
    {
     "data": {
      "text/plain": [
       "True"
      ]
     },
     "execution_count": 51,
     "metadata": {},
     "output_type": "execute_result"
    }
   ],
   "source": [
    "hasattr(p, 'junk')"
   ]
  },
  {
   "cell_type": "markdown",
   "id": "1c5a7835",
   "metadata": {},
   "source": [
    "Or, we can forbid extra fields altogether:"
   ]
  },
  {
   "cell_type": "code",
   "execution_count": 52,
   "id": "9eb33cf6",
   "metadata": {},
   "outputs": [],
   "source": [
    "class Person(BaseModel):\n",
    "    first_name: str = Field(alias='firstName', default=None)\n",
    "    last_name: str = Field(alias='lastName')\n",
    "    dob: date = None\n",
    "        \n",
    "    class Config:\n",
    "        allow_population_by_field_name = True\n",
    "        extra = Extra.forbid"
   ]
  },
  {
   "cell_type": "code",
   "execution_count": 53,
   "id": "319dfda1",
   "metadata": {},
   "outputs": [
    {
     "name": "stdout",
     "output_type": "stream",
     "text": [
      "[\n",
      "  {\n",
      "    \"loc\": [\n",
      "      \"junk\"\n",
      "    ],\n",
      "    \"msg\": \"extra fields not permitted\",\n",
      "    \"type\": \"value_error.extra\"\n",
      "  }\n",
      "]\n"
     ]
    }
   ],
   "source": [
    "try:\n",
    "    Person(**data_junk)\n",
    "except ValidationError as ex:\n",
    "    print(ex.json())"
   ]
  },
  {
   "cell_type": "markdown",
   "id": "5ad4d5aa",
   "metadata": {},
   "source": [
    "#### Using an Alias Generator"
   ]
  },
  {
   "cell_type": "markdown",
   "id": "73ddc489",
   "metadata": {},
   "source": [
    "Using aliases for proper JSON naming conventions vs proper Python naming conventions is so common, that there is a much easier way to define field aliases than specifying them for each field. Also, I often use the same configuration for all my Pydantic models, such as forbidding extra fields. \n",
    "\n",
    "To make life easier, I end up creating a customized `BaseModel` class that I can then reuse throughout my Pydantic models."
   ]
  },
  {
   "cell_type": "markdown",
   "id": "abe048bd",
   "metadata": {},
   "source": [
    "First I define a function to convert from snake case to camel case:"
   ]
  },
  {
   "cell_type": "code",
   "execution_count": 54,
   "id": "59f09bee",
   "metadata": {},
   "outputs": [],
   "source": [
    "def snake_to_camel_case(value: str) -> str:\n",
    "    if not isinstance(value, str):\n",
    "        raise ValueError(\"Value must be a string.\")\n",
    "    words = value.split('_')\n",
    "    value = \"\".join(word.title() for word in words if word)\n",
    "    return f\"{value[0].lower()}{value[1:]}\""
   ]
  },
  {
   "cell_type": "code",
   "execution_count": 55,
   "id": "cb133634",
   "metadata": {},
   "outputs": [
    {
     "data": {
      "text/plain": [
       "'firstName'"
      ]
     },
     "execution_count": 55,
     "metadata": {},
     "output_type": "execute_result"
    }
   ],
   "source": [
    "snake_to_camel_case(\"first_name\")"
   ]
  },
  {
   "cell_type": "code",
   "execution_count": 56,
   "id": "74d4efed",
   "metadata": {},
   "outputs": [
    {
     "data": {
      "text/plain": [
       "'firstName'"
      ]
     },
     "execution_count": 56,
     "metadata": {},
     "output_type": "execute_result"
    }
   ],
   "source": [
    "snake_to_camel_case(\"__first_name\")"
   ]
  },
  {
   "cell_type": "markdown",
   "id": "f24b1d3d",
   "metadata": {},
   "source": [
    "There are also plenty of existing libraries that provide this same functionality (probably using regex, and probably more robust than the above, but that works for me)"
   ]
  },
  {
   "cell_type": "markdown",
   "id": "a0012d7e",
   "metadata": {},
   "source": [
    "Now we can configure our custom base model, to specify that aliases shoudl automatically be generated using that function, and I'll add in the other configurations I want for that custom base model as well:"
   ]
  },
  {
   "cell_type": "code",
   "execution_count": 57,
   "id": "b1d54e9d",
   "metadata": {},
   "outputs": [],
   "source": [
    "class CustomBaseModel(BaseModel):\n",
    "    class Config:\n",
    "        alias_generator = snake_to_camel_case\n",
    "        extra = Extra.forbid\n",
    "        allow_population_by_field_name = True        "
   ]
  },
  {
   "cell_type": "markdown",
   "id": "d4ff4a1c",
   "metadata": {},
   "source": [
    "Let's now use this custom class to redefine our model:"
   ]
  },
  {
   "cell_type": "code",
   "execution_count": 58,
   "id": "42a0b0f2",
   "metadata": {},
   "outputs": [],
   "source": [
    "class Person(CustomBaseModel):\n",
    "    first_name: str = None\n",
    "    last_name: str\n",
    "    dob: date = None"
   ]
  },
  {
   "cell_type": "code",
   "execution_count": 59,
   "id": "221bffb0",
   "metadata": {},
   "outputs": [
    {
     "data": {
      "text/plain": [
       "Person(first_name='Isaac', last_name='Newton', dob=None)"
      ]
     },
     "execution_count": 59,
     "metadata": {},
     "output_type": "execute_result"
    }
   ],
   "source": [
    "p = Person(first_name='Isaac', lastName='Newton')\n",
    "p"
   ]
  },
  {
   "cell_type": "code",
   "execution_count": 60,
   "id": "998252fc",
   "metadata": {},
   "outputs": [
    {
     "name": "stdout",
     "output_type": "stream",
     "text": [
      "[\n",
      "  {\n",
      "    \"loc\": [\n",
      "      \"junk\"\n",
      "    ],\n",
      "    \"msg\": \"extra fields not permitted\",\n",
      "    \"type\": \"value_error.extra\"\n",
      "  }\n",
      "]\n"
     ]
    }
   ],
   "source": [
    "try:\n",
    "    Person(last_name='Newton', junk='junk')\n",
    "except ValidationError as ex:\n",
    "    print(ex.json())"
   ]
  },
  {
   "cell_type": "markdown",
   "id": "d5b1583b",
   "metadata": {},
   "source": [
    "There's a whole lot more to Pydantic in terms of defining all these behaviors, so be sure to check their documentation!"
   ]
  },
  {
   "cell_type": "markdown",
   "id": "e9ca05df",
   "metadata": {},
   "source": [
    "#### Field Validations"
   ]
  },
  {
   "cell_type": "markdown",
   "id": "91146f9c",
   "metadata": {},
   "source": [
    "Now, lets turn our attention to a few ways in which we can fine tune the validation that occurs for various fields, as well as creating more complex field types, using both more advanced Python type hinting, as well as using composition of Pydantic models."
   ]
  },
  {
   "cell_type": "markdown",
   "id": "c1f79e4b",
   "metadata": {},
   "source": [
    "You should read [this](https://pydantic-docs.helpmanual.io/usage/types/) in Pydantic's documentation for a full run down of the various field types and validations that can be performed."
   ]
  },
  {
   "cell_type": "markdown",
   "id": "25766709",
   "metadata": {},
   "source": [
    "Let's look at a few."
   ]
  },
  {
   "cell_type": "markdown",
   "id": "5bbfdade",
   "metadata": {},
   "source": [
    "##### Constrained Numerics"
   ]
  },
  {
   "cell_type": "markdown",
   "id": "682c0ab7",
   "metadata": {},
   "source": [
    "For starters, we can specify that numbers should be in a certain range."
   ]
  },
  {
   "cell_type": "code",
   "execution_count": 61,
   "id": "de63cb1c",
   "metadata": {},
   "outputs": [],
   "source": [
    "from pydantic import conint\n",
    "\n",
    "class Test(CustomBaseModel):\n",
    "    age: conint(gt=0, le=150)"
   ]
  },
  {
   "cell_type": "markdown",
   "id": "cd602a98",
   "metadata": {},
   "source": [
    "Here we get a constraint that `age` must be greater than `0`, and less than (or equal to) `150`."
   ]
  },
  {
   "cell_type": "code",
   "execution_count": 62,
   "id": "310c2c8b",
   "metadata": {},
   "outputs": [
    {
     "data": {
      "text/plain": [
       "Test(age=10)"
      ]
     },
     "execution_count": 62,
     "metadata": {},
     "output_type": "execute_result"
    }
   ],
   "source": [
    "Test(age=10)"
   ]
  },
  {
   "cell_type": "code",
   "execution_count": 63,
   "id": "5667aa11",
   "metadata": {},
   "outputs": [
    {
     "name": "stdout",
     "output_type": "stream",
     "text": [
      "[\n",
      "  {\n",
      "    \"loc\": [\n",
      "      \"age\"\n",
      "    ],\n",
      "    \"msg\": \"ensure this value is greater than 0\",\n",
      "    \"type\": \"value_error.number.not_gt\",\n",
      "    \"ctx\": {\n",
      "      \"limit_value\": 0\n",
      "    }\n",
      "  }\n",
      "]\n"
     ]
    }
   ],
   "source": [
    "try:\n",
    "    Test(age=-1)\n",
    "except ValidationError as ex:\n",
    "    print(ex.json())"
   ]
  },
  {
   "cell_type": "code",
   "execution_count": 64,
   "id": "f913c978",
   "metadata": {},
   "outputs": [
    {
     "name": "stdout",
     "output_type": "stream",
     "text": [
      "[\n",
      "  {\n",
      "    \"loc\": [\n",
      "      \"age\"\n",
      "    ],\n",
      "    \"msg\": \"ensure this value is less than or equal to 150\",\n",
      "    \"type\": \"value_error.number.not_le\",\n",
      "    \"ctx\": {\n",
      "      \"limit_value\": 150\n",
      "    }\n",
      "  }\n",
      "]\n"
     ]
    }
   ],
   "source": [
    "try:\n",
    "    Test(age=200)\n",
    "except ValidationError as ex:\n",
    "    print(ex.json())"
   ]
  },
  {
   "cell_type": "markdown",
   "id": "c7e22495",
   "metadata": {},
   "source": [
    "##### Constrained Strings"
   ]
  },
  {
   "cell_type": "markdown",
   "id": "e500a471",
   "metadata": {},
   "source": [
    "We can also use `constr` to refine our string types:"
   ]
  },
  {
   "cell_type": "code",
   "execution_count": 65,
   "id": "bd487099",
   "metadata": {},
   "outputs": [],
   "source": [
    "from pydantic import constr"
   ]
  },
  {
   "cell_type": "code",
   "execution_count": 66,
   "id": "41cfab3d",
   "metadata": {},
   "outputs": [],
   "source": [
    "class Test(CustomBaseModel):\n",
    "    first_name: str = None\n",
    "    last_name: constr(strip_whitespace=True, strict=True, min_length=2, curtail_length=25)"
   ]
  },
  {
   "cell_type": "markdown",
   "id": "1fedc52f",
   "metadata": {},
   "source": [
    "- strip_whitespace: removes leading and trialing whitespace\n",
    "- strict: will not allow anything other than a string type (e.g passing an `int` will not be cast to a `str`\n",
    "- min_length: specifies the minimum string length\n",
    "- curtail_length: will truncate the string to this length if it is longer"
   ]
  },
  {
   "cell_type": "code",
   "execution_count": 67,
   "id": "c3944660",
   "metadata": {},
   "outputs": [
    {
     "data": {
      "text/plain": [
       "Test(first_name=None, last_name='Newton')"
      ]
     },
     "execution_count": 67,
     "metadata": {},
     "output_type": "execute_result"
    }
   ],
   "source": [
    "t = Test(last_name=\"   Newton   \")\n",
    "t"
   ]
  },
  {
   "cell_type": "code",
   "execution_count": 68,
   "id": "a2784793",
   "metadata": {},
   "outputs": [
    {
     "name": "stdout",
     "output_type": "stream",
     "text": [
      "[\n",
      "  {\n",
      "    \"loc\": [\n",
      "      \"lastName\"\n",
      "    ],\n",
      "    \"msg\": \"ensure this value has at least 2 characters\",\n",
      "    \"type\": \"value_error.any_str.min_length\",\n",
      "    \"ctx\": {\n",
      "      \"limit_value\": 2\n",
      "    }\n",
      "  }\n",
      "]\n"
     ]
    }
   ],
   "source": [
    "try:\n",
    "    Test(last_name=\"   x    \")\n",
    "except ValidationError as ex:\n",
    "    print(ex.json())"
   ]
  },
  {
   "cell_type": "code",
   "execution_count": 69,
   "id": "f6d83c3d",
   "metadata": {},
   "outputs": [
    {
     "name": "stdout",
     "output_type": "stream",
     "text": [
      "[\n",
      "  {\n",
      "    \"loc\": [\n",
      "      \"lastName\"\n",
      "    ],\n",
      "    \"msg\": \"str type expected\",\n",
      "    \"type\": \"type_error.str\"\n",
      "  }\n",
      "]\n"
     ]
    }
   ],
   "source": [
    "try:\n",
    "    Test(last_name = 100)\n",
    "except ValidationError as ex:\n",
    "    print(ex.json())"
   ]
  },
  {
   "cell_type": "code",
   "execution_count": 70,
   "id": "98d746ab",
   "metadata": {},
   "outputs": [
    {
     "data": {
      "text/plain": [
       "Test(first_name=None, last_name='*************************')"
      ]
     },
     "execution_count": 70,
     "metadata": {},
     "output_type": "execute_result"
    }
   ],
   "source": [
    "t = Test(last_name = \"*\" * 100)\n",
    "t"
   ]
  },
  {
   "cell_type": "markdown",
   "id": "935797fc",
   "metadata": {},
   "source": [
    "As you can see, Pydantic provides a slew of options, read more in that link I gave above."
   ]
  },
  {
   "cell_type": "markdown",
   "id": "1e3eaf57",
   "metadata": {},
   "source": [
    "##### Custom Validators"
   ]
  },
  {
   "cell_type": "markdown",
   "id": "a4d6275c",
   "metadata": {},
   "source": [
    "If those built-in validators are not sufficient, we can also define our own custom validators!"
   ]
  },
  {
   "cell_type": "code",
   "execution_count": 71,
   "id": "79a08558",
   "metadata": {},
   "outputs": [],
   "source": [
    "from pydantic import validator"
   ]
  },
  {
   "cell_type": "code",
   "execution_count": 72,
   "id": "5fc4708b",
   "metadata": {},
   "outputs": [],
   "source": [
    "class Test(CustomBaseModel):\n",
    "    hash_tag: str\n",
    "        \n",
    "    @validator('hash_tag')\n",
    "    def validate_name(cls, value):  # yes, this is a class method, not an instance method\n",
    "        if not value.startswith('#'):\n",
    "            raise ValueError(\"Hash tag must start with a #\")\n",
    "        return value  # if validation passed, return the value\n",
    "    "
   ]
  },
  {
   "cell_type": "code",
   "execution_count": 73,
   "id": "7f09427d",
   "metadata": {},
   "outputs": [
    {
     "data": {
      "text/plain": [
       "Test(hash_tag='#test')"
      ]
     },
     "execution_count": 73,
     "metadata": {},
     "output_type": "execute_result"
    }
   ],
   "source": [
    "t = Test(hash_tag='#test')\n",
    "t"
   ]
  },
  {
   "cell_type": "code",
   "execution_count": 74,
   "id": "8fcaf079",
   "metadata": {},
   "outputs": [
    {
     "name": "stdout",
     "output_type": "stream",
     "text": [
      "[\n",
      "  {\n",
      "    \"loc\": [\n",
      "      \"hashTag\"\n",
      "    ],\n",
      "    \"msg\": \"Hash tag must start with a #\",\n",
      "    \"type\": \"value_error\"\n",
      "  }\n",
      "]\n"
     ]
    }
   ],
   "source": [
    "try:\n",
    "    Test(hash_tag='test')\n",
    "except ValidationError as ex:\n",
    "    print(ex.json())"
   ]
  },
  {
   "cell_type": "markdown",
   "id": "491166f3",
   "metadata": {},
   "source": [
    "##### Modifying Field Values with Custom Validators"
   ]
  },
  {
   "cell_type": "markdown",
   "id": "3b3179b5",
   "metadata": {},
   "source": [
    "We could actually use the validator to do some extra things, like add the `#` if it's not present. While we're at it, we'll also add a constraint that the string needs to be at least `5` characters, and should have any whitespace stripped."
   ]
  },
  {
   "cell_type": "code",
   "execution_count": 75,
   "id": "4e0c0ca0",
   "metadata": {},
   "outputs": [],
   "source": [
    "class Test(CustomBaseModel):\n",
    "    hash_tag: constr(min_length=5, strip_whitespace=True)\n",
    "        \n",
    "    @validator('hash_tag')\n",
    "    def validate_name(cls, value):  # yes, this is a class method, not an instance method\n",
    "        if not value.startswith('#'):\n",
    "            return f\"#{value}\"\n",
    "        return value"
   ]
  },
  {
   "cell_type": "code",
   "execution_count": 76,
   "id": "feccf932",
   "metadata": {},
   "outputs": [
    {
     "data": {
      "text/plain": [
       "Test(hash_tag='#python')"
      ]
     },
     "execution_count": 76,
     "metadata": {},
     "output_type": "execute_result"
    }
   ],
   "source": [
    "Test(hash_tag=\"#python\")"
   ]
  },
  {
   "cell_type": "code",
   "execution_count": 77,
   "id": "1f1ff59e",
   "metadata": {},
   "outputs": [
    {
     "data": {
      "text/plain": [
       "Test(hash_tag='#python')"
      ]
     },
     "execution_count": 77,
     "metadata": {},
     "output_type": "execute_result"
    }
   ],
   "source": [
    "Test(hash_tag=\"python\")"
   ]
  },
  {
   "cell_type": "code",
   "execution_count": 78,
   "id": "73b0bff8",
   "metadata": {},
   "outputs": [
    {
     "name": "stdout",
     "output_type": "stream",
     "text": [
      "1 validation error for Test\n",
      "hashTag\n",
      "  ensure this value has at least 5 characters (type=value_error.any_str.min_length; limit_value=5)\n"
     ]
    }
   ],
   "source": [
    "try:\n",
    "    Test(hash_tag=\"T\")\n",
    "except ValidationError as ex:\n",
    "    print(ex)"
   ]
  },
  {
   "cell_type": "markdown",
   "id": "1123715e",
   "metadata": {},
   "source": [
    "##### Multi-Field Custom Validators"
   ]
  },
  {
   "cell_type": "markdown",
   "id": "d6d90024",
   "metadata": {},
   "source": [
    "In fact, we can define validators that can validate a field based on the contents of fields that are defined **above** it in the class, **and** passed validation."
   ]
  },
  {
   "cell_type": "markdown",
   "id": "94c9e49a",
   "metadata": {},
   "source": [
    "Let's try this example, where we define a polygon, with a polygon type (based on an enumeration), and a series of points that defines each vertex, and we want to validate the number of vertices provided based on the polygon type."
   ]
  },
  {
   "cell_type": "code",
   "execution_count": 79,
   "id": "360bbfbf",
   "metadata": {},
   "outputs": [],
   "source": [
    "from enum import Enum\n",
    "from typing import List, Tuple, Union"
   ]
  },
  {
   "cell_type": "code",
   "execution_count": 80,
   "id": "e91b6f2f",
   "metadata": {},
   "outputs": [],
   "source": [
    "class PolygonType(Enum):\n",
    "    triangle = 3\n",
    "    tetragon = 4\n",
    "    pentagon = 5\n",
    "    hexagon = 6    "
   ]
  },
  {
   "cell_type": "code",
   "execution_count": 81,
   "id": "01847269",
   "metadata": {},
   "outputs": [
    {
     "data": {
      "text/plain": [
       "'triangle'"
      ]
     },
     "execution_count": 81,
     "metadata": {},
     "output_type": "execute_result"
    }
   ],
   "source": [
    "t = PolygonType.triangle\n",
    "t.name"
   ]
  },
  {
   "cell_type": "code",
   "execution_count": 82,
   "id": "6a8f1851",
   "metadata": {},
   "outputs": [],
   "source": [
    "class Polygon(CustomBaseModel):\n",
    "    polygon_type: PolygonType\n",
    "    vertices: List[Tuple[Union[int, float], Union[int, float]]]\n",
    "        \n",
    "    @validator('vertices')\n",
    "    def validate_vertices(cls, value, values):\n",
    "        # values has access to fields defined \"above\" itself in the class, and only as\n",
    "        # long as that field also passed its validation\n",
    "        polygon_type = values.get('polygon_type')\n",
    "        if polygon_type:\n",
    "            num_vertices_required = polygon_type.value\n",
    "            if len(value) != num_vertices_required:\n",
    "                raise ValueError(\n",
    "                    f\"For a {polygon_type.name}, exactly {polygon_type.value} \"\n",
    "                    \"vertices are required.\"\n",
    "                )\n",
    "        return value"
   ]
  },
  {
   "cell_type": "markdown",
   "id": "a731ae49",
   "metadata": {},
   "source": [
    "Now let's try to see how this model behaves:"
   ]
  },
  {
   "cell_type": "code",
   "execution_count": 83,
   "id": "c76d6817",
   "metadata": {},
   "outputs": [
    {
     "data": {
      "text/plain": [
       "Polygon(polygon_type=<PolygonType.triangle: 3>, vertices=[(1, 1), (2, 2), (3, 3)])"
      ]
     },
     "execution_count": 83,
     "metadata": {},
     "output_type": "execute_result"
    }
   ],
   "source": [
    "Polygon(polygon_type=PolygonType.triangle, vertices = [(1, 1), (2, 2), (3, 3)])"
   ]
  },
  {
   "cell_type": "code",
   "execution_count": 84,
   "id": "cf16c08f",
   "metadata": {},
   "outputs": [
    {
     "name": "stdout",
     "output_type": "stream",
     "text": [
      "2 validation errors for Polygon\n",
      "vertices -> 1 -> 1\n",
      "  value is not a valid integer (type=type_error.integer)\n",
      "vertices -> 1 -> 1\n",
      "  value is not a valid float (type=type_error.float)\n"
     ]
    }
   ],
   "source": [
    "try:\n",
    "    Polygon(polygon_type=PolygonType.triangle, vertices=[(1, 1), (2, 2+2j), (3, 3)])\n",
    "except ValidationError as ex:\n",
    "    print(ex)"
   ]
  },
  {
   "cell_type": "code",
   "execution_count": 85,
   "id": "a5ff9f52",
   "metadata": {},
   "outputs": [
    {
     "name": "stdout",
     "output_type": "stream",
     "text": [
      "1 validation error for Polygon\n",
      "vertices\n",
      "  For a pentagon, exactly 5 vertices are required. (type=value_error)\n"
     ]
    }
   ],
   "source": [
    "try:\n",
    "    Polygon(polygon_type=PolygonType.pentagon, vertices=[(1, 1), (2, 2), (3, 3)])\n",
    "except ValidationError as ex:\n",
    "    print(ex)"
   ]
  },
  {
   "cell_type": "code",
   "execution_count": 86,
   "id": "47294108",
   "metadata": {},
   "outputs": [
    {
     "name": "stdout",
     "output_type": "stream",
     "text": [
      "1 validation error for Polygon\n",
      "polygonType\n",
      "  value is not a valid enumeration member; permitted: 3, 4, 5, 6 (type=type_error.enum; enum_values=[<PolygonType.triangle: 3>, <PolygonType.tetragon: 4>, <PolygonType.pentagon: 5>, <PolygonType.hexagon: 6>])\n"
     ]
    }
   ],
   "source": [
    "try:\n",
    "    Polygon(polygon_type=10, vertices = [(1, 1)])\n",
    "except ValidationError as ex:\n",
    "    print(ex)"
   ]
  },
  {
   "cell_type": "markdown",
   "id": "8a32eba1",
   "metadata": {},
   "source": [
    "There's quite a bit more to validators, so check out the docs [here](https://pydantic-docs.helpmanual.io/usage/validators/)."
   ]
  },
  {
   "cell_type": "markdown",
   "id": "ff305c6f",
   "metadata": {},
   "source": [
    "#### Model Composition"
   ]
  },
  {
   "cell_type": "markdown",
   "id": "cb76aeb8",
   "metadata": {},
   "source": [
    "Finally, we can create models that are composed of other models, allowing to easily create complex nested models with ease - and with full serialization/deserialization capabilities too."
   ]
  },
  {
   "cell_type": "markdown",
   "id": "0892214e",
   "metadata": {},
   "source": [
    "For example, let's say we want to model a simple blog post, using this model:\n",
    "\n",
    "- post\n",
    "    - byline (one or more authors)\n",
    "        - author:\n",
    "            - first_name (required, min 2 chars, max 20 chars)\n",
    "            - last_name (required, min 1 char, max 20 chars)\n",
    "            - display_name (optional, default to first name, initial of last name, min 1 char, max 25 chars)\n",
    "    - title (required, at least 10 characters, no more than 50, force title case)\n",
    "    - sub title (optional, if present at least 20 characters, max 100)\n",
    "    - body (required, at least 100 characters, no upper limit)\n",
    "    - links (0 or more)\n",
    "        - link:\n",
    "            - name (required, min 5 characters, max 25 characters)\n",
    "            - url (required, valid url, that must include scheme (http/https))"
   ]
  },
  {
   "cell_type": "markdown",
   "id": "8d49a9a7",
   "metadata": {},
   "source": [
    "Let's start by defining models for the parts that make up the overall post."
   ]
  },
  {
   "cell_type": "markdown",
   "id": "d02a4b0e",
   "metadata": {},
   "source": [
    "The `Author` model first:"
   ]
  },
  {
   "cell_type": "code",
   "execution_count": 87,
   "id": "b1712a65",
   "metadata": {},
   "outputs": [],
   "source": [
    "class Author(CustomBaseModel):\n",
    "    first_name: constr(min_length=1, max_length=20, strip_whitespace=True)\n",
    "    last_name: constr(min_length=1, max_length=20, strip_whitespace=True)\n",
    "    display_name: constr(min_length=1, max_length=25) = None\n",
    "\n",
    "    # always = True forces the validator to run, even if display_name is None, this\n",
    "    # is how we can set a dynamic default value\n",
    "    @validator(\"display_name\", always=True)  \n",
    "    def validate_display_name(cls, value, values):\n",
    "        # validator runs, even if previous fields did not validate properly - so \n",
    "        # we will need to run our code only if prior fields validated OK.\n",
    "        if not value and 'first_name' in values and 'last_name' in values:\n",
    "            first_name = values['first_name']\n",
    "            last_name = values['last_name']\n",
    "            return f\"{first_name} {(last_name[0]).upper()}\"\n",
    "        return value"
   ]
  },
  {
   "cell_type": "markdown",
   "id": "1403f3cf",
   "metadata": {},
   "source": [
    "Let's try this class out:"
   ]
  },
  {
   "cell_type": "code",
   "execution_count": 88,
   "id": "cd977165",
   "metadata": {},
   "outputs": [
    {
     "data": {
      "text/plain": [
       "Author(first_name='Gottfried', last_name='Leibniz', display_name='Gottfried L')"
      ]
     },
     "execution_count": 88,
     "metadata": {},
     "output_type": "execute_result"
    }
   ],
   "source": [
    "Author(first_name=\"Gottfried\", last_name=\"Leibniz\")"
   ]
  },
  {
   "cell_type": "code",
   "execution_count": 89,
   "id": "b0eaca57",
   "metadata": {},
   "outputs": [
    {
     "data": {
      "text/plain": [
       "Author(first_name='John', last_name='von Neumann', display_name='Johnny')"
      ]
     },
     "execution_count": 89,
     "metadata": {},
     "output_type": "execute_result"
    }
   ],
   "source": [
    "Author(first_name='John', last_name=\"von Neumann\", display_name=\"Johnny\")    "
   ]
  },
  {
   "cell_type": "code",
   "execution_count": 90,
   "id": "f5fd7887",
   "metadata": {},
   "outputs": [
    {
     "name": "stdout",
     "output_type": "stream",
     "text": [
      "1 validation error for Author\n",
      "lastName\n",
      "  ensure this value has at most 20 characters (type=value_error.any_str.max_length; limit_value=20)\n"
     ]
    }
   ],
   "source": [
    "try:\n",
    "    Author(first_name=\"X\", last_name=\"X\" * 50)\n",
    "except ValidationError as ex:\n",
    "    print(ex)"
   ]
  },
  {
   "cell_type": "markdown",
   "id": "8d115bf4",
   "metadata": {},
   "source": [
    "Next, let's create a model for the links:"
   ]
  },
  {
   "cell_type": "code",
   "execution_count": 91,
   "id": "ba08b607",
   "metadata": {},
   "outputs": [],
   "source": [
    "from pydantic import AnyHttpUrl"
   ]
  },
  {
   "cell_type": "code",
   "execution_count": 92,
   "id": "17086db1",
   "metadata": {},
   "outputs": [],
   "source": [
    "class Link(CustomBaseModel):\n",
    "    name: constr(min_length=5, max_length=25)\n",
    "    url: AnyHttpUrl"
   ]
  },
  {
   "cell_type": "markdown",
   "id": "4b5a935d",
   "metadata": {},
   "source": [
    "And let's try it out."
   ]
  },
  {
   "cell_type": "code",
   "execution_count": 93,
   "id": "b05c98d0",
   "metadata": {},
   "outputs": [
    {
     "data": {
      "text/plain": [
       "Link(name='google', url=AnyHttpUrl('https://www.google.com', ))"
      ]
     },
     "execution_count": 93,
     "metadata": {},
     "output_type": "execute_result"
    }
   ],
   "source": [
    "Link(name=\"google\", url=\"https://www.google.com\")"
   ]
  },
  {
   "cell_type": "code",
   "execution_count": 94,
   "id": "13d8608d",
   "metadata": {},
   "outputs": [
    {
     "name": "stdout",
     "output_type": "stream",
     "text": [
      "1 validation error for Link\n",
      "url\n",
      "  invalid or missing URL scheme (type=value_error.url.scheme)\n"
     ]
    }
   ],
   "source": [
    "try:\n",
    "    Link(name=\"google\", url=\"www.google.com\")\n",
    "except ValidationError as ex:\n",
    "    print(ex)"
   ]
  },
  {
   "cell_type": "code",
   "execution_count": 95,
   "id": "3e94706c",
   "metadata": {},
   "outputs": [
    {
     "name": "stdout",
     "output_type": "stream",
     "text": [
      "1 validation error for Link\n",
      "url\n",
      "  URL invalid, extra characters found after valid URL: ' a valid url' (type=value_error.url.extra; extra= a valid url)\n"
     ]
    }
   ],
   "source": [
    "try:\n",
    "    Link(name=\"google\", url=\"https://not a valid url\")\n",
    "except ValidationError as ex:\n",
    "    print(ex)"
   ]
  },
  {
   "cell_type": "markdown",
   "id": "38b0c793",
   "metadata": {},
   "source": [
    "Now, it's time to create our main model."
   ]
  },
  {
   "cell_type": "markdown",
   "id": "d1744b95",
   "metadata": {},
   "source": [
    "We start by adding the byline and title."
   ]
  },
  {
   "cell_type": "code",
   "execution_count": 96,
   "id": "b9aafba6",
   "metadata": {},
   "outputs": [],
   "source": [
    "from pydantic import conlist"
   ]
  },
  {
   "cell_type": "code",
   "execution_count": 97,
   "id": "1569240f",
   "metadata": {},
   "outputs": [],
   "source": [
    "class Post(CustomBaseModel):\n",
    "    byline: conlist(item_type=Author, min_items=1)\n",
    "    title: constr(min_length=10, max_length=50, strip_whitespace=True)\n",
    "    \n",
    "    @validator('title')\n",
    "    def validate_title(cls, value):\n",
    "        return value and value.title()"
   ]
  },
  {
   "cell_type": "code",
   "execution_count": 98,
   "id": "1c1ad324",
   "metadata": {},
   "outputs": [
    {
     "data": {
      "text/plain": [
       "Post(byline=[Author(first_name='Isaac', last_name='Newton', display_name='Isaac N')], title='Some Title')"
      ]
     },
     "execution_count": 98,
     "metadata": {},
     "output_type": "execute_result"
    }
   ],
   "source": [
    "Post(\n",
    "    byline=[\n",
    "        Author(first_name=\"Isaac\", last_name=\"Newton\")\n",
    "    ], \n",
    "    title=\"some title\"\n",
    ")"
   ]
  },
  {
   "cell_type": "markdown",
   "id": "8490e353",
   "metadata": {},
   "source": [
    "Next we add the sub title, and the body:"
   ]
  },
  {
   "cell_type": "code",
   "execution_count": 99,
   "id": "2f231910",
   "metadata": {},
   "outputs": [],
   "source": [
    "class Post(CustomBaseModel):\n",
    "    byline: conlist(item_type=Author, min_items=1)\n",
    "    title: constr(min_length=10, max_length=50, strip_whitespace=True)\n",
    "    sub_title: constr(min_length=20, max_length=100, strip_whitespace=True) = None\n",
    "    body: constr(min_length=100)\n",
    "        \n",
    "    @validator('title')\n",
    "    def validate_title(cls, value):\n",
    "        return value and value.title()"
   ]
  },
  {
   "cell_type": "code",
   "execution_count": 100,
   "id": "db2720f1",
   "metadata": {},
   "outputs": [
    {
     "data": {
      "text/plain": [
       "Post(byline=[Author(first_name='Isaac', last_name='Newton', display_name='Isaac N')], title='Some Title', sub_title=None, body='xxxxxxxxxxxxxxxxxxxxxxxxxxxxxxxxxxxxxxxxxxxxxxxxxxxxxxxxxxxxxxxxxxxxxxxxxxxxxxxxxxxxxxxxxxxxxxxxxxxx')"
      ]
     },
     "execution_count": 100,
     "metadata": {},
     "output_type": "execute_result"
    }
   ],
   "source": [
    "Post(\n",
    "    byline=[\n",
    "        Author(first_name=\"Isaac\", last_name=\"Newton\")\n",
    "    ], \n",
    "    title=\"some title\",\n",
    "    body=\"x\" * 100\n",
    ")"
   ]
  },
  {
   "cell_type": "code",
   "execution_count": 101,
   "id": "703c7912",
   "metadata": {},
   "outputs": [
    {
     "data": {
      "text/plain": [
       "Post(byline=[Author(first_name='Isaac', last_name='Newton', display_name='Isaac N')], title='Some Title', sub_title='A slightly longer subtitle', body='****************************************************************************************************')"
      ]
     },
     "execution_count": 101,
     "metadata": {},
     "output_type": "execute_result"
    }
   ],
   "source": [
    "Post(\n",
    "    byline=[\n",
    "        Author(first_name=\"Isaac\", last_name=\"Newton\")\n",
    "    ], \n",
    "    title=\"some title\",\n",
    "    sub_title=\"A slightly longer subtitle\",\n",
    "    body=\"*\" * 100\n",
    ")"
   ]
  },
  {
   "cell_type": "markdown",
   "id": "4d785702",
   "metadata": {},
   "source": [
    "Finally we can add the links:"
   ]
  },
  {
   "cell_type": "code",
   "execution_count": 102,
   "id": "77db30d3",
   "metadata": {},
   "outputs": [],
   "source": [
    "class Post(CustomBaseModel):\n",
    "    byline: conlist(item_type=Author, min_items=1)\n",
    "    title: constr(min_length=10, max_length=50, strip_whitespace=True)\n",
    "    sub_title: constr(min_length=20, max_length=100, strip_whitespace=True) = None\n",
    "    body: constr(min_length=100)\n",
    "    links: List[Link] = []\n",
    "\n",
    "    @validator('title')\n",
    "    def validate_title(cls, value):\n",
    "        return value and value.title()"
   ]
  },
  {
   "cell_type": "markdown",
   "id": "ec5deb73",
   "metadata": {},
   "source": [
    "Let's just recap all our models here:"
   ]
  },
  {
   "cell_type": "code",
   "execution_count": 103,
   "id": "617d4dd1",
   "metadata": {},
   "outputs": [],
   "source": [
    "class Author(CustomBaseModel):\n",
    "    first_name: constr(min_length=1, max_length=20, strip_whitespace=True)\n",
    "    last_name: constr(min_length=1, max_length=20, strip_whitespace=True)\n",
    "    display_name: constr(min_length=1, max_length=25) = None\n",
    "\n",
    "    @validator(\"display_name\", always=True)  \n",
    "    def validate_display_name(cls, value, values):\n",
    "        if not value and 'first_name' in values and 'last_name' in values:\n",
    "            first_name = values['first_name']\n",
    "            last_name = values['last_name']\n",
    "            return f\"{first_name} {(last_name[0]).upper()}\"\n",
    "        return value\n",
    "    \n",
    "class Link(CustomBaseModel):\n",
    "    name: constr(min_length=5, max_length=25)\n",
    "    url: AnyHttpUrl\n",
    "        \n",
    "class Post(CustomBaseModel):\n",
    "    byline: conlist(item_type=Author, min_items=1)\n",
    "    title: constr(min_length=10, max_length=50, strip_whitespace=True)\n",
    "    sub_title: constr(min_length=20, max_length=100, strip_whitespace=True) = None\n",
    "    body: constr(min_length=100)\n",
    "    links: List[Link] = []\n",
    "\n",
    "    @validator('title')\n",
    "    def validate_title(cls, value):\n",
    "        return value and value.title()"
   ]
  },
  {
   "cell_type": "markdown",
   "id": "3baeea90",
   "metadata": {},
   "source": [
    "And let's create a full post:"
   ]
  },
  {
   "cell_type": "code",
   "execution_count": 104,
   "id": "e602d76d",
   "metadata": {},
   "outputs": [],
   "source": [
    "post = Post(\n",
    "    byline=[\n",
    "        Author(first_name=\"John\", last_name=\"von Neumann\", display_name=\"Johnny V\"),\n",
    "        Author(first_name=\"Oskar\", last_name=\"Morgenstern\")\n",
    "    ],\n",
    "    title=\"Theory of Games and Economic Behavior\",\n",
    "    sub_title=\"A non-mathematical overview\",\n",
    "    body=\"Lorem ipsum sit dolor amet.\" * 20,\n",
    "    links=[\n",
    "        Link(name=\"Original Book\", url=\"https://archive.org/details/in.ernet.dli.2015.215284\"),\n",
    "        Link(name=\"Review\", url = \"https://www.ams.org/journals/bull/1945-51-07/S0002-9904-1945-08391-8/S0002-9904-1945-08391-8.pdf\")\n",
    "    ]\n",
    ")"
   ]
  },
  {
   "cell_type": "markdown",
   "id": "090c22c9",
   "metadata": {},
   "source": [
    "Now we can easily serialize this to JSON for example:"
   ]
  },
  {
   "cell_type": "code",
   "execution_count": 105,
   "id": "401f627f",
   "metadata": {},
   "outputs": [
    {
     "name": "stdout",
     "output_type": "stream",
     "text": [
      "{\n",
      "  \"byline\": [\n",
      "    {\n",
      "      \"first_name\": \"John\",\n",
      "      \"last_name\": \"von Neumann\",\n",
      "      \"display_name\": \"Johnny V\"\n",
      "    },\n",
      "    {\n",
      "      \"first_name\": \"Oskar\",\n",
      "      \"last_name\": \"Morgenstern\",\n",
      "      \"display_name\": \"Oskar M\"\n",
      "    }\n",
      "  ],\n",
      "  \"title\": \"Theory Of Games And Economic Behavior\",\n",
      "  \"sub_title\": \"A non-mathematical overview\",\n",
      "  \"body\": \"Lorem ipsum sit dolor amet.Lorem ipsum sit dolor amet.Lorem ipsum sit dolor amet.Lorem ipsum sit dolor amet.Lorem ipsum sit dolor amet.Lorem ipsum sit dolor amet.Lorem ipsum sit dolor amet.Lorem ipsum sit dolor amet.Lorem ipsum sit dolor amet.Lorem ipsum sit dolor amet.Lorem ipsum sit dolor amet.Lorem ipsum sit dolor amet.Lorem ipsum sit dolor amet.Lorem ipsum sit dolor amet.Lorem ipsum sit dolor amet.Lorem ipsum sit dolor amet.Lorem ipsum sit dolor amet.Lorem ipsum sit dolor amet.Lorem ipsum sit dolor amet.Lorem ipsum sit dolor amet.\",\n",
      "  \"links\": [\n",
      "    {\n",
      "      \"name\": \"Original Book\",\n",
      "      \"url\": \"https://archive.org/details/in.ernet.dli.2015.215284\"\n",
      "    },\n",
      "    {\n",
      "      \"name\": \"Review\",\n",
      "      \"url\": \"https://www.ams.org/journals/bull/1945-51-07/S0002-9904-1945-08391-8/S0002-9904-1945-08391-8.pdf\"\n",
      "    }\n",
      "  ]\n",
      "}\n"
     ]
    }
   ],
   "source": [
    "print(post.json(indent=2))"
   ]
  },
  {
   "cell_type": "markdown",
   "id": "95c610b8",
   "metadata": {},
   "source": [
    "And of course, we can deserialize a JSON string back to an instance of our model:"
   ]
  },
  {
   "cell_type": "code",
   "execution_count": 106,
   "id": "6cc2599f",
   "metadata": {},
   "outputs": [],
   "source": [
    "json_str = '''\n",
    "{\n",
    "  \"byline\": [\n",
    "    {\n",
    "      \"first_name\": \"John\",\n",
    "      \"last_name\": \"von Neumann\",\n",
    "      \"display_name\": \"John V\"\n",
    "    },\n",
    "    {\n",
    "      \"first_name\": \"Oskar\",\n",
    "      \"last_name\": \"Morgenstern\",\n",
    "      \"display_name\": null\n",
    "    }\n",
    "  ],\n",
    "  \"title\": \"Theory Of Games And Economic Behavior\",\n",
    "  \"sub_title\": \"A non-mathematical overview\",\n",
    "  \"body\": \"Lorem ipsum sit dolor amet.Lorem ipsum sit dolor amet.Lorem ipsum sit dolor amet.Lorem ipsum sit dolor amet.Lorem ipsum sit dolor amet.Lorem ipsum sit dolor amet.Lorem ipsum sit dolor amet.Lorem ipsum sit dolor amet.Lorem ipsum sit dolor amet.Lorem ipsum sit dolor amet.Lorem ipsum sit dolor amet.Lorem ipsum sit dolor amet.Lorem ipsum sit dolor amet.Lorem ipsum sit dolor amet.Lorem ipsum sit dolor amet.Lorem ipsum sit dolor amet.Lorem ipsum sit dolor amet.Lorem ipsum sit dolor amet.Lorem ipsum sit dolor amet.Lorem ipsum sit dolor amet.\",\n",
    "  \"links\": [\n",
    "    {\n",
    "      \"name\": \"Original Book\",\n",
    "      \"url\": \"https://archive.org/details/in.ernet.dli.2015.215284\"\n",
    "    },\n",
    "    {\n",
    "      \"name\": \"Review\",\n",
    "      \"url\": \"https://www.ams.org/journals/bull/1945-51-07/S0002-9904-1945-08391-8/S0002-9904-1945-08391-8.pdf\"\n",
    "    }\n",
    "  ]\n",
    "}\n",
    "'''"
   ]
  },
  {
   "cell_type": "code",
   "execution_count": 107,
   "id": "1511e28e",
   "metadata": {},
   "outputs": [],
   "source": [
    "p = Post.parse_raw(json_str)"
   ]
  },
  {
   "cell_type": "code",
   "execution_count": 108,
   "id": "76bdd75f",
   "metadata": {},
   "outputs": [
    {
     "data": {
      "text/plain": [
       "Post(byline=[Author(first_name='John', last_name='von Neumann', display_name='John V'), Author(first_name='Oskar', last_name='Morgenstern', display_name='Oskar M')], title='Theory Of Games And Economic Behavior', sub_title='A non-mathematical overview', body='Lorem ipsum sit dolor amet.Lorem ipsum sit dolor amet.Lorem ipsum sit dolor amet.Lorem ipsum sit dolor amet.Lorem ipsum sit dolor amet.Lorem ipsum sit dolor amet.Lorem ipsum sit dolor amet.Lorem ipsum sit dolor amet.Lorem ipsum sit dolor amet.Lorem ipsum sit dolor amet.Lorem ipsum sit dolor amet.Lorem ipsum sit dolor amet.Lorem ipsum sit dolor amet.Lorem ipsum sit dolor amet.Lorem ipsum sit dolor amet.Lorem ipsum sit dolor amet.Lorem ipsum sit dolor amet.Lorem ipsum sit dolor amet.Lorem ipsum sit dolor amet.Lorem ipsum sit dolor amet.', links=[Link(name='Original Book', url=AnyHttpUrl('https://archive.org/details/in.ernet.dli.2015.215284', )), Link(name='Review', url=AnyHttpUrl('https://www.ams.org/journals/bull/1945-51-07/S0002-9904-1945-08391-8/S0002-9904-1945-08391-8.pdf', ))])"
      ]
     },
     "execution_count": 108,
     "metadata": {},
     "output_type": "execute_result"
    }
   ],
   "source": [
    "p"
   ]
  },
  {
   "cell_type": "markdown",
   "id": "b9a92b69",
   "metadata": {},
   "source": [
    "We can technically create our model instance piecemeal, but we have to watch out for fields that are not optional:"
   ]
  },
  {
   "cell_type": "code",
   "execution_count": 109,
   "id": "fc106700",
   "metadata": {},
   "outputs": [],
   "source": [
    "p = Post(\n",
    "    byline=[\n",
    "        Author(first_name=\"John\", last_name=\"von Neumann\", display_name=\"Johnny V\"),\n",
    "    ],\n",
    "    title=\"Theory of Games and Economic Behavior\",\n",
    "    body=\"Lorem ipsum sit dolor amet.\" * 20,\n",
    ")"
   ]
  },
  {
   "cell_type": "code",
   "execution_count": 110,
   "id": "997571da",
   "metadata": {},
   "outputs": [],
   "source": [
    "p.byline.append(Author(first_name=\"Oskar\", last_name=\"Morgenstern\"))"
   ]
  },
  {
   "cell_type": "code",
   "execution_count": 111,
   "id": "d8e259ea",
   "metadata": {},
   "outputs": [],
   "source": [
    "p.sub_title = \"A non-mathematical overview\""
   ]
  },
  {
   "cell_type": "code",
   "execution_count": 112,
   "id": "5dbc7885",
   "metadata": {},
   "outputs": [],
   "source": [
    "p.links = [\n",
    "    Link(name=\"Original Book\", url=\"https://archive.org/details/in.ernet.dli.2015.215284\")\n",
    "]"
   ]
  },
  {
   "cell_type": "code",
   "execution_count": 113,
   "id": "d3125bdf",
   "metadata": {},
   "outputs": [
    {
     "name": "stdout",
     "output_type": "stream",
     "text": [
      "{\n",
      "  \"byline\": [\n",
      "    {\n",
      "      \"firstName\": \"John\",\n",
      "      \"lastName\": \"von Neumann\",\n",
      "      \"displayName\": \"Johnny V\"\n",
      "    },\n",
      "    {\n",
      "      \"firstName\": \"Oskar\",\n",
      "      \"lastName\": \"Morgenstern\",\n",
      "      \"displayName\": \"Oskar M\"\n",
      "    }\n",
      "  ],\n",
      "  \"title\": \"Theory Of Games And Economic Behavior\",\n",
      "  \"subTitle\": \"A non-mathematical overview\",\n",
      "  \"body\": \"Lorem ipsum sit dolor amet.Lorem ipsum sit dolor amet.Lorem ipsum sit dolor amet.Lorem ipsum sit dolor amet.Lorem ipsum sit dolor amet.Lorem ipsum sit dolor amet.Lorem ipsum sit dolor amet.Lorem ipsum sit dolor amet.Lorem ipsum sit dolor amet.Lorem ipsum sit dolor amet.Lorem ipsum sit dolor amet.Lorem ipsum sit dolor amet.Lorem ipsum sit dolor amet.Lorem ipsum sit dolor amet.Lorem ipsum sit dolor amet.Lorem ipsum sit dolor amet.Lorem ipsum sit dolor amet.Lorem ipsum sit dolor amet.Lorem ipsum sit dolor amet.Lorem ipsum sit dolor amet.\",\n",
      "  \"links\": [\n",
      "    {\n",
      "      \"name\": \"Original Book\",\n",
      "      \"url\": \"https://archive.org/details/in.ernet.dli.2015.215284\"\n",
      "    }\n",
      "  ]\n",
      "}\n"
     ]
    }
   ],
   "source": [
    "print(p.json(by_alias=True, indent=2))"
   ]
  },
  {
   "cell_type": "markdown",
   "id": "b80628cc",
   "metadata": {},
   "source": [
    "#### Generating a JSON Schema"
   ]
  },
  {
   "cell_type": "markdown",
   "id": "73f6fc36",
   "metadata": {},
   "source": [
    "Finally, we can generate the JSON schema for our model this way:"
   ]
  },
  {
   "cell_type": "code",
   "execution_count": 114,
   "id": "d7922f2e",
   "metadata": {},
   "outputs": [
    {
     "name": "stdout",
     "output_type": "stream",
     "text": [
      "{\n",
      "  \"title\": \"Post\",\n",
      "  \"type\": \"object\",\n",
      "  \"properties\": {\n",
      "    \"byline\": {\n",
      "      \"title\": \"Byline\",\n",
      "      \"minItems\": 1,\n",
      "      \"type\": \"array\",\n",
      "      \"items\": {\n",
      "        \"$ref\": \"#/definitions/Author\"\n",
      "      }\n",
      "    },\n",
      "    \"title\": {\n",
      "      \"title\": \"Title\",\n",
      "      \"minLength\": 10,\n",
      "      \"maxLength\": 50,\n",
      "      \"type\": \"string\"\n",
      "    },\n",
      "    \"subTitle\": {\n",
      "      \"title\": \"Subtitle\",\n",
      "      \"minLength\": 20,\n",
      "      \"maxLength\": 100,\n",
      "      \"type\": \"string\"\n",
      "    },\n",
      "    \"body\": {\n",
      "      \"title\": \"Body\",\n",
      "      \"minLength\": 100,\n",
      "      \"type\": \"string\"\n",
      "    },\n",
      "    \"links\": {\n",
      "      \"title\": \"Links\",\n",
      "      \"default\": [],\n",
      "      \"type\": \"array\",\n",
      "      \"items\": {\n",
      "        \"$ref\": \"#/definitions/Link\"\n",
      "      }\n",
      "    }\n",
      "  },\n",
      "  \"required\": [\n",
      "    \"byline\",\n",
      "    \"title\",\n",
      "    \"body\"\n",
      "  ],\n",
      "  \"additionalProperties\": false,\n",
      "  \"definitions\": {\n",
      "    \"Author\": {\n",
      "      \"title\": \"Author\",\n",
      "      \"type\": \"object\",\n",
      "      \"properties\": {\n",
      "        \"firstName\": {\n",
      "          \"title\": \"Firstname\",\n",
      "          \"minLength\": 1,\n",
      "          \"maxLength\": 20,\n",
      "          \"type\": \"string\"\n",
      "        },\n",
      "        \"lastName\": {\n",
      "          \"title\": \"Lastname\",\n",
      "          \"minLength\": 1,\n",
      "          \"maxLength\": 20,\n",
      "          \"type\": \"string\"\n",
      "        },\n",
      "        \"displayName\": {\n",
      "          \"title\": \"Displayname\",\n",
      "          \"minLength\": 1,\n",
      "          \"maxLength\": 25,\n",
      "          \"type\": \"string\"\n",
      "        }\n",
      "      },\n",
      "      \"required\": [\n",
      "        \"firstName\",\n",
      "        \"lastName\"\n",
      "      ],\n",
      "      \"additionalProperties\": false\n",
      "    },\n",
      "    \"Link\": {\n",
      "      \"title\": \"Link\",\n",
      "      \"type\": \"object\",\n",
      "      \"properties\": {\n",
      "        \"name\": {\n",
      "          \"title\": \"Name\",\n",
      "          \"minLength\": 5,\n",
      "          \"maxLength\": 25,\n",
      "          \"type\": \"string\"\n",
      "        },\n",
      "        \"url\": {\n",
      "          \"title\": \"Url\",\n",
      "          \"minLength\": 1,\n",
      "          \"maxLength\": 65536,\n",
      "          \"format\": \"uri\",\n",
      "          \"type\": \"string\"\n",
      "        }\n",
      "      },\n",
      "      \"required\": [\n",
      "        \"name\",\n",
      "        \"url\"\n",
      "      ],\n",
      "      \"additionalProperties\": false\n",
      "    }\n",
      "  }\n",
      "}\n"
     ]
    }
   ],
   "source": [
    "print(Post.schema_json(indent=2))"
   ]
  },
  {
   "cell_type": "markdown",
   "id": "392baee6",
   "metadata": {},
   "source": [
    "Although we covered a lot of functionality in this video, Pydantic has a **lot** more going on that what we looked at here. It's a fantastic library, and I encourage to read more about it in their (great) [documentation](https://pydantic-docs.helpmanual.io/)."
   ]
  }
 ],
 "metadata": {
  "kernelspec": {
   "display_name": "Python 3 (ipykernel)",
   "language": "python",
   "name": "python3"
  },
  "language_info": {
   "codemirror_mode": {
    "name": "ipython",
    "version": 3
   },
   "file_extension": ".py",
   "mimetype": "text/x-python",
   "name": "python",
   "nbconvert_exporter": "python",
   "pygments_lexer": "ipython3",
   "version": "3.11.1"
  }
 },
 "nbformat": 4,
 "nbformat_minor": 5
}
